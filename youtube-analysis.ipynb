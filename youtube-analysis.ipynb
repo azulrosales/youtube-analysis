{
 "cells": [
  {
   "cell_type": "markdown",
   "id": "2a39b934-e21b-4ca9-8d61-11b01c49357a",
   "metadata": {},
   "source": [
    "# EDA: Exploring trends in Popular Videos on YouTube using YouTube API"
   ]
  },
  {
   "cell_type": "code",
   "execution_count": 2,
   "id": "99f54920",
   "metadata": {},
   "outputs": [],
   "source": [
    "import pandas as pd\n",
    "from IPython.display import JSON\n",
    "\n",
    "# Data visualization\n",
    "import seaborn as sns\n",
    "import matplotlib.pyplot as plt\n",
    "import matplotlib.ticker as ticker\n",
    "\n",
    "# Google API\n",
    "from googleapiclient.discovery import build"
   ]
  },
  {
   "cell_type": "code",
   "execution_count": 74,
   "id": "67a8551a",
   "metadata": {},
   "outputs": [],
   "source": [
    "api_key = 'IzaSyDrutKeQG62zE0ACZB-yCixmCW5gAh1cZQ' \n",
    "youtube = build('youtube', 'v3', developerKey=api_key)"
   ]
  },
  {
   "cell_type": "markdown",
   "id": "b210e0d8-8227-4834-947d-6d3410ea86cd",
   "metadata": {
    "tags": []
   },
   "source": [
    "### Data Retrieval"
   ]
  },
  {
   "cell_type": "code",
   "execution_count": 4,
   "id": "61ad5705-ea74-4973-933b-d01d1e875df1",
   "metadata": {},
   "outputs": [],
   "source": [
    "def get_popular_videos(youtube, n_videos, region_code):\n",
    "    '''\n",
    "    Sends a request to YouTube API to get the current most popular videos in a given country.\n",
    "    Arguments:\n",
    "        youtube: googleapiclient.discovery's object\n",
    "        n_videos: number of videos to be retrieved\n",
    "        region_code: country code for which you're retrieving videos\n",
    "    Returns:\n",
    "        JSON response \n",
    "    '''\n",
    "    request = youtube.videos().list(\n",
    "                part='snippet,contentDetails,statistics',\n",
    "                chart='mostPopular',\n",
    "                maxResults=n_videos,\n",
    "                regionCode=region_code)\n",
    "    response = request.execute()\n",
    "    return response"
   ]
  },
  {
   "cell_type": "code",
   "execution_count": 5,
   "id": "da6e9967-66cf-4446-b0f4-fba48cb6fa08",
   "metadata": {},
   "outputs": [],
   "source": [
    "def get_video_categories(youtube, region_code):\n",
    "    '''\n",
    "    Sends a request to YouTube API to get the video categories in a given country.\n",
    "    Arguments:\n",
    "        youtube: googleapiclient.discovery's object\n",
    "        region_code: country code for which you're retrieving videos\n",
    "    Returns:\n",
    "        JSON response \n",
    "    '''\n",
    "    request = youtube.videoCategories().list(\n",
    "                part='snippet',\n",
    "                regionCode=region_code)\n",
    "    response = request.execute()\n",
    "    return response"
   ]
  },
  {
   "cell_type": "code",
   "execution_count": 6,
   "id": "fb577b03-1cc6-403d-a422-56cd4cc4927c",
   "metadata": {},
   "outputs": [],
   "source": [
    "popular_videos_response = get_popular_videos(youtube, n_videos=50, region_code='US')"
   ]
  },
  {
   "cell_type": "code",
   "execution_count": 7,
   "id": "b8e8798a-1e14-4e4e-bee2-dbe6f77497e5",
   "metadata": {},
   "outputs": [
    {
     "data": {
      "application/json": {
       "etag": "AN6qR_cTcK0vBFGHgxIhjb-okSQ",
       "items": [
        {
         "contentDetails": {
          "caption": "true",
          "contentRating": {},
          "definition": "hd",
          "dimension": "2d",
          "duration": "PT5M54S",
          "licensedContent": true,
          "projection": "rectangular",
          "regionRestriction": {
           "blocked": [
            "BY",
            "IO",
            "KP",
            "RU",
            "SS"
           ]
          }
         },
         "etag": "DIRW9OD5d8CAGlvKNKioV7kJtR4",
         "id": "b7QlX3yR2xs",
         "kind": "youtube#video",
         "snippet": {
          "categoryId": "10",
          "channelId": "UCANLZYMidaCbLQFWXBC95Jg",
          "channelTitle": "TaylorSwiftVEVO",
          "description": "Official music video for “Bejeweled” by Taylor Swift from the album ‘Midnights’.\n\nBuy/Download/Stream ‘Midnights’: https://taylor.lnk.to/taylorswiftmidnights \n\n►Subscribe to Taylor Swift on YouTube: https://ts.lnk.to/subscribe \n \n►Shop Merch: http://taylorswift.lnk.to/store\n\n►Follow Taylor Swift Online:\nTikTok: http://tiktok.com/@taylorswift\nInstagram: http://instagram.com/taylorswift  \nTwitter: http://twitter.com/taylorswift13  \nSnapchat: http://snapchat.com/add/taylorswift\nFacebook: http://facebook.com/taylorswift  \nTumblr: http://taylorswift.tumblr.com  \nWebsite: http://www.taylorswift.com  \n\n►Follow Taylor Nation Online\nTikTok: http://tiktok.com/@taylornation\nInstagram: http://instagram.com/taylornation  \nTwitter: http://twitter.com/taylornation13\nTumblr: http://taylornation.tumblr.com  \n\n►Lyrics:\nWritten by Taylor Swift and Jack Antonoff\n\nBaby love, I think I’ve been a little too kind\nDidn’t notice you walking all over my peace of mind\nIn the shoes I gave you as a present\nPutting someone first only works\nWhen you’re in their top 5\nAnd by the way\nI’m going out tonight\n\nBest believe I’m still bejeweled\nWhen I walk in the room\nI can still make the whole place shimmer\nAnd when I meet the band\nThey ask, “Do you have a man?”\nI could still say, “I don’t remember”\nFamiliarity breeds contempt\nDon’t put me in the basement\nWhen I want the penthouse of your heart\nDiamonds in my eyes\nI polish up real\nI polish up real nice\nNICE!\n\nBaby boy, I think I’ve been too good of a girl \nToo good of a girl\nDid all the extra credit then got graded on a curve\nI think it’s time to teach some lessons\nI made you my world\nHave you heard\nI can reclaim the land\nAnd I miss you\nBut I miss sparkling …\n\nChorus\n\nSapphire tears on my face\nSadness became my whole sky\nBut some guy said my aura’s moonstone\nJust ‘cause he was high\nAnd we’re dancing all night\nAnd you can try\nTo change my mind\nBut you might have to wait in line\nWhat’s a girl gonna do?\nA diamond’s gotta shine\n\nChorus\nAnd we’re dancing all night\nAnd you can try\nTo change my mind\nBut you might have to wait in line\nWhat’s a girl gonna do?\nWhat’s a girl gonna do? \nI polish up nice\nBest believe I’m still bejeweled\nWhen I walk in the room\nI can still make the whole place shimmer\n\nDirector: Taylor Swift\nDirector of Photography: Rina Yang\nProducer: Sara D'Alessio\nEditor: Chancler Haynes\nProduction Designer: Ethan Tobman\n1st AD: Anthony Dimino\nVisual Effects: Parliament\nProduction Companies: Taylor Swift Productions & Revolution Pictures\n\n#taylorswift #midnights #bejeweled \n\nMusic video by Taylor Swift performing Bejeweled. © 2022 Taylor Swift",
          "liveBroadcastContent": "none",
          "localized": {
           "description": "Official music video for “Bejeweled” by Taylor Swift from the album ‘Midnights’.\n\nBuy/Download/Stream ‘Midnights’: https://taylor.lnk.to/taylorswiftmidnights \n\n►Subscribe to Taylor Swift on YouTube: https://ts.lnk.to/subscribe \n \n►Shop Merch: http://taylorswift.lnk.to/store\n\n►Follow Taylor Swift Online:\nTikTok: http://tiktok.com/@taylorswift\nInstagram: http://instagram.com/taylorswift  \nTwitter: http://twitter.com/taylorswift13  \nSnapchat: http://snapchat.com/add/taylorswift\nFacebook: http://facebook.com/taylorswift  \nTumblr: http://taylorswift.tumblr.com  \nWebsite: http://www.taylorswift.com  \n\n►Follow Taylor Nation Online\nTikTok: http://tiktok.com/@taylornation\nInstagram: http://instagram.com/taylornation  \nTwitter: http://twitter.com/taylornation13\nTumblr: http://taylornation.tumblr.com  \n\n►Lyrics:\nWritten by Taylor Swift and Jack Antonoff\n\nBaby love, I think I’ve been a little too kind\nDidn’t notice you walking all over my peace of mind\nIn the shoes I gave you as a present\nPutting someone first only works\nWhen you’re in their top 5\nAnd by the way\nI’m going out tonight\n\nBest believe I’m still bejeweled\nWhen I walk in the room\nI can still make the whole place shimmer\nAnd when I meet the band\nThey ask, “Do you have a man?”\nI could still say, “I don’t remember”\nFamiliarity breeds contempt\nDon’t put me in the basement\nWhen I want the penthouse of your heart\nDiamonds in my eyes\nI polish up real\nI polish up real nice\nNICE!\n\nBaby boy, I think I’ve been too good of a girl \nToo good of a girl\nDid all the extra credit then got graded on a curve\nI think it’s time to teach some lessons\nI made you my world\nHave you heard\nI can reclaim the land\nAnd I miss you\nBut I miss sparkling …\n\nChorus\n\nSapphire tears on my face\nSadness became my whole sky\nBut some guy said my aura’s moonstone\nJust ‘cause he was high\nAnd we’re dancing all night\nAnd you can try\nTo change my mind\nBut you might have to wait in line\nWhat’s a girl gonna do?\nA diamond’s gotta shine\n\nChorus\nAnd we’re dancing all night\nAnd you can try\nTo change my mind\nBut you might have to wait in line\nWhat’s a girl gonna do?\nWhat’s a girl gonna do? \nI polish up nice\nBest believe I’m still bejeweled\nWhen I walk in the room\nI can still make the whole place shimmer\n\nDirector: Taylor Swift\nDirector of Photography: Rina Yang\nProducer: Sara D'Alessio\nEditor: Chancler Haynes\nProduction Designer: Ethan Tobman\n1st AD: Anthony Dimino\nVisual Effects: Parliament\nProduction Companies: Taylor Swift Productions & Revolution Pictures\n\n#taylorswift #midnights #bejeweled \n\nMusic video by Taylor Swift performing Bejeweled. © 2022 Taylor Swift",
           "title": "Taylor Swift - Bejeweled (Official Music Video)"
          },
          "publishedAt": "2022-10-25T04:00:09Z",
          "tags": [
           "taylor swift",
           "taylor",
           "swift",
           "bejeweled",
           "midnights",
           "taylor swift new music",
           "taylor swift midnights",
           "taylor swift album",
           "taylor swift new album",
           "swifties",
           "taylors version",
           "taylor swift lyrics",
           "official taylor swift video",
           "taylor swift challenge",
           "anti hero challenge",
           "taylor swift tiktok"
          ],
          "thumbnails": {
           "default": {
            "height": 90,
            "url": "https://i.ytimg.com/vi/b7QlX3yR2xs/default.jpg",
            "width": 120
           },
           "high": {
            "height": 360,
            "url": "https://i.ytimg.com/vi/b7QlX3yR2xs/hqdefault.jpg",
            "width": 480
           },
           "maxres": {
            "height": 720,
            "url": "https://i.ytimg.com/vi/b7QlX3yR2xs/maxresdefault.jpg",
            "width": 1280
           },
           "medium": {
            "height": 180,
            "url": "https://i.ytimg.com/vi/b7QlX3yR2xs/mqdefault.jpg",
            "width": 320
           },
           "standard": {
            "height": 480,
            "url": "https://i.ytimg.com/vi/b7QlX3yR2xs/sddefault.jpg",
            "width": 640
           }
          },
          "title": "Taylor Swift - Bejeweled (Official Music Video)"
         },
         "statistics": {
          "commentCount": "34704",
          "favoriteCount": "0",
          "likeCount": "923378",
          "viewCount": "9123178"
         }
        },
        {
         "contentDetails": {
          "caption": "true",
          "contentRating": {},
          "definition": "hd",
          "dimension": "2d",
          "duration": "PT2M20S",
          "licensedContent": true,
          "projection": "rectangular"
         },
         "etag": "l4dvuiQCBMQ4Kb60bH0YioAYqEI",
         "id": "ZlNFpri-Y40",
         "kind": "youtube#video",
         "snippet": {
          "categoryId": "24",
          "channelId": "UCvC4D8onUfXzvjTOM-dBfEA",
          "channelTitle": "Marvel Entertainment",
          "defaultAudioLanguage": "en",
          "description": "This February, enter the Quantum Realm. Watch the brand-new trailer for Marvel Studios’ Ant-Man and The Wasp: Quantumania, only in theaters February 17, 2023.\n\n► Watch Marvel on Disney+: https://bit.ly/2XyBSIW\n► Subscribe to Marvel on YouTube: http://bit.ly/WeO3YJ\n\nFollow Marvel on Twitter: ‪https://twitter.com/marvel\nLike Marvel on Facebook: ‪https://www.facebook.com/marvel\nWatch Marvel on Twitch: https://www.twitch.tv/marvel\n\nReward your Marvel fandom by joining Marvel Insider!\nEarn points, then redeem for awesome rewards.\nTerms and conditions apply. \nLearn more at https://www.marvel.com/insider?Osocial=YT&CID=MarvelInsider\n\nFor even more news, stay tuned to:\nTumblr: ‪http://marvelentertainment.tumblr.com/\nInstagram: https://www.instagram.com/marvel\nPinterest: ‪http://pinterest.com/marvelofficial\nReddit: http://reddit.com/u/marvel-official",
          "liveBroadcastContent": "none",
          "localized": {
           "description": "This February, enter the Quantum Realm. Watch the brand-new trailer for Marvel Studios’ Ant-Man and The Wasp: Quantumania, only in theaters February 17, 2023.\n\n► Watch Marvel on Disney+: https://bit.ly/2XyBSIW\n► Subscribe to Marvel on YouTube: http://bit.ly/WeO3YJ\n\nFollow Marvel on Twitter: ‪https://twitter.com/marvel\nLike Marvel on Facebook: ‪https://www.facebook.com/marvel\nWatch Marvel on Twitch: https://www.twitch.tv/marvel\n\nReward your Marvel fandom by joining Marvel Insider!\nEarn points, then redeem for awesome rewards.\nTerms and conditions apply. \nLearn more at https://www.marvel.com/insider?Osocial=YT&CID=MarvelInsider\n\nFor even more news, stay tuned to:\nTumblr: ‪http://marvelentertainment.tumblr.com/\nInstagram: https://www.instagram.com/marvel\nPinterest: ‪http://pinterest.com/marvelofficial\nReddit: http://reddit.com/u/marvel-official",
           "title": "Marvel Studios’ Ant-Man and The Wasp: Quantumania | Official Trailer"
          },
          "publishedAt": "2022-10-24T16:00:40Z",
          "tags": [
           "marvel",
           "comics",
           "official",
           "mcu",
           "ant-man",
           "the wasp",
           "quantumania",
           "kang"
          ],
          "thumbnails": {
           "default": {
            "height": 90,
            "url": "https://i.ytimg.com/vi/ZlNFpri-Y40/default.jpg",
            "width": 120
           },
           "high": {
            "height": 360,
            "url": "https://i.ytimg.com/vi/ZlNFpri-Y40/hqdefault.jpg",
            "width": 480
           },
           "maxres": {
            "height": 720,
            "url": "https://i.ytimg.com/vi/ZlNFpri-Y40/maxresdefault.jpg",
            "width": 1280
           },
           "medium": {
            "height": 180,
            "url": "https://i.ytimg.com/vi/ZlNFpri-Y40/mqdefault.jpg",
            "width": 320
           },
           "standard": {
            "height": 480,
            "url": "https://i.ytimg.com/vi/ZlNFpri-Y40/sddefault.jpg",
            "width": 640
           }
          },
          "title": "Marvel Studios’ Ant-Man and The Wasp: Quantumania | Official Trailer"
         },
         "statistics": {
          "commentCount": "32207",
          "favoriteCount": "0",
          "likeCount": "799353",
          "viewCount": "16263548"
         }
        },
        {
         "contentDetails": {
          "caption": "true",
          "contentRating": {},
          "definition": "hd",
          "dimension": "2d",
          "duration": "PT1M15S",
          "licensedContent": true,
          "projection": "rectangular"
         },
         "etag": "46lpHXSL8MddNG3T_sHymEnF3j8",
         "id": "OYhFFQl4fLs",
         "kind": "youtube#video",
         "snippet": {
          "categoryId": "24",
          "channelId": "UCvC4D8onUfXzvjTOM-dBfEA",
          "channelTitle": "Marvel Entertainment",
          "defaultAudioLanguage": "en",
          "description": "This holiday season is going to be out of this world.\n\nWatch the brand-new trailer for Marvel Studios’ Special Presentation: The Guardians of the Galaxy Holiday Special, streaming November 25 only on Disney+. \n\n► Watch Marvel on Disney+: https://bit.ly/2XyBSIW\n► Subscribe to Marvel on YouTube: http://bit.ly/WeO3YJ\n\nFollow Marvel on Twitter: ‪https://twitter.com/marvel\nLike Marvel on Facebook: ‪https://www.facebook.com/marvel\nWatch Marvel on Twitch: https://www.twitch.tv/marvel\n\nReward your Marvel fandom by joining Marvel Insider!\nEarn points, then redeem for awesome rewards.\nTerms and conditions apply. \nLearn more at https://www.marvel.com/insider?Osocial=YT&CID=MarvelInsider\n\nFor even more news, stay tuned to:\nTumblr: ‪http://marvelentertainment.tumblr.com/\nInstagram: https://www.instagram.com/marvel\nPinterest: ‪http://pinterest.com/marvelofficial\nReddit: http://reddit.com/u/marvel-official",
          "liveBroadcastContent": "none",
          "localized": {
           "description": "This holiday season is going to be out of this world.\n\nWatch the brand-new trailer for Marvel Studios’ Special Presentation: The Guardians of the Galaxy Holiday Special, streaming November 25 only on Disney+. \n\n► Watch Marvel on Disney+: https://bit.ly/2XyBSIW\n► Subscribe to Marvel on YouTube: http://bit.ly/WeO3YJ\n\nFollow Marvel on Twitter: ‪https://twitter.com/marvel\nLike Marvel on Facebook: ‪https://www.facebook.com/marvel\nWatch Marvel on Twitch: https://www.twitch.tv/marvel\n\nReward your Marvel fandom by joining Marvel Insider!\nEarn points, then redeem for awesome rewards.\nTerms and conditions apply. \nLearn more at https://www.marvel.com/insider?Osocial=YT&CID=MarvelInsider\n\nFor even more news, stay tuned to:\nTumblr: ‪http://marvelentertainment.tumblr.com/\nInstagram: https://www.instagram.com/marvel\nPinterest: ‪http://pinterest.com/marvelofficial\nReddit: http://reddit.com/u/marvel-official",
           "title": "Marvel Studios’ Special Presentation: The Guardians of the Galaxy Holiday Special | Official Trailer"
          },
          "publishedAt": "2022-10-25T18:30:18Z",
          "tags": [
           "marvel",
           "comics"
          ],
          "thumbnails": {
           "default": {
            "height": 90,
            "url": "https://i.ytimg.com/vi/OYhFFQl4fLs/default.jpg",
            "width": 120
           },
           "high": {
            "height": 360,
            "url": "https://i.ytimg.com/vi/OYhFFQl4fLs/hqdefault.jpg",
            "width": 480
           },
           "maxres": {
            "height": 720,
            "url": "https://i.ytimg.com/vi/OYhFFQl4fLs/maxresdefault.jpg",
            "width": 1280
           },
           "medium": {
            "height": 180,
            "url": "https://i.ytimg.com/vi/OYhFFQl4fLs/mqdefault.jpg",
            "width": 320
           },
           "standard": {
            "height": 480,
            "url": "https://i.ytimg.com/vi/OYhFFQl4fLs/sddefault.jpg",
            "width": 640
           }
          },
          "title": "Marvel Studios’ Special Presentation: The Guardians of the Galaxy Holiday Special | Official Trailer"
         },
         "statistics": {
          "commentCount": "6236",
          "favoriteCount": "0",
          "likeCount": "183873",
          "viewCount": "2865802"
         }
        },
        {
         "contentDetails": {
          "caption": "true",
          "contentRating": {},
          "definition": "hd",
          "dimension": "2d",
          "duration": "PT12M25S",
          "licensedContent": true,
          "projection": "rectangular",
          "regionRestriction": {
           "blocked": [
            "AO",
            "BF",
            "BI",
            "BJ",
            "BW",
            "CD",
            "CF",
            "CG",
            "CI",
            "CM",
            "CV",
            "DJ",
            "DZ",
            "EG",
            "ER",
            "ET",
            "GA",
            "GH",
            "GM",
            "GN",
            "GQ",
            "GW",
            "KE",
            "KM",
            "LR",
            "LS",
            "MA",
            "MG",
            "ML",
            "MR",
            "MU",
            "MW",
            "MZ",
            "NA",
            "NE",
            "NG",
            "RW",
            "SC",
            "SD",
            "SL",
            "SN",
            "SO",
            "SS",
            "ST",
            "SZ",
            "TD",
            "TG",
            "TN",
            "TZ",
            "UG",
            "ZA",
            "ZM",
            "ZW"
           ]
          }
         },
         "etag": "QAeBYTuZ9JxidzRyhRFxGAf8PyQ",
         "id": "cTozcxvFDtM",
         "kind": "youtube#video",
         "snippet": {
          "categoryId": "23",
          "channelId": "UC8-Th83bH_thdKZDJCrn88g",
          "channelTitle": "The Tonight Show Starring Jimmy Fallon",
          "defaultAudioLanguage": "en",
          "description": "Taylor Swift talks about collaborating with Zoë Kravitz, Lana Del Rey and Dylan O'Brien on her album Midnights, her casting choices for All Too Well and how much she misses being on tour.\n\nThe Tonight Show Starring Jimmy Fallon.  Stream now on Peacock: https://bit.ly/3gZJaNy\n\nSubscribe NOW to The Tonight Show Starring Jimmy Fallon: https://pck.tv/3d7lcDy\n \nWatch The Tonight Show Starring Jimmy Fallon Weeknights 11:35/10:35c\n \nGet more The Tonight Show Starring Jimmy Fallon: https://www.nbc.com/the-tonight-show\n \nJIMMY FALLON ON SOCIAL\nFollow Jimmy: http://Twitter.com/JimmyFallon\nLike Jimmy: https://Facebook.com/JimmyFallon\nFollow Jimmy: https://www.instagram.com/jimmyfallon/\n \nTHE TONIGHT SHOW ON SOCIAL\nFollow The Tonight Show: http://Twitter.com/FallonTonight\nLike The Tonight Show: https://Facebook.com/FallonTonight\nFollow The Tonight Show: https://www.instagram.com/fallontonight/\nTonight Show Tumblr: http://fallontonight.tumblr.com\n \nThe Tonight Show Starring Jimmy Fallon features hilarious highlights from the show, including comedy sketches, music parodies, celebrity interviews, ridiculous games, and, of course, Jimmy's Thank You Notes and hashtags! You'll also find behind the scenes videos and other great web exclusives.\n \nGET MORE NBC\nNBC YouTube: http://bit.ly/1dM1qBH\nLike NBC: http://Facebook.com/NBC\nFollow NBC: http://Twitter.com/NBC\nNBC Instagram: http://instagram.com/nbc\nNBC Tumblr: http://nbctv.tumblr.com/\n \nTaylor Swift Spills on Record-Breaking Midnights Album and Teases a Potential Tour | Tonight Show\nhttp://www.youtube.com/fallontonight\n\n#FallonTonight \n#TaylorSwift\n#JimmyFallon",
          "liveBroadcastContent": "none",
          "localized": {
           "description": "Taylor Swift talks about collaborating with Zoë Kravitz, Lana Del Rey and Dylan O'Brien on her album Midnights, her casting choices for All Too Well and how much she misses being on tour.\n\nThe Tonight Show Starring Jimmy Fallon.  Stream now on Peacock: https://bit.ly/3gZJaNy\n\nSubscribe NOW to The Tonight Show Starring Jimmy Fallon: https://pck.tv/3d7lcDy\n \nWatch The Tonight Show Starring Jimmy Fallon Weeknights 11:35/10:35c\n \nGet more The Tonight Show Starring Jimmy Fallon: https://www.nbc.com/the-tonight-show\n \nJIMMY FALLON ON SOCIAL\nFollow Jimmy: http://Twitter.com/JimmyFallon\nLike Jimmy: https://Facebook.com/JimmyFallon\nFollow Jimmy: https://www.instagram.com/jimmyfallon/\n \nTHE TONIGHT SHOW ON SOCIAL\nFollow The Tonight Show: http://Twitter.com/FallonTonight\nLike The Tonight Show: https://Facebook.com/FallonTonight\nFollow The Tonight Show: https://www.instagram.com/fallontonight/\nTonight Show Tumblr: http://fallontonight.tumblr.com\n \nThe Tonight Show Starring Jimmy Fallon features hilarious highlights from the show, including comedy sketches, music parodies, celebrity interviews, ridiculous games, and, of course, Jimmy's Thank You Notes and hashtags! You'll also find behind the scenes videos and other great web exclusives.\n \nGET MORE NBC\nNBC YouTube: http://bit.ly/1dM1qBH\nLike NBC: http://Facebook.com/NBC\nFollow NBC: http://Twitter.com/NBC\nNBC Instagram: http://instagram.com/nbc\nNBC Tumblr: http://nbctv.tumblr.com/\n \nTaylor Swift Spills on Record-Breaking Midnights Album and Teases a Potential Tour | Tonight Show\nhttp://www.youtube.com/fallontonight\n\n#FallonTonight \n#TaylorSwift\n#JimmyFallon",
           "title": "Taylor Swift Spills on Record-Breaking Midnights Album and Teases a Potential Tour | Tonight Show"
          },
          "publishedAt": "2022-10-25T03:48:56Z",
          "tags": [
           "tonight show",
           "jimmy fallon",
           "NBC",
           "NBC TV",
           "Television",
           "Funny",
           "Talk Show",
           "comedic",
           "humor",
           "snl",
           "tonight",
           "show",
           "jokes",
           "funny video",
           "interview",
           "variety",
           "comedy sketches",
           "talent",
           "celebrities",
           "video",
           "clip",
           "highlight",
           "Red",
           "Folklore",
           "1989",
           "Blank Space",
           "Love Story",
           "Look What You Made Me Do",
           "Wildest Dreams",
           "Shake It Off",
           "You Belong With Me",
           "ME!",
           "I Knew You Were Trouble",
           "Crazier",
           "We Are Never Ever Getting Back Together",
           "Cats",
           "The Giver",
           "The Lorax"
          ],
          "thumbnails": {
           "default": {
            "height": 90,
            "url": "https://i.ytimg.com/vi/cTozcxvFDtM/default.jpg",
            "width": 120
           },
           "high": {
            "height": 360,
            "url": "https://i.ytimg.com/vi/cTozcxvFDtM/hqdefault.jpg",
            "width": 480
           },
           "maxres": {
            "height": 720,
            "url": "https://i.ytimg.com/vi/cTozcxvFDtM/maxresdefault.jpg",
            "width": 1280
           },
           "medium": {
            "height": 180,
            "url": "https://i.ytimg.com/vi/cTozcxvFDtM/mqdefault.jpg",
            "width": 320
           },
           "standard": {
            "height": 480,
            "url": "https://i.ytimg.com/vi/cTozcxvFDtM/sddefault.jpg",
            "width": 640
           }
          },
          "title": "Taylor Swift Spills on Record-Breaking Midnights Album and Teases a Potential Tour | Tonight Show"
         },
         "statistics": {
          "commentCount": "3035",
          "favoriteCount": "0",
          "likeCount": "108119",
          "viewCount": "1656560"
         }
        },
        {
         "contentDetails": {
          "caption": "false",
          "contentRating": {},
          "definition": "hd",
          "dimension": "2d",
          "duration": "PT54S",
          "licensedContent": true,
          "projection": "rectangular"
         },
         "etag": "vbofbcVbuySZcXl5owuYSZtjcDA",
         "id": "TOKBC11D0eI",
         "kind": "youtube#video",
         "snippet": {
          "categoryId": "20",
          "channelId": "UCFctpiB_Hnlk3ejWfHqSm6Q",
          "channelTitle": "The Official Pokémon YouTube channel",
          "defaultAudioLanguage": "en-US",
          "description": "Greavard is so affectionate that paying it any attention will make it so happy that it will follow you wherever you go. However, Greavard will slowly and inadvertently absorb the life-force of those around it. \n\nPre-order Pokémon Scarlet & Pokémon Violet today to get ready for an exciting adventure in Paldea! ❤️💜 https://pkmn.news/BuyScarletViolet\n\nOfficial Site: https://www.pokemon.com\nShop: http://www.pokemoncenter.com\nFacebook: http://www.facebook.com/Pokemon\nTwitter: http://www.twitter.com/Pokemon\nInstagram: http://www.instagram.com/pokemon\nTikTok: https://www.tiktok.com/@pokemonofficial",
          "liveBroadcastContent": "none",
          "localized": {
           "description": "Greavard is so affectionate that paying it any attention will make it so happy that it will follow you wherever you go. However, Greavard will slowly and inadvertently absorb the life-force of those around it. \n\nPre-order Pokémon Scarlet & Pokémon Violet today to get ready for an exciting adventure in Paldea! ❤️💜 https://pkmn.news/BuyScarletViolet\n\nOfficial Site: https://www.pokemon.com\nShop: http://www.pokemoncenter.com\nFacebook: http://www.facebook.com/Pokemon\nTwitter: http://www.twitter.com/Pokemon\nInstagram: http://www.instagram.com/pokemon\nTikTok: https://www.tiktok.com/@pokemonofficial",
           "title": "Meet Greavard, the Ghost Dog Pokémon! 🐶🕯️ | Pokémon Scarlet & Pokémon Violet"
          },
          "publishedAt": "2022-10-25T13:30:16Z",
          "tags": [
           "Pokemon Scarlet",
           "Pokemon Violet",
           "Generation 9",
           "Gen 9",
           "Paldea",
           "Greavard",
           "Ghost",
           "Ghost Type",
           "Ghost Pokemon",
           "Dog",
           "Paranormal",
           "Ghost Sighting",
           "Spooky"
          ],
          "thumbnails": {
           "default": {
            "height": 90,
            "url": "https://i.ytimg.com/vi/TOKBC11D0eI/default.jpg",
            "width": 120
           },
           "high": {
            "height": 360,
            "url": "https://i.ytimg.com/vi/TOKBC11D0eI/hqdefault.jpg",
            "width": 480
           },
           "maxres": {
            "height": 720,
            "url": "https://i.ytimg.com/vi/TOKBC11D0eI/maxresdefault.jpg",
            "width": 1280
           },
           "medium": {
            "height": 180,
            "url": "https://i.ytimg.com/vi/TOKBC11D0eI/mqdefault.jpg",
            "width": 320
           },
           "standard": {
            "height": 480,
            "url": "https://i.ytimg.com/vi/TOKBC11D0eI/sddefault.jpg",
            "width": 640
           }
          },
          "title": "Meet Greavard, the Ghost Dog Pokémon! 🐶🕯️ | Pokémon Scarlet & Pokémon Violet"
         },
         "statistics": {
          "commentCount": "4141",
          "favoriteCount": "0",
          "likeCount": "47148",
          "viewCount": "858651"
         }
        },
        {
         "contentDetails": {
          "caption": "false",
          "contentRating": {},
          "definition": "hd",
          "dimension": "2d",
          "duration": "PT23M15S",
          "licensedContent": true,
          "projection": "rectangular"
         },
         "etag": "a9Q5R1_o5ga7r9UuMnyL-51qcKo",
         "id": "lg5wznn3IBE",
         "kind": "youtube#video",
         "snippet": {
          "categoryId": "28",
          "channelId": "UCY1kMZp36IQSyNx_9h4mpCg",
          "channelTitle": "Mark Rober",
          "defaultAudioLanguage": "en",
          "defaultLanguage": "en",
          "description": "I gave up on trying to battle my squirrels... but what if they battled each other? Acorns helps you save and invest for your future. Ready to grow your oak? Sign up today at http://acorns.com/rober\n\nSpecial thanks to my two favorite Jimmy’s (Kimmel and MrBeast) for announcing the Sumner games. \n\nAlso thanks to these folks for providing some of the music in the video:\n\nLaura Shigihara - https://www.youtube.com/supershigi\nPonder - https://soundcloud.com/prodbyponder\nAndrew Applepie - https://soundcloud.com/andrewapplepie\nBlue Wednesday - https://soundcloud.com/bluewednesday\n\n\n\n\nDisclosure: Investing involves risk including the loss of principal. No level of diversification or asset allocation can ensure profits or guarantee against losses. Compounding is the process in which an asset’s earnings are reinvested to generate additional earnings over time. Acorns clients may not experience compound returns and investment results will vary based on market volatility and fluctuating prices. There can be no assurance that Acorns' strategies will achieve growth. Acorns Early is a custodial UGMA/ UTMA account, money in a custodial account is the property of the minor. Each Early account identifies a beneficiary who will take control of the account at age of transfer determined by the custodian. Please consider your objectives, risk tolerance, and Acorns’\nfees before investing. Investment advisory services provided by Acorns Advisers, LLC, SEC Registered Investment Advisor. Brokerage services provided to Acorns Advisers, LLC by Acorns Securities, LLC, member FINRA/SIPC.",
          "liveBroadcastContent": "none",
          "localized": {
           "description": "I gave up on trying to battle my squirrels... but what if they battled each other? Acorns helps you save and invest for your future. Ready to grow your oak? Sign up today at http://acorns.com/rober\n\nSpecial thanks to my two favorite Jimmy’s (Kimmel and MrBeast) for announcing the Sumner games. \n\nAlso thanks to these folks for providing some of the music in the video:\n\nLaura Shigihara - https://www.youtube.com/supershigi\nPonder - https://soundcloud.com/prodbyponder\nAndrew Applepie - https://soundcloud.com/andrewapplepie\nBlue Wednesday - https://soundcloud.com/bluewednesday\n\n\n\n\nDisclosure: Investing involves risk including the loss of principal. No level of diversification or asset allocation can ensure profits or guarantee against losses. Compounding is the process in which an asset’s earnings are reinvested to generate additional earnings over time. Acorns clients may not experience compound returns and investment results will vary based on market volatility and fluctuating prices. There can be no assurance that Acorns' strategies will achieve growth. Acorns Early is a custodial UGMA/ UTMA account, money in a custodial account is the property of the minor. Each Early account identifies a beneficiary who will take control of the account at age of transfer determined by the custodian. Please consider your objectives, risk tolerance, and Acorns’\nfees before investing. Investment advisory services provided by Acorns Advisers, LLC, SEC Registered Investment Advisor. Brokerage services provided to Acorns Advisers, LLC by Acorns Securities, LLC, member FINRA/SIPC.",
           "title": "Backyard Squirrelympics 3.0- The Summer Games"
          },
          "publishedAt": "2022-10-23T20:00:40Z",
          "thumbnails": {
           "default": {
            "height": 90,
            "url": "https://i.ytimg.com/vi/lg5wznn3IBE/default.jpg",
            "width": 120
           },
           "high": {
            "height": 360,
            "url": "https://i.ytimg.com/vi/lg5wznn3IBE/hqdefault.jpg",
            "width": 480
           },
           "maxres": {
            "height": 720,
            "url": "https://i.ytimg.com/vi/lg5wznn3IBE/maxresdefault.jpg",
            "width": 1280
           },
           "medium": {
            "height": 180,
            "url": "https://i.ytimg.com/vi/lg5wznn3IBE/mqdefault.jpg",
            "width": 320
           },
           "standard": {
            "height": 480,
            "url": "https://i.ytimg.com/vi/lg5wznn3IBE/sddefault.jpg",
            "width": 640
           }
          },
          "title": "Backyard Squirrelympics 3.0- The Summer Games"
         },
         "statistics": {
          "commentCount": "33680",
          "favoriteCount": "0",
          "likeCount": "499389",
          "viewCount": "7735099"
         }
        },
        {
         "contentDetails": {
          "caption": "false",
          "contentRating": {},
          "definition": "hd",
          "dimension": "2d",
          "duration": "PT34M49S",
          "licensedContent": true,
          "projection": "rectangular"
         },
         "etag": "pITP6_b_EyxlVhgqunmupXrd_Ko",
         "id": "toZwINwNK_g",
         "kind": "youtube#video",
         "snippet": {
          "categoryId": "24",
          "channelId": "UCtNdVINwfYFTQEEZgMiQ8FA",
          "channelTitle": "Bailey Sarian",
          "defaultAudioLanguage": "en",
          "defaultLanguage": "en",
          "description": "CASETiFY’s iPhone 14 Impact Case Series is now available at https://www.casetify.com!  Go to https://www.casetify.com/baileysarian today to save 15% off your order!\n------------------------------\nHi friends, happy Monday! \n\nHere’s another Australia story for you about Helen Patricia Moore. This story is just… awful. I mean, Helen’s poor mom. And what is up with Claymore?\n\n\nAnyways, let me know who you want me to talk about next time. Hope you have a great rest of your week and I'll be seeing you very soon.\n\nxo\n\nBailey Sarian\n\n:  :    F O L L O W    M E     :  :\n\nDiscord : http://discord.gg/baileysarian\nTik Tok : https://bit.ly/3e3jL9v\nInstagram : http://bit.ly/2nbO4PR\nFacebook : http://bit.ly/2mdZtK6\nTwitter : http://bit.ly/2yT4BLV\nPinterest : http://bit.ly/2mVpXnY\nYoutube : http://bit.ly/1HGw3Og\nSnapchat : https://bit.ly/3cC0V9d \n\n\nRECOMMEND A STORY HERE : cases4bailey@gmail.com \n\nBusiness Related Emails : Baileysarianteam@wmeagency.com\n\n_________\n\n:  :    P R O D U C T S     U S E D    :  :\n\nFACE\n\nToo Faced Born This Way Super Coverage Multi-Use Sculpting Concealer - Vanilla (Used as foundation)\nhttps://shop-links.co/cijkXKMXWUL\n\nRare Beauty Liquid Touch Brightening Concealer - #210N\nhttps://shop-links.co/cijkYlJ04Ct\n\ne.l.f. Cosmetics Putty Bronzer - Honey Drip\nhttps://shop-links.co/cijkY6wHrau\n\nGivenchy Prisme Libre Matte-Finish & Enhanced Radiance Loose Powder\nhttps://shop-links.co/cijkZCxjnxc\n\nBobbi Brown Bronzing Powder - Golden Light\nhttps://shop-links.co/cijk0gyIzmQ\n\nRare Beauty Soft Pinch Liquid Blush - Believe\nhttps://shop-links.co/cijk0XJXviL\n\nDior Rosy Glow Blush\nhttps://shop-links.co/cijk62vHZLG\n\nHourglass AmbientTM Metallic Strobe Lighting Palette\nhttps://shop-links.co/cijk7U19Eo5\n\n\nBROWS\n\ne.l.f. Cosmetics Brow Lift\nhttps://shop-links.co/cijk8vUsVBm\n\nKat Von D Brow Powder - Walnut (Discontinued)\n\nKat Von D Brow Powder - Medium Brown (Discontinued)\n\n\nEYES\n\nMAC Pro Longwear Paint Pot - Layin Low\nhttps://shop-links.co/cijkHu2JY47\n\nMelt Cosmetics Ultra Matte Gel Liner - Onyx\nhttps://shop-links.co/cijkLZ3EpEQ\n\nColourPop Stone Cold Fox Shadow Palette\nhttps://shop-links.co/cijkM7U586a\n\nUrban Decay 24/7 Glide-On Waterproof Eyeliner Pencil - Zero\nhttps://shop-links.co/cijkVOYmkKt\n\nKiss Lash Lash Couture Triple Push-Up - Bombshell\nhttps://shop-links.co/cijkWpDWG7K\n\nEssence Lash Princess False Lash Effect Mascara\nhttps://shop-links.co/cijkWGNOYpr\n\nLIPS\n\nJaclyn Cosmetics Poutspoken Lip Liner - Butter Pecan\nhttps://shop-links.co/cijlbNbohRT\n\nPat McGrath Lip Fetish Balm Divinyl Lip Shine - Nude Venus 591\nhttps://shop-links.co/cijldUD58qw\n\n\n♡ \n*These links are affiliate links. Which means, if you click on the link and purchase a product, a small percentage comes back to me. It helps me keep on keepin on with my videos, and I appreciate you if you choose to support. If you don’t, that’s ok too.",
          "liveBroadcastContent": "none",
          "localized": {
           "description": "CASETiFY’s iPhone 14 Impact Case Series is now available at https://www.casetify.com!  Go to https://www.casetify.com/baileysarian today to save 15% off your order!\n------------------------------\nHi friends, happy Monday! \n\nHere’s another Australia story for you about Helen Patricia Moore. This story is just… awful. I mean, Helen’s poor mom. And what is up with Claymore?\n\n\nAnyways, let me know who you want me to talk about next time. Hope you have a great rest of your week and I'll be seeing you very soon.\n\nxo\n\nBailey Sarian\n\n:  :    F O L L O W    M E     :  :\n\nDiscord : http://discord.gg/baileysarian\nTik Tok : https://bit.ly/3e3jL9v\nInstagram : http://bit.ly/2nbO4PR\nFacebook : http://bit.ly/2mdZtK6\nTwitter : http://bit.ly/2yT4BLV\nPinterest : http://bit.ly/2mVpXnY\nYoutube : http://bit.ly/1HGw3Og\nSnapchat : https://bit.ly/3cC0V9d \n\n\nRECOMMEND A STORY HERE : cases4bailey@gmail.com \n\nBusiness Related Emails : Baileysarianteam@wmeagency.com\n\n_________\n\n:  :    P R O D U C T S     U S E D    :  :\n\nFACE\n\nToo Faced Born This Way Super Coverage Multi-Use Sculpting Concealer - Vanilla (Used as foundation)\nhttps://shop-links.co/cijkXKMXWUL\n\nRare Beauty Liquid Touch Brightening Concealer - #210N\nhttps://shop-links.co/cijkYlJ04Ct\n\ne.l.f. Cosmetics Putty Bronzer - Honey Drip\nhttps://shop-links.co/cijkY6wHrau\n\nGivenchy Prisme Libre Matte-Finish & Enhanced Radiance Loose Powder\nhttps://shop-links.co/cijkZCxjnxc\n\nBobbi Brown Bronzing Powder - Golden Light\nhttps://shop-links.co/cijk0gyIzmQ\n\nRare Beauty Soft Pinch Liquid Blush - Believe\nhttps://shop-links.co/cijk0XJXviL\n\nDior Rosy Glow Blush\nhttps://shop-links.co/cijk62vHZLG\n\nHourglass AmbientTM Metallic Strobe Lighting Palette\nhttps://shop-links.co/cijk7U19Eo5\n\n\nBROWS\n\ne.l.f. Cosmetics Brow Lift\nhttps://shop-links.co/cijk8vUsVBm\n\nKat Von D Brow Powder - Walnut (Discontinued)\n\nKat Von D Brow Powder - Medium Brown (Discontinued)\n\n\nEYES\n\nMAC Pro Longwear Paint Pot - Layin Low\nhttps://shop-links.co/cijkHu2JY47\n\nMelt Cosmetics Ultra Matte Gel Liner - Onyx\nhttps://shop-links.co/cijkLZ3EpEQ\n\nColourPop Stone Cold Fox Shadow Palette\nhttps://shop-links.co/cijkM7U586a\n\nUrban Decay 24/7 Glide-On Waterproof Eyeliner Pencil - Zero\nhttps://shop-links.co/cijkVOYmkKt\n\nKiss Lash Lash Couture Triple Push-Up - Bombshell\nhttps://shop-links.co/cijkWpDWG7K\n\nEssence Lash Princess False Lash Effect Mascara\nhttps://shop-links.co/cijkWGNOYpr\n\nLIPS\n\nJaclyn Cosmetics Poutspoken Lip Liner - Butter Pecan\nhttps://shop-links.co/cijlbNbohRT\n\nPat McGrath Lip Fetish Balm Divinyl Lip Shine - Nude Venus 591\nhttps://shop-links.co/cijldUD58qw\n\n\n♡ \n*These links are affiliate links. Which means, if you click on the link and purchase a product, a small percentage comes back to me. It helps me keep on keepin on with my videos, and I appreciate you if you choose to support. If you don’t, that’s ok too.",
           "title": "The Suspish Sitter- Helen Patricia Moore| Mystery & Makeup - Bailey Sarian"
          },
          "publishedAt": "2022-10-24T19:00:31Z",
          "tags": [
           "Bailey sarian",
           "youtube bailey sarian",
           "bailey sarian youtube",
           "youtube bailey",
           "bailey",
           "sarian",
           "mystery makeup monday",
           "monday mystery makeup",
           "mystery makeup",
           "mystery makeup mondays",
           "makeup artist",
           "new makeup tutorial",
           "flawless makeup",
           "makeup and story time",
           "makeup story time",
           "story time and makeup",
           "story time",
           "grwm",
           "grwm and makeup",
           "get ready with me and makeup",
           "makeup grwm",
           "flawless foundation",
           "mystery monday",
           "mystery",
           "monday story time",
           "dark history",
           "history story",
           "hilarious"
          ],
          "thumbnails": {
           "default": {
            "height": 90,
            "url": "https://i.ytimg.com/vi/toZwINwNK_g/default.jpg",
            "width": 120
           },
           "high": {
            "height": 360,
            "url": "https://i.ytimg.com/vi/toZwINwNK_g/hqdefault.jpg",
            "width": 480
           },
           "maxres": {
            "height": 720,
            "url": "https://i.ytimg.com/vi/toZwINwNK_g/maxresdefault.jpg",
            "width": 1280
           },
           "medium": {
            "height": 180,
            "url": "https://i.ytimg.com/vi/toZwINwNK_g/mqdefault.jpg",
            "width": 320
           },
           "standard": {
            "height": 480,
            "url": "https://i.ytimg.com/vi/toZwINwNK_g/sddefault.jpg",
            "width": 640
           }
          },
          "title": "The Suspish Sitter- Helen Patricia Moore| Mystery & Makeup - Bailey Sarian"
         },
         "statistics": {
          "commentCount": "4567",
          "favoriteCount": "0",
          "likeCount": "52671",
          "viewCount": "807292"
         }
        },
        {
         "contentDetails": {
          "caption": "true",
          "contentRating": {},
          "definition": "hd",
          "dimension": "2d",
          "duration": "PT9M39S",
          "licensedContent": true,
          "projection": "rectangular",
          "regionRestriction": {
           "blocked": [
            "AO",
            "BF",
            "BI",
            "BJ",
            "BW",
            "CD",
            "CF",
            "CG",
            "CI",
            "CM",
            "CV",
            "DJ",
            "DZ",
            "EG",
            "ER",
            "ET",
            "GA",
            "GH",
            "GM",
            "GN",
            "GQ",
            "GW",
            "KE",
            "KM",
            "LR",
            "LS",
            "MA",
            "MG",
            "ML",
            "MR",
            "MU",
            "MW",
            "MZ",
            "NA",
            "NE",
            "NG",
            "RW",
            "SC",
            "SD",
            "SL",
            "SN",
            "SO",
            "SS",
            "ST",
            "SZ",
            "TD",
            "TG",
            "TN",
            "TZ",
            "UG",
            "ZA",
            "ZM",
            "ZW"
           ]
          }
         },
         "etag": "dhEl9eiEhuqf_TyIcbt_EOLXdIM",
         "id": "EqYyOw5ve38",
         "kind": "youtube#video",
         "snippet": {
          "categoryId": "23",
          "channelId": "UC8-Th83bH_thdKZDJCrn88g",
          "channelTitle": "The Tonight Show Starring Jimmy Fallon",
          "defaultAudioLanguage": "en",
          "description": "Taylor Swift talks about casting Mike Birbiglia for her Anti-Hero video, how she came up with a Cinderella twist for her Bejeweled video and reveals special cameos from the HAIM sisters, Laura Dern, Dita Von Teese and more.\n\nThe Tonight Show Starring Jimmy Fallon.  Stream now on Peacock: https://bit.ly/3gZJaNy\n\nSubscribe NOW to The Tonight Show Starring Jimmy Fallon: https://pck.tv/3d7lcDy\n \nWatch The Tonight Show Starring Jimmy Fallon Weeknights 11:35/10:35c\n \nGet more The Tonight Show Starring Jimmy Fallon: https://www.nbc.com/the-tonight-show\n \nJIMMY FALLON ON SOCIAL\nFollow Jimmy: http://Twitter.com/JimmyFallon\nLike Jimmy: https://Facebook.com/JimmyFallon\nFollow Jimmy: https://www.instagram.com/jimmyfallon/\n \nTHE TONIGHT SHOW ON SOCIAL\nFollow The Tonight Show: http://Twitter.com/FallonTonight\nLike The Tonight Show: https://Facebook.com/FallonTonight\nFollow The Tonight Show: https://www.instagram.com/fallontonight/\nTonight Show Tumblr: http://fallontonight.tumblr.com\n \nThe Tonight Show Starring Jimmy Fallon features hilarious highlights from the show, including comedy sketches, music parodies, celebrity interviews, ridiculous games, and, of course, Jimmy's Thank You Notes and hashtags! You'll also find behind the scenes videos and other great web exclusives.\n \nGET MORE NBC\nNBC YouTube: http://bit.ly/1dM1qBH\nLike NBC: http://Facebook.com/NBC\nFollow NBC: http://Twitter.com/NBC\nNBC Instagram: http://instagram.com/nbc\nNBC Tumblr: http://nbctv.tumblr.com/\n \nTaylor Swift Reveals Star-Studded Cameo in Her Easter Egg-Filled Bejeweled Music Video\nhttp://www.youtube.com/fallontonight\n\n#FallonTonight \n#TaylorSwift\n#JimmyFallon",
          "liveBroadcastContent": "none",
          "localized": {
           "description": "Taylor Swift talks about casting Mike Birbiglia for her Anti-Hero video, how she came up with a Cinderella twist for her Bejeweled video and reveals special cameos from the HAIM sisters, Laura Dern, Dita Von Teese and more.\n\nThe Tonight Show Starring Jimmy Fallon.  Stream now on Peacock: https://bit.ly/3gZJaNy\n\nSubscribe NOW to The Tonight Show Starring Jimmy Fallon: https://pck.tv/3d7lcDy\n \nWatch The Tonight Show Starring Jimmy Fallon Weeknights 11:35/10:35c\n \nGet more The Tonight Show Starring Jimmy Fallon: https://www.nbc.com/the-tonight-show\n \nJIMMY FALLON ON SOCIAL\nFollow Jimmy: http://Twitter.com/JimmyFallon\nLike Jimmy: https://Facebook.com/JimmyFallon\nFollow Jimmy: https://www.instagram.com/jimmyfallon/\n \nTHE TONIGHT SHOW ON SOCIAL\nFollow The Tonight Show: http://Twitter.com/FallonTonight\nLike The Tonight Show: https://Facebook.com/FallonTonight\nFollow The Tonight Show: https://www.instagram.com/fallontonight/\nTonight Show Tumblr: http://fallontonight.tumblr.com\n \nThe Tonight Show Starring Jimmy Fallon features hilarious highlights from the show, including comedy sketches, music parodies, celebrity interviews, ridiculous games, and, of course, Jimmy's Thank You Notes and hashtags! You'll also find behind the scenes videos and other great web exclusives.\n \nGET MORE NBC\nNBC YouTube: http://bit.ly/1dM1qBH\nLike NBC: http://Facebook.com/NBC\nFollow NBC: http://Twitter.com/NBC\nNBC Instagram: http://instagram.com/nbc\nNBC Tumblr: http://nbctv.tumblr.com/\n \nTaylor Swift Reveals Star-Studded Cameo in Her Easter Egg-Filled Bejeweled Music Video\nhttp://www.youtube.com/fallontonight\n\n#FallonTonight \n#TaylorSwift\n#JimmyFallon",
           "title": "Taylor Swift Reveals Star-Studded Cameos in Her Easter Egg-Filled 'Bejeweled' Music Video"
          },
          "publishedAt": "2022-10-25T04:07:04Z",
          "tags": [
           "tonight show",
           "jimmy fallon",
           "NBC",
           "NBC TV",
           "Television",
           "Funny",
           "Talk Show",
           "comedic",
           "humor",
           "snl",
           "tonight",
           "show",
           "jokes",
           "funny video",
           "interview",
           "variety",
           "comedy sketches",
           "talent",
           "celebrities",
           "video",
           "clip",
           "highlight",
           "Red",
           "Folklore",
           "1989",
           "Blank Space",
           "Love Story",
           "Look What You Made Me Do",
           "Wildest Dreams",
           "Shake It Off",
           "You Belong With Me",
           "ME!",
           "I Knew You Were Trouble",
           "Crazier",
           "We Are Never Ever Getting Back Together",
           "Cats",
           "The Giver",
           "The Lorax",
           "Haim sisters",
           "Laura Dern",
           "Dita Von Teese",
           "Cameo",
           "music video"
          ],
          "thumbnails": {
           "default": {
            "height": 90,
            "url": "https://i.ytimg.com/vi/EqYyOw5ve38/default.jpg",
            "width": 120
           },
           "high": {
            "height": 360,
            "url": "https://i.ytimg.com/vi/EqYyOw5ve38/hqdefault.jpg",
            "width": 480
           },
           "maxres": {
            "height": 720,
            "url": "https://i.ytimg.com/vi/EqYyOw5ve38/maxresdefault.jpg",
            "width": 1280
           },
           "medium": {
            "height": 180,
            "url": "https://i.ytimg.com/vi/EqYyOw5ve38/mqdefault.jpg",
            "width": 320
           },
           "standard": {
            "height": 480,
            "url": "https://i.ytimg.com/vi/EqYyOw5ve38/sddefault.jpg",
            "width": 640
           }
          },
          "title": "Taylor Swift Reveals Star-Studded Cameos in Her Easter Egg-Filled 'Bejeweled' Music Video"
         },
         "statistics": {
          "commentCount": "1093",
          "favoriteCount": "0",
          "likeCount": "55684",
          "viewCount": "803864"
         }
        },
        {
         "contentDetails": {
          "caption": "false",
          "contentRating": {},
          "definition": "hd",
          "dimension": "2d",
          "duration": "PT18M19S",
          "licensedContent": true,
          "projection": "rectangular"
         },
         "etag": "aoklsIaZRJzEwoxUThfBt2yzDZI",
         "id": "lnU-ICveMGo",
         "kind": "youtube#video",
         "snippet": {
          "categoryId": "22",
          "channelId": "UCJcc1x6emfrQquiV8Oe_pug",
          "channelTitle": "Luke Kwon Golf",
          "defaultAudioLanguage": "en",
          "defaultLanguage": "en",
          "description": "▼ FREE VERSION of my course management program HERE ▼\n▸https://lukekwongolf.com/free-access/\n\n▼ Consider supporting me + being part of the PATRON GROUP 🙏 ▼\n▸ https://lukekwongolf.com/patrons/\n\n▼ EVERYTHING that has helped me become a consistent ballstriker in my career▼\n▸ https://lukekwongolf.com/about-the-program\n\n\n-------------\n\n\nFollow my pro golf journey and Subscribe!\nThank you to everyone who like and share my videos 👊🙏\n\n\nINTERACT WITH ME:\n▸Website: https://lukekwongolf.com\n▸Instagram: @luke.kwon\n\n\nMY SET UP:\n▸ What I use to edit videos: https://amzn.to/2JGBzaM\n▸ What I use to make thumbnails: https://amzn.to/2t8zc5q\n▸ CAMERA: https://amzn.to/2KR4Ssn\n▸ LENS: https://amzn.to/37MrAuU\n▸ External Mic: https://amzn.to/2tfghpF\n▸ Drone: https://amzn.to/2TSEBtY\n▸ Editing laptop: https://amzn.to/2FIt79h\n▸ The BEST golf ball on the market: https://amzn.to/2t1mGnY\n▸ My Favorite and only putting training aid: https://amzn.to/2MuABvR\n▸ My instructor that travels everywhere: https://amzn.to/2MsKOJ8\n\n(These are affiliate links. They cost nothing extra using these links but I earn a small commission if you buy ANYTHING on Amazon within 24hrs of clicking my links)\n\n\nFREQUENTLY ASKED Q's:\nhttps://www.youtube.com/watch?v=HfBZfxDIlu8&list=PL7cIy9hO-rUWRCTbvoSbA5cL97Rd4G0iO\n\n\n\nBusiness Inquiries: LukeKwonGolf@gmail.com",
          "liveBroadcastContent": "none",
          "localized": {
           "description": "▼ FREE VERSION of my course management program HERE ▼\n▸https://lukekwongolf.com/free-access/\n\n▼ Consider supporting me + being part of the PATRON GROUP 🙏 ▼\n▸ https://lukekwongolf.com/patrons/\n\n▼ EVERYTHING that has helped me become a consistent ballstriker in my career▼\n▸ https://lukekwongolf.com/about-the-program\n\n\n-------------\n\n\nFollow my pro golf journey and Subscribe!\nThank you to everyone who like and share my videos 👊🙏\n\n\nINTERACT WITH ME:\n▸Website: https://lukekwongolf.com\n▸Instagram: @luke.kwon\n\n\nMY SET UP:\n▸ What I use to edit videos: https://amzn.to/2JGBzaM\n▸ What I use to make thumbnails: https://amzn.to/2t8zc5q\n▸ CAMERA: https://amzn.to/2KR4Ssn\n▸ LENS: https://amzn.to/37MrAuU\n▸ External Mic: https://amzn.to/2tfghpF\n▸ Drone: https://amzn.to/2TSEBtY\n▸ Editing laptop: https://amzn.to/2FIt79h\n▸ The BEST golf ball on the market: https://amzn.to/2t1mGnY\n▸ My Favorite and only putting training aid: https://amzn.to/2MuABvR\n▸ My instructor that travels everywhere: https://amzn.to/2MsKOJ8\n\n(These are affiliate links. They cost nothing extra using these links but I earn a small commission if you buy ANYTHING on Amazon within 24hrs of clicking my links)\n\n\nFREQUENTLY ASKED Q's:\nhttps://www.youtube.com/watch?v=HfBZfxDIlu8&list=PL7cIy9hO-rUWRCTbvoSbA5cL97Rd4G0iO\n\n\n\nBusiness Inquiries: LukeKwonGolf@gmail.com",
           "title": "I almost died (NOT CLICKBAIT)"
          },
          "publishedAt": "2022-10-24T23:53:38Z",
          "tags": [
           "luke kwon golf",
           "pro golf",
           "mini tour golf",
           "college golf",
           "professional golf",
           "andrew jensen golf",
           "pro golf vlogs",
           "me and my golf",
           "mark crossfield",
           "rick shiels golf",
           "peter finch golf",
           "pro golf vlogs 2021",
           "golf vlogs 2021",
           "gm__golf",
           "gm_golf",
           "garrett clark golf",
           "korn ferry tour golf",
           "pro golf youtube"
          ],
          "thumbnails": {
           "default": {
            "height": 90,
            "url": "https://i.ytimg.com/vi/lnU-ICveMGo/default.jpg",
            "width": 120
           },
           "high": {
            "height": 360,
            "url": "https://i.ytimg.com/vi/lnU-ICveMGo/hqdefault.jpg",
            "width": 480
           },
           "maxres": {
            "height": 720,
            "url": "https://i.ytimg.com/vi/lnU-ICveMGo/maxresdefault.jpg",
            "width": 1280
           },
           "medium": {
            "height": 180,
            "url": "https://i.ytimg.com/vi/lnU-ICveMGo/mqdefault.jpg",
            "width": 320
           },
           "standard": {
            "height": 480,
            "url": "https://i.ytimg.com/vi/lnU-ICveMGo/sddefault.jpg",
            "width": 640
           }
          },
          "title": "I almost died (NOT CLICKBAIT)"
         },
         "statistics": {
          "commentCount": "2494",
          "favoriteCount": "0",
          "likeCount": "28810",
          "viewCount": "322620"
         }
        },
        {
         "contentDetails": {
          "caption": "false",
          "contentRating": {},
          "definition": "hd",
          "dimension": "2d",
          "duration": "PT15M41S",
          "licensedContent": true,
          "projection": "rectangular"
         },
         "etag": "NwkM_MKZAOeE7P6jKt5iywuRSvo",
         "id": "iogcY_4xGjo",
         "kind": "youtube#video",
         "snippet": {
          "categoryId": "24",
          "channelId": "UCX6OQ3DkcsbYNE6H8uQQuVA",
          "channelTitle": "MrBeast",
          "defaultAudioLanguage": "en-US",
          "description": "The hotel at the end is worth the wait!\n\nDownload the Experian App: https://smart.link/n3op1gefxlzjn or Visit Experian.com/Boost.\n\n\n“Results will vary. Not all payments are boost-eligible or considered by lenders. Credit Card offers are not available in all states. See website for details.”\n\nCheck out Conrad Maldives Rangali Island!\nFacebook @conradmaldivesrangaliIsland\nYoutube https://www.youtube.com/c/ConradMaldivesRangaliIsland\n\nNew Merch - https://shopmrbeast.com/\n\nSUBSCRIBE OR I TAKE YOUR DOG\n╔═╦╗╔╦╗╔═╦═╦╦╦╦╗╔═╗\n║╚╣║║║╚╣╚╣╔╣╔╣║╚╣═╣ \n╠╗║╚╝║║╠╗║╚╣║║║║║═╣\n╚═╩══╩═╩═╩═╩╝╚╩═╩═╝\n\n----------------------------------------------------------------\nfollow all of these or i will kick you\n• Facebook - https://www.facebook.com/MrBeast6000/\n• Twitter - https://twitter.com/MrBeast\n•  Instagram - https://www.instagram.com/mrbeast\n•  Im Hiring! - https://www.mrbeastjobs.com/\n--------------------------------------------------------------------",
          "liveBroadcastContent": "none",
          "localized": {
           "description": "The hotel at the end is worth the wait!\n\nDownload the Experian App: https://smart.link/n3op1gefxlzjn or Visit Experian.com/Boost.\n\n\n“Results will vary. Not all payments are boost-eligible or considered by lenders. Credit Card offers are not available in all states. See website for details.”\n\nCheck out Conrad Maldives Rangali Island!\nFacebook @conradmaldivesrangaliIsland\nYoutube https://www.youtube.com/c/ConradMaldivesRangaliIsland\n\nNew Merch - https://shopmrbeast.com/\n\nSUBSCRIBE OR I TAKE YOUR DOG\n╔═╦╗╔╦╗╔═╦═╦╦╦╦╗╔═╗\n║╚╣║║║╚╣╚╣╔╣╔╣║╚╣═╣ \n╠╗║╚╝║║╠╗║╚╣║║║║║═╣\n╚═╩══╩═╩═╩═╩╝╚╩═╩═╝\n\n----------------------------------------------------------------\nfollow all of these or i will kick you\n• Facebook - https://www.facebook.com/MrBeast6000/\n• Twitter - https://twitter.com/MrBeast\n•  Instagram - https://www.instagram.com/mrbeast\n•  Im Hiring! - https://www.mrbeastjobs.com/\n--------------------------------------------------------------------",
           "title": "$1 vs $1,000,000 Hotel Room!"
          },
          "publishedAt": "2022-10-22T21:00:00Z",
          "thumbnails": {
           "default": {
            "height": 90,
            "url": "https://i.ytimg.com/vi/iogcY_4xGjo/default.jpg",
            "width": 120
           },
           "high": {
            "height": 360,
            "url": "https://i.ytimg.com/vi/iogcY_4xGjo/hqdefault.jpg",
            "width": 480
           },
           "maxres": {
            "height": 720,
            "url": "https://i.ytimg.com/vi/iogcY_4xGjo/maxresdefault.jpg",
            "width": 1280
           },
           "medium": {
            "height": 180,
            "url": "https://i.ytimg.com/vi/iogcY_4xGjo/mqdefault.jpg",
            "width": 320
           }
          },
          "title": "$1 vs $1,000,000 Hotel Room!"
         },
         "statistics": {
          "commentCount": "79827",
          "favoriteCount": "0",
          "likeCount": "2305828",
          "viewCount": "35955899"
         }
        },
        {
         "contentDetails": {
          "caption": "true",
          "contentRating": {},
          "definition": "hd",
          "dimension": "2d",
          "duration": "PT2M17S",
          "licensedContent": true,
          "projection": "rectangular"
         },
         "etag": "AWBjevnQPtevQ-GfYUq3a5RwJ-s",
         "id": "10ZVZIqf4uM",
         "kind": "youtube#video",
         "snippet": {
          "categoryId": "20",
          "channelId": "UC0ZV6M2THA81QT9hrVWJG3A",
          "channelTitle": "Apex Legends",
          "defaultAudioLanguage": "en",
          "defaultLanguage": "en",
          "description": "The new map Broken Moon has a fierce defender: meet Catalyst and see the brutal beauty of Cleo in Apex Legends: Eclipse when it launches November 1!\n\nhttp://x.ea.com/74746\n\n#ApexLegendsEclipse #ApexEclipse #ApexLegends\n\nCredits:\nProduction Company: Electronic Arts & Dark Burn Creative\nSound Design and Mix: Respawn Entertainment & Mass Audio\nAll other categories: Electronic Arts & Respawn Entertainment\n\nLearn more about Apex Legends: Eclipse: http://x.ea.com/74746\n\nCheck out our YouTube channel: https://www.youtube.com/c/playapex\nFollow us on Twitter: https://twitter.com/playapex.\nFollow us on Instagram: https://www.instagram.com/playapex/.",
          "liveBroadcastContent": "none",
          "localized": {
           "description": "The new map Broken Moon has a fierce defender: meet Catalyst and see the brutal beauty of Cleo in Apex Legends: Eclipse when it launches November 1!\n\nhttp://x.ea.com/74746\n\n#ApexLegendsEclipse #ApexEclipse #ApexLegends\n\nCredits:\nProduction Company: Electronic Arts & Dark Burn Creative\nSound Design and Mix: Respawn Entertainment & Mass Audio\nAll other categories: Electronic Arts & Respawn Entertainment\n\nLearn more about Apex Legends: Eclipse: http://x.ea.com/74746\n\nCheck out our YouTube channel: https://www.youtube.com/c/playapex\nFollow us on Twitter: https://twitter.com/playapex.\nFollow us on Instagram: https://www.instagram.com/playapex/.",
           "title": "Apex Legends: Eclipse Gameplay Trailer"
          },
          "publishedAt": "2022-10-24T15:00:06Z",
          "tags": [
           "apex legends",
           "apex",
           "apex legends season 15",
           "apex legends eclipse apex legends trailer",
           "apex trailer",
           "apex トレーラー",
           "エーペックス",
           "apex season 15",
           "apex eclipse",
           "apex season 15 trailer",
           "apex legends season 15 trailer",
           "apex gameplay trailer",
           "eclipse trailer",
           "eclipse gameplay trailer",
           "catalyst apex legends",
           "catalyst gameplay apex legends",
           "broken moon",
           "gameplay trailer apex legends",
           "respawn apex legends",
           "battle royale game",
           "battle royale"
          ],
          "thumbnails": {
           "default": {
            "height": 90,
            "url": "https://i.ytimg.com/vi/10ZVZIqf4uM/default.jpg",
            "width": 120
           },
           "high": {
            "height": 360,
            "url": "https://i.ytimg.com/vi/10ZVZIqf4uM/hqdefault.jpg",
            "width": 480
           },
           "maxres": {
            "height": 720,
            "url": "https://i.ytimg.com/vi/10ZVZIqf4uM/maxresdefault.jpg",
            "width": 1280
           },
           "medium": {
            "height": 180,
            "url": "https://i.ytimg.com/vi/10ZVZIqf4uM/mqdefault.jpg",
            "width": 320
           },
           "standard": {
            "height": 480,
            "url": "https://i.ytimg.com/vi/10ZVZIqf4uM/sddefault.jpg",
            "width": 640
           }
          },
          "title": "Apex Legends: Eclipse Gameplay Trailer"
         },
         "statistics": {
          "commentCount": "6915",
          "favoriteCount": "0",
          "likeCount": "66295",
          "viewCount": "1424218"
         }
        },
        {
         "contentDetails": {
          "caption": "false",
          "contentRating": {},
          "definition": "hd",
          "dimension": "2d",
          "duration": "PT1M1S",
          "licensedContent": true,
          "projection": "rectangular"
         },
         "etag": "gLLbe0x5cquh1AbV3u72f6AIdiM",
         "id": "0n1bu8o_jXc",
         "kind": "youtube#video",
         "snippet": {
          "categoryId": "10",
          "channelId": "UCM9r1xn6s30OnlJWb-jc3Sw",
          "channelTitle": "XXXTENTACION",
          "description": "On November 22, 2022 'In His Own Words: XXXTENTACION', a bonus film that includes never\n before seen footage filmed by FADER Films, will be available globally (both in the US and internationally). In\n addition, ‘Look At Me: XXXTENTACION’ will officially be released for the first time internationally (outside of the US).\n\nFollow the links below\nto pre-order and see the films:\n \nUSA Only Link:\nhttps://www.altavod.com/content/in-his-own-words-xxxtentacion\nGlobal Link:\nhttps://www.altavod.com/content/look-at-me-xxxtentacion\n\n#LAMXXX \n#IHOWXXX",
          "liveBroadcastContent": "none",
          "localized": {
           "description": "On November 22, 2022 'In His Own Words: XXXTENTACION', a bonus film that includes never\n before seen footage filmed by FADER Films, will be available globally (both in the US and internationally). In\n addition, ‘Look At Me: XXXTENTACION’ will officially be released for the first time internationally (outside of the US).\n\nFollow the links below\nto pre-order and see the films:\n \nUSA Only Link:\nhttps://www.altavod.com/content/in-his-own-words-xxxtentacion\nGlobal Link:\nhttps://www.altavod.com/content/look-at-me-xxxtentacion\n\n#LAMXXX \n#IHOWXXX",
           "title": "\"In His Own Words: XXXTENTACION\""
          },
          "publishedAt": "2022-10-25T13:12:56Z",
          "thumbnails": {
           "default": {
            "height": 90,
            "url": "https://i.ytimg.com/vi/0n1bu8o_jXc/default.jpg",
            "width": 120
           },
           "high": {
            "height": 360,
            "url": "https://i.ytimg.com/vi/0n1bu8o_jXc/hqdefault.jpg",
            "width": 480
           },
           "medium": {
            "height": 180,
            "url": "https://i.ytimg.com/vi/0n1bu8o_jXc/mqdefault.jpg",
            "width": 320
           },
           "standard": {
            "height": 480,
            "url": "https://i.ytimg.com/vi/0n1bu8o_jXc/sddefault.jpg",
            "width": 640
           }
          },
          "title": "\"In His Own Words: XXXTENTACION\""
         },
         "statistics": {
          "commentCount": "8363",
          "favoriteCount": "0",
          "likeCount": "79441",
          "viewCount": "381029"
         }
        },
        {
         "contentDetails": {
          "caption": "false",
          "contentRating": {},
          "definition": "hd",
          "dimension": "2d",
          "duration": "PT2M20S",
          "licensedContent": false,
          "projection": "rectangular",
          "regionRestriction": {
           "blocked": [
            "BY",
            "RU"
           ]
          }
         },
         "etag": "SGrvzmRK0lHhUxjYopNnUio0uc4",
         "id": "IWnAm2wJS-E",
         "kind": "youtube#video",
         "snippet": {
          "categoryId": "10",
          "channelId": "UCdARoxad2UaIQPDy6fbz4Nw",
          "channelTitle": "Ski Mask The Slump God",
          "description": "The official audio for \"OOGA BOOGA!\" by Ski Mask The Slump God. Listen now: https://SkiMaskTheSlumpGod.lnk.to/OOGABOOGA\n\n►Subscribe to Ski Mask The Slump God: \nhttps://skimasktheslumpgod.lnk.to/subscribe\n\n►Follow Ski Mask The Slump God:\nhttp://www.skimasktheslumpgod.net\nhttps://instagram.com/theslumpgod\nhttps://twitter.com/theslumpgod\nhttps://tiktok.com/@skimasktheslumpgod\nhttps://facebook.com/officialslumpgod\nhttps://soundcloud.com/rickybobby-slumpgod\n\n►Lyrics:\n(Feeling like Omarion in 2003 , in the rain video got my shirt off)  \n(Freaky gyal) \n\nNed’s declassified bitch I’m fried  \nIn the club with a damn survival guide  \nToxic said I’m like the cyanide  \nAn alien in a pod no tide  \nBurning up vampire UV light  \nMade 50k like a feather this shit light  \nMy dog in jail Ben Franklin send a kite  \nGoulash she eating good tonight  \nIn the gulag nigga we can fight  \nTake ya tool off nigga can you fight  \nMy ice on pluto my future looking bright  \nThe last line a metaphor read it back  \nYou need neuter  \nNigga im a tutor  \nPull up on em with the cheese got the Gouda  \nDon’t invite me anywhere I’m a looter  \nI’m the boogey man  \nOoga booga  \n\nWhat's up, what's up (what's up) \nWhat's up, what's up (yea) \nWhat's up (what's up) \nWhat's up (what's up) \nWhat's up (yea) \nWhat's up (yea) \nWhat's up, what's up (uhh) \nWhat's up, what's up (yea) \nWhat's up (yea) \nWhat's up (yea) \nWhat's up (aye, aye, aye) \nWhat's up \n\nEl capitán yo terrio la Tierra  \nOn my Spanish shit bitch I need sombrera (sombrero)  \nIn the strip Rihanna need umbrella  \nCause I make it rain bitch check the weather \nIn my bag like a chapstick fella  \nAnd I’m with my dogs like my name Cruella  \nBack in the day I been had guts cigarillo  \nI know she blow pipes seen her play the Cello  \nBitch I’m a legend chilling with a mike dean at a bootsy Bellow  \nHow can I tell ya I like Starbucks sipping on bean vanilla  \nGo together no but we can Iggy Carti tether  \nNot a Mayweather but Ill send a nigga to the nether  \nYou need neuter  \nNigga im a tutor  \nPull up on em with the cheese got the Gouda  \nDon’t invite me anywhere I’m a looter  \nI’m the boogey man  \nOoga booga  \n\nWhat's up, what's up (what's up) \nWhat's up, what's up (yea) \nWhat's up (what's up) \nWhat's up (what's up) \nWhat's up (yea) \nWhat's up (yea) \nWhat's up, what's up (uhh) \nWhat's up, what's up (yea) \nWhat's up (yea) \nWhat's up (yea) \nWhat's up (aye, aye, aye) \nWhat's up \n\n#SkiMaskTheSlumpGod #OOGABOOGA",
          "liveBroadcastContent": "none",
          "localized": {
           "description": "The official audio for \"OOGA BOOGA!\" by Ski Mask The Slump God. Listen now: https://SkiMaskTheSlumpGod.lnk.to/OOGABOOGA\n\n►Subscribe to Ski Mask The Slump God: \nhttps://skimasktheslumpgod.lnk.to/subscribe\n\n►Follow Ski Mask The Slump God:\nhttp://www.skimasktheslumpgod.net\nhttps://instagram.com/theslumpgod\nhttps://twitter.com/theslumpgod\nhttps://tiktok.com/@skimasktheslumpgod\nhttps://facebook.com/officialslumpgod\nhttps://soundcloud.com/rickybobby-slumpgod\n\n►Lyrics:\n(Feeling like Omarion in 2003 , in the rain video got my shirt off)  \n(Freaky gyal) \n\nNed’s declassified bitch I’m fried  \nIn the club with a damn survival guide  \nToxic said I’m like the cyanide  \nAn alien in a pod no tide  \nBurning up vampire UV light  \nMade 50k like a feather this shit light  \nMy dog in jail Ben Franklin send a kite  \nGoulash she eating good tonight  \nIn the gulag nigga we can fight  \nTake ya tool off nigga can you fight  \nMy ice on pluto my future looking bright  \nThe last line a metaphor read it back  \nYou need neuter  \nNigga im a tutor  \nPull up on em with the cheese got the Gouda  \nDon’t invite me anywhere I’m a looter  \nI’m the boogey man  \nOoga booga  \n\nWhat's up, what's up (what's up) \nWhat's up, what's up (yea) \nWhat's up (what's up) \nWhat's up (what's up) \nWhat's up (yea) \nWhat's up (yea) \nWhat's up, what's up (uhh) \nWhat's up, what's up (yea) \nWhat's up (yea) \nWhat's up (yea) \nWhat's up (aye, aye, aye) \nWhat's up \n\nEl capitán yo terrio la Tierra  \nOn my Spanish shit bitch I need sombrera (sombrero)  \nIn the strip Rihanna need umbrella  \nCause I make it rain bitch check the weather \nIn my bag like a chapstick fella  \nAnd I’m with my dogs like my name Cruella  \nBack in the day I been had guts cigarillo  \nI know she blow pipes seen her play the Cello  \nBitch I’m a legend chilling with a mike dean at a bootsy Bellow  \nHow can I tell ya I like Starbucks sipping on bean vanilla  \nGo together no but we can Iggy Carti tether  \nNot a Mayweather but Ill send a nigga to the nether  \nYou need neuter  \nNigga im a tutor  \nPull up on em with the cheese got the Gouda  \nDon’t invite me anywhere I’m a looter  \nI’m the boogey man  \nOoga booga  \n\nWhat's up, what's up (what's up) \nWhat's up, what's up (yea) \nWhat's up (what's up) \nWhat's up (what's up) \nWhat's up (yea) \nWhat's up (yea) \nWhat's up, what's up (uhh) \nWhat's up, what's up (yea) \nWhat's up (yea) \nWhat's up (yea) \nWhat's up (aye, aye, aye) \nWhat's up \n\n#SkiMaskTheSlumpGod #OOGABOOGA",
           "title": "Ski Mask The Slump God - OOGA BOOGA! (Official Audio)"
          },
          "publishedAt": "2022-10-25T04:02:16Z",
          "tags": [
           "ski mask the slump god",
           "ski mask",
           "the slump god",
           "the slump god ski mask",
           "dj scheme",
           "scheme",
           "admit it",
           "catch me outside",
           "lyrical lemonade",
           "sin city",
           "ski mask the slump god lyrics",
           "ski mask video",
           "ski mask album",
           "ski mask the slump god album",
           "ski mask the slump god ooga booga",
           "ooga booga",
           "oga boga",
           "ski mask ooga booga",
           "ski mask the slump god oga boga",
           "ooga booga tiktok",
           "ooga booga tiktok sound",
           "ooga booga halloween"
          ],
          "thumbnails": {
           "default": {
            "height": 90,
            "url": "https://i.ytimg.com/vi/IWnAm2wJS-E/default.jpg",
            "width": 120
           },
           "high": {
            "height": 360,
            "url": "https://i.ytimg.com/vi/IWnAm2wJS-E/hqdefault.jpg",
            "width": 480
           },
           "maxres": {
            "height": 720,
            "url": "https://i.ytimg.com/vi/IWnAm2wJS-E/maxresdefault.jpg",
            "width": 1280
           },
           "medium": {
            "height": 180,
            "url": "https://i.ytimg.com/vi/IWnAm2wJS-E/mqdefault.jpg",
            "width": 320
           },
           "standard": {
            "height": 480,
            "url": "https://i.ytimg.com/vi/IWnAm2wJS-E/sddefault.jpg",
            "width": 640
           }
          },
          "title": "Ski Mask The Slump God - OOGA BOOGA! (Official Audio)"
         },
         "statistics": {
          "commentCount": "2815",
          "favoriteCount": "0",
          "likeCount": "40952",
          "viewCount": "233536"
         }
        },
        {
         "contentDetails": {
          "caption": "false",
          "contentRating": {},
          "definition": "hd",
          "dimension": "2d",
          "duration": "PT4M53S",
          "licensedContent": true,
          "projection": "rectangular",
          "regionRestriction": {
           "allowed": [
            "AD",
            "AE",
            "AF",
            "AG",
            "AI",
            "AL",
            "AM",
            "AO",
            "AQ",
            "AR",
            "AS",
            "AT",
            "AW",
            "AX",
            "AZ",
            "BA",
            "BB",
            "BD",
            "BE",
            "BF",
            "BG",
            "BH",
            "BI",
            "BJ",
            "BL",
            "BM",
            "BN",
            "BO",
            "BQ",
            "BR",
            "BS",
            "BT",
            "BW",
            "BY",
            "BZ",
            "CA",
            "CC",
            "CD",
            "CF",
            "CG",
            "CH",
            "CI",
            "CK",
            "CL",
            "CM",
            "CN",
            "CO",
            "CR",
            "CU",
            "CV",
            "CW",
            "CX",
            "CY",
            "CZ",
            "DE",
            "DJ",
            "DK",
            "DM",
            "DO",
            "DZ",
            "EC",
            "EE",
            "EG",
            "EH",
            "ER",
            "ES",
            "ET",
            "FI",
            "FJ",
            "FK",
            "FM",
            "FO",
            "FR",
            "GA",
            "GB",
            "GD",
            "GE",
            "GF",
            "GG",
            "GH",
            "GI",
            "GL",
            "GM",
            "GN",
            "GP",
            "GQ",
            "GR",
            "GS",
            "GT",
            "GU",
            "GW",
            "GY",
            "HK",
            "HN",
            "HR",
            "HT",
            "HU",
            "ID",
            "IE",
            "IL",
            "IM",
            "IO",
            "IQ",
            "IR",
            "IS",
            "IT",
            "JE",
            "JM",
            "JO",
            "JP",
            "KE",
            "KG",
            "KH",
            "KI",
            "KM",
            "KN",
            "KP",
            "KR",
            "KW",
            "KY",
            "KZ",
            "LA",
            "LB",
            "LC",
            "LI",
            "LK",
            "LR",
            "LS",
            "LT",
            "LU",
            "LV",
            "LY",
            "MA",
            "MC",
            "MD",
            "ME",
            "MF",
            "MG",
            "MH",
            "MK",
            "ML",
            "MM",
            "MN",
            "MO",
            "MP",
            "MQ",
            "MR",
            "MS",
            "MT",
            "MU",
            "MV",
            "MW",
            "MX",
            "MY",
            "MZ",
            "NA",
            "NC",
            "NE",
            "NF",
            "NG",
            "NI",
            "NL",
            "NO",
            "NP",
            "NR",
            "NU",
            "NZ",
            "OM",
            "PA",
            "PE",
            "PF",
            "PG",
            "PH",
            "PK",
            "PL",
            "PM",
            "PN",
            "PR",
            "PS",
            "PT",
            "PW",
            "PY",
            "QA",
            "RE",
            "RO",
            "RS",
            "RU",
            "RW",
            "SA",
            "SB",
            "SC",
            "SD",
            "SE",
            "SG",
            "SH",
            "SI",
            "SJ",
            "SK",
            "SL",
            "SM",
            "SN",
            "SO",
            "SR",
            "ST",
            "SV",
            "SX",
            "SY",
            "SZ",
            "TC",
            "TD",
            "TF",
            "TG",
            "TH",
            "TJ",
            "TK",
            "TL",
            "TM",
            "TN",
            "TO",
            "TR",
            "TT",
            "TV",
            "TW",
            "TZ",
            "UA",
            "UG",
            "UM",
            "US",
            "UY",
            "UZ",
            "VA",
            "VC",
            "VE",
            "VG",
            "VI",
            "VN",
            "VU",
            "WF",
            "WS",
            "YE",
            "YT",
            "ZA",
            "ZM",
            "ZW"
           ]
          }
         },
         "etag": "TI4CbyLRmYx2j8CKrVeONa44vAo",
         "id": "UgawhhcgL10",
         "kind": "youtube#video",
         "snippet": {
          "categoryId": "24",
          "channelId": "UCJ0uqCI0Vqr2Rrt1HseGirg",
          "channelTitle": "The Late Late Show with James Corden",
          "defaultAudioLanguage": "en",
          "defaultLanguage": "en",
          "description": "James addresses headlines about a brunch he had in a New York City restaurant.\n\nMore Late Late Show:\nSubscribe: http://bit.ly/CordenYouTube\nWatch Full Episodes: http://bit.ly/1ENyPw4\nFacebook: http://on.fb.me/19PIHLC\nTwitter: http://bit.ly/1Iv0q6k\nInstagram: http://bit.ly/latelategram\nTikTok: http://https://www.tiktok.com/@latelateshow\n\nWatch The Late Late Show with James Corden weeknights at 12:35 AM ET/11:35 PM CT on CBS and streaming on Paramount+.\n\n\n---\nEach week night, THE LATE LATE SHOW with JAMES CORDEN throws the ultimate late night after party with a mix of celebrity guests, edgy musical acts, games and sketches. Corden differentiates his show by offering viewers a peek behind-the-scenes into the green room, bringing all of his guests out at once and lending his musical and acting talents to various sketches. Additionally, bandleader Reggie Watts and the house band provide original, improvised music throughout the show. Since Corden took the reigns as host in March 2015, he has quickly become known for generating buzzworthy viral videos, such as Carpool Karaoke.\"",
          "liveBroadcastContent": "none",
          "localized": {
           "description": "James addresses headlines about a brunch he had in a New York City restaurant.\n\nMore Late Late Show:\nSubscribe: http://bit.ly/CordenYouTube\nWatch Full Episodes: http://bit.ly/1ENyPw4\nFacebook: http://on.fb.me/19PIHLC\nTwitter: http://bit.ly/1Iv0q6k\nInstagram: http://bit.ly/latelategram\nTikTok: http://https://www.tiktok.com/@latelateshow\n\nWatch The Late Late Show with James Corden weeknights at 12:35 AM ET/11:35 PM CT on CBS and streaming on Paramount+.\n\n\n---\nEach week night, THE LATE LATE SHOW with JAMES CORDEN throws the ultimate late night after party with a mix of celebrity guests, edgy musical acts, games and sketches. Corden differentiates his show by offering viewers a peek behind-the-scenes into the green room, bringing all of his guests out at once and lending his musical and acting talents to various sketches. Additionally, bandleader Reggie Watts and the house band provide original, improvised music throughout the show. Since Corden took the reigns as host in March 2015, he has quickly become known for generating buzzworthy viral videos, such as Carpool Karaoke.\"",
           "title": "James Corden Discusses His Restaurant Episode"
          },
          "publishedAt": "2022-10-25T06:40:53Z",
          "tags": [
           "The Late Late Show",
           "Late Late Show",
           "James Corden",
           "Corden",
           "late night",
           "late night show",
           "comedy",
           "comedian",
           "celebrity",
           "celeb",
           "celebrities",
           "CBS",
           "joke",
           "jokes",
           "funny",
           "funny videos",
           "funny video",
           "humor",
           "hollywood",
           "famous"
          ],
          "thumbnails": {
           "default": {
            "height": 90,
            "url": "https://i.ytimg.com/vi/UgawhhcgL10/default.jpg",
            "width": 120
           },
           "high": {
            "height": 360,
            "url": "https://i.ytimg.com/vi/UgawhhcgL10/hqdefault.jpg",
            "width": 480
           },
           "maxres": {
            "height": 720,
            "url": "https://i.ytimg.com/vi/UgawhhcgL10/maxresdefault.jpg",
            "width": 1280
           },
           "medium": {
            "height": 180,
            "url": "https://i.ytimg.com/vi/UgawhhcgL10/mqdefault.jpg",
            "width": 320
           },
           "standard": {
            "height": 480,
            "url": "https://i.ytimg.com/vi/UgawhhcgL10/sddefault.jpg",
            "width": 640
           }
          },
          "title": "James Corden Discusses His Restaurant Episode"
         },
         "statistics": {
          "commentCount": "2305",
          "favoriteCount": "0",
          "likeCount": "2932",
          "viewCount": "245711"
         }
        },
        {
         "contentDetails": {
          "caption": "false",
          "contentRating": {},
          "definition": "hd",
          "dimension": "2d",
          "duration": "PT19M",
          "licensedContent": true,
          "projection": "rectangular"
         },
         "etag": "2VJotBf3rB4J-_kci1xbH7bRHZI",
         "id": "esFyZ-eOKQc",
         "kind": "youtube#video",
         "snippet": {
          "categoryId": "17",
          "channelId": "UCMUu7nPaq5CIh6ul361bDzw",
          "channelTitle": "Travis Hunter",
          "description": "Travis Hunter returns to the field for his official season debut! #JacksonState #travishunter #deionsanders \n\nLIKE, COMMENT AND SUB UP.\n\n FOLLOW ME ON INSTAGRAM AND TWITCH @DB3_TIP\n\nShot & Edited By: https://youtube.com/c/ReachThePeople (Darius Sanders)\nGame Footage By: https://www.youtube.com/channel/UC_n7zvkh3y3PLBIUA1lHkjw/videos",
          "liveBroadcastContent": "none",
          "localized": {
           "description": "Travis Hunter returns to the field for his official season debut! #JacksonState #travishunter #deionsanders \n\nLIKE, COMMENT AND SUB UP.\n\n FOLLOW ME ON INSTAGRAM AND TWITCH @DB3_TIP\n\nShot & Edited By: https://youtube.com/c/ReachThePeople (Darius Sanders)\nGame Footage By: https://www.youtube.com/channel/UC_n7zvkh3y3PLBIUA1lHkjw/videos",
           "title": "Travis Hunter's First College Football Game (Jackson State Homecoming)"
          },
          "publishedAt": "2022-10-24T22:00:16Z",
          "tags": [
           "Deion sanders",
           "Coach prime",
           "Shilo sanders",
           "Jackson state university",
           "Jackson state football",
           "Jackson Mississippi",
           "Alabama state football",
           "Shedeur sanders",
           "ESPN",
           "Overtime",
           "First take",
           "Stephen A Smith",
           "Sports Center",
           "Espn Game Day",
           "College football",
           "College Game Day",
           "Football Highlights",
           "terrellowens",
           "halloffame",
           "BCU",
           "Travis Hunter",
           "Deion Sanders Jr",
           "Skip Bayless",
           "Darius Sanders"
          ],
          "thumbnails": {
           "default": {
            "height": 90,
            "url": "https://i.ytimg.com/vi/esFyZ-eOKQc/default.jpg",
            "width": 120
           },
           "high": {
            "height": 360,
            "url": "https://i.ytimg.com/vi/esFyZ-eOKQc/hqdefault.jpg",
            "width": 480
           },
           "medium": {
            "height": 180,
            "url": "https://i.ytimg.com/vi/esFyZ-eOKQc/mqdefault.jpg",
            "width": 320
           },
           "standard": {
            "height": 480,
            "url": "https://i.ytimg.com/vi/esFyZ-eOKQc/sddefault.jpg",
            "width": 640
           }
          },
          "title": "Travis Hunter's First College Football Game (Jackson State Homecoming)"
         },
         "statistics": {
          "commentCount": "277",
          "favoriteCount": "0",
          "likeCount": "7239",
          "viewCount": "243579"
         }
        },
        {
         "contentDetails": {
          "caption": "true",
          "contentRating": {},
          "definition": "hd",
          "dimension": "2d",
          "duration": "PT28S",
          "licensedContent": true,
          "projection": "rectangular"
         },
         "etag": "0Pdf8Rku6EWmKz60hIMKYfqu9ok",
         "id": "qMOQgqeN9Rc",
         "kind": "youtube#video",
         "snippet": {
          "categoryId": "25",
          "channelId": "UCHfF8wFnipMeDpJf8OmMxDg",
          "channelTitle": "FOX 11 Los Angeles",
          "defaultAudioLanguage": "en",
          "defaultLanguage": "en",
          "description": "They allegedly solicited money for a funeral, and it was all a scam, Rialto police said.\n\nSubscribe to FOX 11 Los Angeles: https://www.youtube.com/channel/UCHfF8wFnipMeDpJf8OmMxDg?sub_confirmation=1\n\nWatch FOX 11 Los Angeles Live: https://www.foxla.com/live\n\nFOX 11 delivers breaking news, live events, undercover investigations, police chases, true crime files, business news, celebrities and entertainment on Good Day LA (GDLA) and local stories from Los Angeles, Long Beach, Pasadena and across the nation.\n\nWatch more FOX 11 on YouTube:\nPolice Chases: https://bit.ly/3t2xQqc\nFunny Moments: https://bit.ly/3cbbFXX\nCelebrity Interviews: https://bit.ly/38kakg8\nArchives: https://bit.ly/30qtxso\n\nDownload the FOX 11 News app: https://www.foxla.com/apps\nDownload the FOX 11 Weather app: https://www.foxla.com/apps\nFollow FOX 11 Los Angeles on Facebook: https://www.facebook.com/fox11la/\nFollow FOX 11 Los Angeles on Twitter: https://twitter.com/foxla/\nFollow FOX 11 Los Angeles on Instagram: https://www.instagram.com/foxla/\nSubscribe to the FOX 11 newsletter: https://www.foxla.com/email",
          "liveBroadcastContent": "none",
          "localized": {
           "description": "They allegedly solicited money for a funeral, and it was all a scam, Rialto police said.\n\nSubscribe to FOX 11 Los Angeles: https://www.youtube.com/channel/UCHfF8wFnipMeDpJf8OmMxDg?sub_confirmation=1\n\nWatch FOX 11 Los Angeles Live: https://www.foxla.com/live\n\nFOX 11 delivers breaking news, live events, undercover investigations, police chases, true crime files, business news, celebrities and entertainment on Good Day LA (GDLA) and local stories from Los Angeles, Long Beach, Pasadena and across the nation.\n\nWatch more FOX 11 on YouTube:\nPolice Chases: https://bit.ly/3t2xQqc\nFunny Moments: https://bit.ly/3cbbFXX\nCelebrity Interviews: https://bit.ly/38kakg8\nArchives: https://bit.ly/30qtxso\n\nDownload the FOX 11 News app: https://www.foxla.com/apps\nDownload the FOX 11 Weather app: https://www.foxla.com/apps\nFollow FOX 11 Los Angeles on Facebook: https://www.facebook.com/fox11la/\nFollow FOX 11 Los Angeles on Twitter: https://twitter.com/foxla/\nFollow FOX 11 Los Angeles on Instagram: https://www.instagram.com/foxla/\nSubscribe to the FOX 11 newsletter: https://www.foxla.com/email",
           "title": "4 arrested for funeral scam"
          },
          "publishedAt": "2022-10-23T14:54:23Z",
          "tags": [
           "RIALTO",
           "crime"
          ],
          "thumbnails": {
           "default": {
            "height": 90,
            "url": "https://i.ytimg.com/vi/qMOQgqeN9Rc/default.jpg",
            "width": 120
           },
           "high": {
            "height": 360,
            "url": "https://i.ytimg.com/vi/qMOQgqeN9Rc/hqdefault.jpg",
            "width": 480
           },
           "medium": {
            "height": 180,
            "url": "https://i.ytimg.com/vi/qMOQgqeN9Rc/mqdefault.jpg",
            "width": 320
           },
           "standard": {
            "height": 480,
            "url": "https://i.ytimg.com/vi/qMOQgqeN9Rc/sddefault.jpg",
            "width": 640
           }
          },
          "title": "4 arrested for funeral scam"
         },
         "statistics": {
          "commentCount": "2855",
          "favoriteCount": "0",
          "likeCount": "5763",
          "viewCount": "659100"
         }
        },
        {
         "contentDetails": {
          "caption": "false",
          "contentRating": {},
          "definition": "hd",
          "dimension": "2d",
          "duration": "PT17M59S",
          "licensedContent": true,
          "projection": "rectangular"
         },
         "etag": "IrfF0DPCV2c87pZD2LOslnmw_58",
         "id": "agf2OJ2Hu7c",
         "kind": "youtube#video",
         "snippet": {
          "categoryId": "24",
          "channelId": "UCY6Ij8zOds0WJEeqCLOnqOQ",
          "channelTitle": "Alex Meyers",
          "defaultAudioLanguage": "en",
          "description": "Download TwoDots for FREE & enjoy the game now: https://twodots.onelink.me/8e55/1022alexmeyers\n\n★☆★ Help Me Get to 4,000,000 Subscribers! http://bit.ly/1Iqsdaq\n\nCheck out my Podcast\nhttps://www.youtube.com/channel/UCBgm0clEVtGjgUKGHbMrqIw/\n\n★☆★Buy some Merch:  alexmeyers.teemill.com\n\n★☆★PLEASE SHARE THIS VIDEO!!\n\n★☆★PREVIOUS VIDEOS:\n\nMonster High\nhttps://youtu.be/ySCYWFnmhIU\n\nDo Revenge\nhttps://youtu.be/EWx5mlPYDQY\n\nDisney Pinocchio Remake\nhttps://youtu.be/WfzqlO8kxTA\n\nHocus Pocus\nhttps://youtu.be/DA0d32pSTC8\n\nThank you so much for 3,000,000 subscribers.  If you like what you see, please share these videos with your friends to show support!",
          "liveBroadcastContent": "none",
          "localized": {
           "description": "Download TwoDots for FREE & enjoy the game now: https://twodots.onelink.me/8e55/1022alexmeyers\n\n★☆★ Help Me Get to 4,000,000 Subscribers! http://bit.ly/1Iqsdaq\n\nCheck out my Podcast\nhttps://www.youtube.com/channel/UCBgm0clEVtGjgUKGHbMrqIw/\n\n★☆★Buy some Merch:  alexmeyers.teemill.com\n\n★☆★PLEASE SHARE THIS VIDEO!!\n\n★☆★PREVIOUS VIDEOS:\n\nMonster High\nhttps://youtu.be/ySCYWFnmhIU\n\nDo Revenge\nhttps://youtu.be/EWx5mlPYDQY\n\nDisney Pinocchio Remake\nhttps://youtu.be/WfzqlO8kxTA\n\nHocus Pocus\nhttps://youtu.be/DA0d32pSTC8\n\nThank you so much for 3,000,000 subscribers.  If you like what you see, please share these videos with your friends to show support!",
           "title": "The School for Good and Evil doesn't make any sense"
          },
          "publishedAt": "2022-10-24T19:00:01Z",
          "tags": [
           "alex meyers",
           "alex myers",
           "alex mayers",
           "the school for good and evil",
           "netflix"
          ],
          "thumbnails": {
           "default": {
            "height": 90,
            "url": "https://i.ytimg.com/vi/agf2OJ2Hu7c/default.jpg",
            "width": 120
           },
           "high": {
            "height": 360,
            "url": "https://i.ytimg.com/vi/agf2OJ2Hu7c/hqdefault.jpg",
            "width": 480
           },
           "maxres": {
            "height": 720,
            "url": "https://i.ytimg.com/vi/agf2OJ2Hu7c/maxresdefault.jpg",
            "width": 1280
           },
           "medium": {
            "height": 180,
            "url": "https://i.ytimg.com/vi/agf2OJ2Hu7c/mqdefault.jpg",
            "width": 320
           },
           "standard": {
            "height": 480,
            "url": "https://i.ytimg.com/vi/agf2OJ2Hu7c/sddefault.jpg",
            "width": 640
           }
          },
          "title": "The School for Good and Evil doesn't make any sense"
         },
         "statistics": {
          "commentCount": "4750",
          "favoriteCount": "0",
          "likeCount": "53000",
          "viewCount": "564711"
         }
        },
        {
         "contentDetails": {
          "caption": "false",
          "contentRating": {},
          "definition": "hd",
          "dimension": "2d",
          "duration": "PT9M12S",
          "licensedContent": true,
          "projection": "rectangular"
         },
         "etag": "jO8TfWpfQ0Mj6F-Gws7p8xOsGs4",
         "id": "8u_F2rmUGkA",
         "kind": "youtube#video",
         "snippet": {
          "categoryId": "20",
          "channelId": "UCQSEAbOs6vsJfy7WN7iYaGQ",
          "channelTitle": "EazySpeezy",
          "defaultAudioLanguage": "en",
          "defaultLanguage": "en",
          "description": "Today we're speedrunning a game where we only have 60 seconds to live, so we get to do anything we want. Even illegal things. Yeah this is gonna be a weird speedrun\n\nMy 2nd channel (WEEKLY UPLOADS): https://www.youtube.com/eaziestspeezy\nWatch live at: https://twitch.tv/EazySpeezy\n\n▶ Twitter: https://twitter.com/EazySpeezy\n▶ Instagram: https://instagram.com/EazySpeezy/\n▶ Merch: https://eazyspeezy.com\n\nWatch the world record speedrun here: https://youtu.be/K9UtxW6l-Bo\n\nMy channel generally focuses on a more casual side of speedruns. With these videos I want to show off cool speedruns, explain how they work, and entertain. Hopefully you enjoy the content and maybe even take up speedrunning yourself, because it is truly a lot of fun!\n\n#EazySpeezy #Meteor60Seconds #Speedrun",
          "liveBroadcastContent": "none",
          "localized": {
           "description": "Today we're speedrunning a game where we only have 60 seconds to live, so we get to do anything we want. Even illegal things. Yeah this is gonna be a weird speedrun\n\nMy 2nd channel (WEEKLY UPLOADS): https://www.youtube.com/eaziestspeezy\nWatch live at: https://twitch.tv/EazySpeezy\n\n▶ Twitter: https://twitter.com/EazySpeezy\n▶ Instagram: https://instagram.com/EazySpeezy/\n▶ Merch: https://eazyspeezy.com\n\nWatch the world record speedrun here: https://youtu.be/K9UtxW6l-Bo\n\nMy channel generally focuses on a more casual side of speedruns. With these videos I want to show off cool speedruns, explain how they work, and entertain. Hopefully you enjoy the content and maybe even take up speedrunning yourself, because it is truly a lot of fun!\n\n#EazySpeezy #Meteor60Seconds #Speedrun",
           "title": "Meteor 60 Seconds speedruns are very dark"
          },
          "publishedAt": "2022-10-24T23:00:03Z",
          "tags": [
           "EazySpeezy",
           "meteor 60 seconds",
           "speedrun",
           "speed run",
           "world record",
           "wr",
           "speedrunning",
           "speedrunner",
           "speedruns",
           "60 seconds meteor",
           "all endings",
           "meteor 60 seconds all endings",
           "meteor 60 seconds funny",
           "meteor 60 seconds best ending",
           "meteor 60 seconds ending",
           "meteor 60 seconds speedrun",
           "meteor 60 seconds speed run",
           "meteor 60 seconds world record",
           "eazyspeezy speedrun",
           "eazyspeezy meteor 60 seconds"
          ],
          "thumbnails": {
           "default": {
            "height": 90,
            "url": "https://i.ytimg.com/vi/8u_F2rmUGkA/default.jpg",
            "width": 120
           },
           "high": {
            "height": 360,
            "url": "https://i.ytimg.com/vi/8u_F2rmUGkA/hqdefault.jpg",
            "width": 480
           },
           "maxres": {
            "height": 720,
            "url": "https://i.ytimg.com/vi/8u_F2rmUGkA/maxresdefault.jpg",
            "width": 1280
           },
           "medium": {
            "height": 180,
            "url": "https://i.ytimg.com/vi/8u_F2rmUGkA/mqdefault.jpg",
            "width": 320
           },
           "standard": {
            "height": 480,
            "url": "https://i.ytimg.com/vi/8u_F2rmUGkA/sddefault.jpg",
            "width": 640
           }
          },
          "title": "Meteor 60 Seconds speedruns are very dark"
         },
         "statistics": {
          "commentCount": "443",
          "favoriteCount": "0",
          "likeCount": "33170",
          "viewCount": "608064"
         }
        },
        {
         "contentDetails": {
          "caption": "false",
          "contentRating": {},
          "definition": "hd",
          "dimension": "2d",
          "duration": "PT21M43S",
          "licensedContent": true,
          "projection": "rectangular"
         },
         "etag": "2EomdxSeQGLTbRR0ibNdN51tyro",
         "id": "I2NMY7HKC-k",
         "kind": "youtube#video",
         "snippet": {
          "categoryId": "20",
          "channelId": "UCnlXUVuzrO_BllppmUCosig",
          "channelTitle": "MongoTV",
          "description": "Mongo and Wudo do a Security Tunnel Build Challenge! The Tunnels include Traps, Parkour, and many other things for the other player to complete. Who makes the better security tunnel? Does Mongo win? Does Wudo lose? Watch the video to find out!\n\n#Minecraft #Mongo #NoobVsPro",
          "liveBroadcastContent": "none",
          "localized": {
           "description": "Mongo and Wudo do a Security Tunnel Build Challenge! The Tunnels include Traps, Parkour, and many other things for the other player to complete. Who makes the better security tunnel? Does Mongo win? Does Wudo lose? Watch the video to find out!\n\n#Minecraft #Mongo #NoobVsPro",
           "title": "Minecraft NOOB vs PRO: SAFEST TUNNEL HOUSE BUILD CHALLENGE"
          },
          "publishedAt": "2022-10-24T22:05:22Z",
          "tags": [
           "noob vs pro",
           "maizen",
           "minecraft",
           "Mongo",
           "Wudo",
           "Build challenge",
           "i cheated in a build challenge",
           "Minecraft NOOB vs PRO: SAFEST SECURITY HOUSE BUILD CHALLENGE",
           "giant maze build challenge",
           "security tower build battle",
           "secret bunker minecraft",
           "prison break build challenge",
           "longest staircase build challenge",
           "Family House Build Challenge",
           "noob vs pro vs hacker",
           "minecraft noob vs pro",
           "minecraft noob vs pro vs hacker",
           "Minecraft NOOB vs PRO: SAFEST TUNNEL HOUSE BUILD CHALLENGE",
           "safest build"
          ],
          "thumbnails": {
           "default": {
            "height": 90,
            "url": "https://i.ytimg.com/vi/I2NMY7HKC-k/default.jpg",
            "width": 120
           },
           "high": {
            "height": 360,
            "url": "https://i.ytimg.com/vi/I2NMY7HKC-k/hqdefault.jpg",
            "width": 480
           },
           "maxres": {
            "height": 720,
            "url": "https://i.ytimg.com/vi/I2NMY7HKC-k/maxresdefault.jpg",
            "width": 1280
           },
           "medium": {
            "height": 180,
            "url": "https://i.ytimg.com/vi/I2NMY7HKC-k/mqdefault.jpg",
            "width": 320
           },
           "standard": {
            "height": 480,
            "url": "https://i.ytimg.com/vi/I2NMY7HKC-k/sddefault.jpg",
            "width": 640
           }
          },
          "title": "Minecraft NOOB vs PRO: SAFEST TUNNEL HOUSE BUILD CHALLENGE"
         },
         "statistics": {
          "commentCount": "249",
          "favoriteCount": "0",
          "likeCount": "5482",
          "viewCount": "379488"
         }
        },
        {
         "contentDetails": {
          "caption": "true",
          "contentRating": {},
          "definition": "hd",
          "dimension": "2d",
          "duration": "PT4M26S",
          "licensedContent": true,
          "projection": "rectangular"
         },
         "etag": "-kghXp9NCdJtWYIITayq70CTkew",
         "id": "swDtn3QC3Gw",
         "kind": "youtube#video",
         "snippet": {
          "categoryId": "25",
          "channelId": "UClMs26ViHFMy7MS897Alcxw",
          "channelTitle": "FOX 2 St. Louis",
          "defaultAudioLanguage": "en",
          "defaultLanguage": "en",
          "description": "A student who was inside Central Visual and Performing Arts High School recorded audio of the gunshots. Zaria explains what it was like to be inside the building when the shooting started.\n\nSt. Louis News: FOX 2 covers news, weather, and sports in Missouri and Illinois. Read more about this story or see the latest updates on our website https://FOX2Now.com\n\nFollow FOX 2 on social media:\n\nYouTube: https://www.youtube.com/FOX2Now\nFacebook: https://www.facebook.com/FOX2Now/\nTwitter: https://twitter.com/FOX2Now/\nInstagram: https://www.instagram.com/fox2now/\nTikTok: https://tiktok.com/@fox2now\nSnapChat: https://www.snapchat.com/add/fox2now",
          "liveBroadcastContent": "none",
          "localized": {
           "description": "A student who was inside Central Visual and Performing Arts High School recorded audio of the gunshots. Zaria explains what it was like to be inside the building when the shooting started.\n\nSt. Louis News: FOX 2 covers news, weather, and sports in Missouri and Illinois. Read more about this story or see the latest updates on our website https://FOX2Now.com\n\nFollow FOX 2 on social media:\n\nYouTube: https://www.youtube.com/FOX2Now\nFacebook: https://www.facebook.com/FOX2Now/\nTwitter: https://twitter.com/FOX2Now/\nInstagram: https://www.instagram.com/fox2now/\nTikTok: https://tiktok.com/@fox2now\nSnapChat: https://www.snapchat.com/add/fox2now",
           "title": "Student describes being in St. Louis school during shooting"
          },
          "publishedAt": "2022-10-24T16:29:11Z",
          "tags": [
           "stl",
           "st. louis",
           "news",
           "local news",
           "ktvi",
           "kplr"
          ],
          "thumbnails": {
           "default": {
            "height": 90,
            "url": "https://i.ytimg.com/vi/swDtn3QC3Gw/default.jpg",
            "width": 120
           },
           "high": {
            "height": 360,
            "url": "https://i.ytimg.com/vi/swDtn3QC3Gw/hqdefault.jpg",
            "width": 480
           },
           "maxres": {
            "height": 720,
            "url": "https://i.ytimg.com/vi/swDtn3QC3Gw/maxresdefault.jpg",
            "width": 1280
           },
           "medium": {
            "height": 180,
            "url": "https://i.ytimg.com/vi/swDtn3QC3Gw/mqdefault.jpg",
            "width": 320
           },
           "standard": {
            "height": 480,
            "url": "https://i.ytimg.com/vi/swDtn3QC3Gw/sddefault.jpg",
            "width": 640
           }
          },
          "title": "Student describes being in St. Louis school during shooting"
         },
         "statistics": {
          "commentCount": "1283",
          "favoriteCount": "0",
          "likeCount": "4113",
          "viewCount": "218483"
         }
        },
        {
         "contentDetails": {
          "caption": "false",
          "contentRating": {},
          "definition": "hd",
          "dimension": "2d",
          "duration": "PT16M29S",
          "licensedContent": true,
          "projection": "rectangular"
         },
         "etag": "pd3no31pwZj2oSXoKSdLnzTADfM",
         "id": "ebBQVzRamoE",
         "kind": "youtube#video",
         "snippet": {
          "categoryId": "17",
          "channelId": "UCQIUhhcmXsu6cN6n3y9-Pww",
          "channelTitle": "Jesser",
          "defaultAudioLanguage": "en",
          "defaultLanguage": "en",
          "description": "★ BUCKETSQUAD MERCH OUT 2PM NOW! ★ https://bucketsquad.com/?aff=7\n\nSubscribe to the SMS for early access https://bucketsquad.smsb.co/4bFeJ7\n\nToday we're attempting to complete 100 world records in 24 hours...\n\n100 IMPOSSIBLE Trick Shots In 24 Hours\n► https://youtu.be/DOWEjEEQk8o\n\nBreaking 24 Basketball World Records In 24 HOURS!\n► https://youtu.be/cJM_niYqhpc\n\nThanks to @EfronPhoto and @Johnny Carmack for joining me in the video!\n\n★ Follow me on social media @Jesser ★\n●Instagram https://instagram.com/jesser\n●Twitter https://twitter.com/jesser\n\n#BucketSquad #2HYPE",
          "liveBroadcastContent": "none",
          "localized": {
           "description": "★ BUCKETSQUAD MERCH OUT 2PM NOW! ★ https://bucketsquad.com/?aff=7\n\nSubscribe to the SMS for early access https://bucketsquad.smsb.co/4bFeJ7\n\nToday we're attempting to complete 100 world records in 24 hours...\n\n100 IMPOSSIBLE Trick Shots In 24 Hours\n► https://youtu.be/DOWEjEEQk8o\n\nBreaking 24 Basketball World Records In 24 HOURS!\n► https://youtu.be/cJM_niYqhpc\n\nThanks to @EfronPhoto and @Johnny Carmack for joining me in the video!\n\n★ Follow me on social media @Jesser ★\n●Instagram https://instagram.com/jesser\n●Twitter https://twitter.com/jesser\n\n#BucketSquad #2HYPE",
           "title": "Breaking 100 World Records in 24 Hours"
          },
          "publishedAt": "2022-10-24T20:54:31Z",
          "tags": [
           "jesser",
           "100 world records",
           "100 world records in 24 hours",
           "jesser basketball",
           "24 hours",
           "world record",
           "guinness world records",
           "basketball world record",
           "100 trickshots",
           "100 trickshots in 24 hours",
           "24 hour challenge",
           "extreme challenge",
           "challenge",
           "dude perfect",
           "jesser trickshots"
          ],
          "thumbnails": {
           "default": {
            "height": 90,
            "url": "https://i.ytimg.com/vi/ebBQVzRamoE/default.jpg",
            "width": 120
           },
           "high": {
            "height": 360,
            "url": "https://i.ytimg.com/vi/ebBQVzRamoE/hqdefault.jpg",
            "width": 480
           },
           "maxres": {
            "height": 720,
            "url": "https://i.ytimg.com/vi/ebBQVzRamoE/maxresdefault.jpg",
            "width": 1280
           },
           "medium": {
            "height": 180,
            "url": "https://i.ytimg.com/vi/ebBQVzRamoE/mqdefault.jpg",
            "width": 320
           },
           "standard": {
            "height": 480,
            "url": "https://i.ytimg.com/vi/ebBQVzRamoE/sddefault.jpg",
            "width": 640
           }
          },
          "title": "Breaking 100 World Records in 24 Hours"
         },
         "statistics": {
          "commentCount": "736",
          "favoriteCount": "0",
          "likeCount": "20104",
          "viewCount": "755451"
         }
        },
        {
         "contentDetails": {
          "caption": "false",
          "contentRating": {},
          "definition": "hd",
          "dimension": "2d",
          "duration": "PT5M40S",
          "licensedContent": true,
          "projection": "rectangular"
         },
         "etag": "99Zf_iQ8e2t_OFOzpA73hDYGPqI",
         "id": "latGQ-Dxdoo",
         "kind": "youtube#video",
         "snippet": {
          "categoryId": "25",
          "channelId": "UCzJXNzqz6VMHSNInQt_7q6w",
          "channelTitle": "Megyn Kelly",
          "description": "Megyn Kelly opens the show to discuss her sister's death over the weekend, focusing on what really matters, honoring loved ones, and more. \n\nLIKE & SUBSCRIBE for new videos everyday: https://bit.ly/3Aw93yw\n\nWatch full clips of The Megyn Kelly Show here: https://bit.ly/3xFXNxI\n\nFind the full audio show wherever you get your podcasts:\nApple — https://podcasts.apple.com/us/podcast/the-megyn-kelly-show/id1532976305\nSpotify — https://open.spotify.com/show/0awxEJH88Xur0GHXuteBLw?si=0EcxxHSLQhO2uYmpUN13KQ&dl_branch=1\n\nFollow The Megyn Kelly Show on all social platforms:\nTwitter — https://twitter.com/MegynKellyShow\nInstagram — https://www.instagram.com/megynkellyshow/\nFacebook — https://www.facebook.com/MegynKellyShow\n\nConnect with me on social media:\nTwitter — https://twitter.com/megynkelly\nInstagram — https://www.instagram.com/megynkelly/\nFacebook — https://www.facebook.com/MegynKellyShow\n\n#MegynKellyShow #MegynKelly #News #Politics",
          "liveBroadcastContent": "none",
          "localized": {
           "description": "Megyn Kelly opens the show to discuss her sister's death over the weekend, focusing on what really matters, honoring loved ones, and more. \n\nLIKE & SUBSCRIBE for new videos everyday: https://bit.ly/3Aw93yw\n\nWatch full clips of The Megyn Kelly Show here: https://bit.ly/3xFXNxI\n\nFind the full audio show wherever you get your podcasts:\nApple — https://podcasts.apple.com/us/podcast/the-megyn-kelly-show/id1532976305\nSpotify — https://open.spotify.com/show/0awxEJH88Xur0GHXuteBLw?si=0EcxxHSLQhO2uYmpUN13KQ&dl_branch=1\n\nFollow The Megyn Kelly Show on all social platforms:\nTwitter — https://twitter.com/MegynKellyShow\nInstagram — https://www.instagram.com/megynkellyshow/\nFacebook — https://www.facebook.com/MegynKellyShow\n\nConnect with me on social media:\nTwitter — https://twitter.com/megynkelly\nInstagram — https://www.instagram.com/megynkelly/\nFacebook — https://www.facebook.com/MegynKellyShow\n\n#MegynKellyShow #MegynKelly #News #Politics",
           "title": "Megyn Kelly Reveals Her Sister Died Over the Weekend, and the Need to Focus on What Matters"
          },
          "publishedAt": "2022-10-24T19:01:05Z",
          "tags": [
           "Megyn Kelly",
           "Megyn",
           "Megyn Kelly Show",
           "The Megyn Kelly Show",
           "megyn kelly",
           "megyn kelly show",
           "megyn kelly on",
           "megyn kelly vs",
           "megyn kelly reacts",
           "megyn kelly interviews",
           "megyn kelly full show",
           "megyn kelly full podcast",
           "megyn kelly full episode",
           "the megyn kelly show",
           "megyn kelly news",
           "full megyn kelly"
          ],
          "thumbnails": {
           "default": {
            "height": 90,
            "url": "https://i.ytimg.com/vi/latGQ-Dxdoo/default.jpg",
            "width": 120
           },
           "high": {
            "height": 360,
            "url": "https://i.ytimg.com/vi/latGQ-Dxdoo/hqdefault.jpg",
            "width": 480
           },
           "maxres": {
            "height": 720,
            "url": "https://i.ytimg.com/vi/latGQ-Dxdoo/maxresdefault.jpg",
            "width": 1280
           },
           "medium": {
            "height": 180,
            "url": "https://i.ytimg.com/vi/latGQ-Dxdoo/mqdefault.jpg",
            "width": 320
           },
           "standard": {
            "height": 480,
            "url": "https://i.ytimg.com/vi/latGQ-Dxdoo/sddefault.jpg",
            "width": 640
           }
          },
          "title": "Megyn Kelly Reveals Her Sister Died Over the Weekend, and the Need to Focus on What Matters"
         },
         "statistics": {
          "commentCount": "12332",
          "favoriteCount": "0",
          "likeCount": "35344",
          "viewCount": "1311602"
         }
        },
        {
         "contentDetails": {
          "caption": "true",
          "contentRating": {},
          "definition": "hd",
          "dimension": "2d",
          "duration": "PT11M7S",
          "licensedContent": true,
          "projection": "rectangular"
         },
         "etag": "v8Pd1JAeaSnJ3BE7KpIsmdzpzbQ",
         "id": "_jeFstz0Ba8",
         "kind": "youtube#video",
         "snippet": {
          "categoryId": "17",
          "channelId": "UCDVYQ4Zhbm3S2dlz7P1GBDg",
          "channelTitle": "NFL",
          "description": "Check out our other channels:\nNFL Mundo https://www.youtube.com/mundonfl\nNFL Brasil https://www.youtube.com/c/NFLBrasilOficial\nNFL UK https://www.youtube.com/channel/UCVe0dAja_vZCmvfHXjtdRQA \nNFL Fantasy Football https://www.youtube.com/nflfantasyfootball\nNFL Play Football https://www.youtube.com/playfootball\nNFL Throwback http://www.youtube.com/nflvault\nNFL Films http://www.youtube.com/nflfilms\nNFL Network http://www.youtube.com/nflnetwork\n\n#NFL #Football #AmericanFootball",
          "liveBroadcastContent": "none",
          "localized": {
           "description": "Check out our other channels:\nNFL Mundo https://www.youtube.com/mundonfl\nNFL Brasil https://www.youtube.com/c/NFLBrasilOficial\nNFL UK https://www.youtube.com/channel/UCVe0dAja_vZCmvfHXjtdRQA \nNFL Fantasy Football https://www.youtube.com/nflfantasyfootball\nNFL Play Football https://www.youtube.com/playfootball\nNFL Throwback http://www.youtube.com/nflvault\nNFL Films http://www.youtube.com/nflfilms\nNFL Network http://www.youtube.com/nflnetwork\n\n#NFL #Football #AmericanFootball",
           "title": "Chicago Bears vs. New England Patriots | 2022 Week 7 Highlights"
          },
          "publishedAt": "2022-10-25T03:29:25Z",
          "thumbnails": {
           "default": {
            "height": 90,
            "url": "https://i.ytimg.com/vi/_jeFstz0Ba8/default.jpg",
            "width": 120
           },
           "high": {
            "height": 360,
            "url": "https://i.ytimg.com/vi/_jeFstz0Ba8/hqdefault.jpg",
            "width": 480
           },
           "maxres": {
            "height": 720,
            "url": "https://i.ytimg.com/vi/_jeFstz0Ba8/maxresdefault.jpg",
            "width": 1280
           },
           "medium": {
            "height": 180,
            "url": "https://i.ytimg.com/vi/_jeFstz0Ba8/mqdefault.jpg",
            "width": 320
           },
           "standard": {
            "height": 480,
            "url": "https://i.ytimg.com/vi/_jeFstz0Ba8/sddefault.jpg",
            "width": 640
           }
          },
          "title": "Chicago Bears vs. New England Patriots | 2022 Week 7 Highlights"
         },
         "statistics": {
          "commentCount": "2546",
          "favoriteCount": "0",
          "likeCount": "18563",
          "viewCount": "1482350"
         }
        },
        {
         "contentDetails": {
          "caption": "false",
          "contentRating": {},
          "definition": "hd",
          "dimension": "2d",
          "duration": "PT22M16S",
          "licensedContent": true,
          "projection": "rectangular"
         },
         "etag": "3Mm967PPCDD07lpxM1UQW6ga9lg",
         "id": "u5GD9nU6w1o",
         "kind": "youtube#video",
         "snippet": {
          "categoryId": "22",
          "channelId": "UC-vaBe-YMpvcZL5rQ5OopZw",
          "channelTitle": "morgans vlogs",
          "description": "HAPPY MONDAY!!! here we go again hahahahahah \n\nFOLLOW ME ON INSTAGRAM:https://www.instagram.com/morganadams\nSUBSCRIBE TO RYLANDS VLOG CHANNEL!! https://www.youtube.com/channel/UCVe_...\n& HIS PODCAST!\nSHANE: https://www.youtube.com/user/shane\nFOLLOW STACEYS FOOD BLOG: https://staceylives.com\nhttps://www.youtube.com/channel/UCH2c...\nMOM:https://www.instagram.com/vickiadams2...\nDAD:https://www.instagram.com/bruceadams2...\nTRINITY: https://www.instagram.com/trinniee/?h...\n\nTimestamps\n0:00 - welcome to my story time\n5:54 - the state of the house today\n7:55 - MEET MY NEW CONTRACTOR\n12:25 - starting construction over\n17:10 -why I didn’t sell my house\n\nALL OF MY PREVIOUS HOUSE VIDEOS are in a playlist here: https://youtube.com/playlist?list=PLy...\n\nIf you want to watch my entire bedroom renovation series I've made a playlist here:) https://youtube.com/playlist?list=PLy...\n\nSUBSCRIBE TO MY CHANNEL\nhttps://www.youtube.com/morganadams1​...\n\nIf you're reading this comment \"we stan lucas and sam \"",
          "liveBroadcastContent": "none",
          "localized": {
           "description": "HAPPY MONDAY!!! here we go again hahahahahah \n\nFOLLOW ME ON INSTAGRAM:https://www.instagram.com/morganadams\nSUBSCRIBE TO RYLANDS VLOG CHANNEL!! https://www.youtube.com/channel/UCVe_...\n& HIS PODCAST!\nSHANE: https://www.youtube.com/user/shane\nFOLLOW STACEYS FOOD BLOG: https://staceylives.com\nhttps://www.youtube.com/channel/UCH2c...\nMOM:https://www.instagram.com/vickiadams2...\nDAD:https://www.instagram.com/bruceadams2...\nTRINITY: https://www.instagram.com/trinniee/?h...\n\nTimestamps\n0:00 - welcome to my story time\n5:54 - the state of the house today\n7:55 - MEET MY NEW CONTRACTOR\n12:25 - starting construction over\n17:10 -why I didn’t sell my house\n\nALL OF MY PREVIOUS HOUSE VIDEOS are in a playlist here: https://youtube.com/playlist?list=PLy...\n\nIf you want to watch my entire bedroom renovation series I've made a playlist here:) https://youtube.com/playlist?list=PLy...\n\nSUBSCRIBE TO MY CHANNEL\nhttps://www.youtube.com/morganadams1​...\n\nIf you're reading this comment \"we stan lucas and sam \"",
           "title": "What Happened to my Abandoned House..."
          },
          "publishedAt": "2022-10-24T17:34:28Z",
          "tags": [
           "morgan",
           "Morgans vlogs",
           "Morgan adams",
           "Ryland adams",
           "Morgan Adams vlogs",
           "MORGAN HOUSE RENO",
           "house tour",
           "house reno",
           "house renovation",
           "demo",
           "demo my house",
           "my house demo",
           "my house tour",
           "home decor",
           "diy",
           "vlogmas",
           "vlogmas day",
           "shane",
           "colorado",
           "christmas decor",
           "house",
           "home",
           "reno",
           "renovations",
           "Morgan house renovations",
           "barn reno",
           "vlog",
           "competition",
           "family channel",
           "family competition",
           "Ryland Shane morgan",
           "christmas",
           "vlogger",
           "Morgan and trinity"
          ],
          "thumbnails": {
           "default": {
            "height": 90,
            "url": "https://i.ytimg.com/vi/u5GD9nU6w1o/default.jpg",
            "width": 120
           },
           "high": {
            "height": 360,
            "url": "https://i.ytimg.com/vi/u5GD9nU6w1o/hqdefault.jpg",
            "width": 480
           },
           "maxres": {
            "height": 720,
            "url": "https://i.ytimg.com/vi/u5GD9nU6w1o/maxresdefault.jpg",
            "width": 1280
           },
           "medium": {
            "height": 180,
            "url": "https://i.ytimg.com/vi/u5GD9nU6w1o/mqdefault.jpg",
            "width": 320
           },
           "standard": {
            "height": 480,
            "url": "https://i.ytimg.com/vi/u5GD9nU6w1o/sddefault.jpg",
            "width": 640
           }
          },
          "title": "What Happened to my Abandoned House..."
         },
         "statistics": {
          "commentCount": "2486",
          "favoriteCount": "0",
          "likeCount": "23552",
          "viewCount": "313555"
         }
        },
        {
         "contentDetails": {
          "caption": "false",
          "contentRating": {},
          "definition": "hd",
          "dimension": "2d",
          "duration": "PT6M41S",
          "licensedContent": true,
          "projection": "rectangular"
         },
         "etag": "ntLi6XLpdKZJiH-1fg1IAEAfQFk",
         "id": "mitoAYstJi0",
         "kind": "youtube#video",
         "snippet": {
          "categoryId": "24",
          "channelId": "UCBBsPuUY-8UwkSim4zLXp1w",
          "channelTitle": "Ryan Hall, Y'all XTRA",
          "description": "In this video we are talking about a cold front that's causing severe weather, heavy rain, and flooding for a lot of people across  the US. \n\n#weatherchannel #ryanhall #ryanhallyall\n\nOFFICIAL WEATHER MERCH: https://shopryanhall.com/\n\nCheck out the StormSeekers discord server!\nhttps://discord.gg/ryanhallyall\n\nFollow me on these things:\n\nhttps://www.facebook.com/ryanhallyall\nhttps://twitter.com/ryanhallyall\nhttps://www.instagram.com/ryanhallyall/\nhttps://www.tiktok.com/@ryanhallyall\nhttps://www.twitch.tv/ryanhallyall\n\nOFFICIAL WEBSITE: https://ryanhallyall.com/\n\nBUSINESS INQUIRIES: info@ryanhallyall.com\n\nSend us something in the mail!\nPO Box 2668\nPikeville, KY 41501\n\nPlease refer to your local National Weather Service office to get the most reliable and up to date weather information as possible.",
          "liveBroadcastContent": "none",
          "localized": {
           "description": "In this video we are talking about a cold front that's causing severe weather, heavy rain, and flooding for a lot of people across  the US. \n\n#weatherchannel #ryanhall #ryanhallyall\n\nOFFICIAL WEATHER MERCH: https://shopryanhall.com/\n\nCheck out the StormSeekers discord server!\nhttps://discord.gg/ryanhallyall\n\nFollow me on these things:\n\nhttps://www.facebook.com/ryanhallyall\nhttps://twitter.com/ryanhallyall\nhttps://www.instagram.com/ryanhallyall/\nhttps://www.tiktok.com/@ryanhallyall\nhttps://www.twitch.tv/ryanhallyall\n\nOFFICIAL WEBSITE: https://ryanhallyall.com/\n\nBUSINESS INQUIRIES: info@ryanhallyall.com\n\nSend us something in the mail!\nPO Box 2668\nPikeville, KY 41501\n\nPlease refer to your local National Weather Service office to get the most reliable and up to date weather information as possible.",
           "title": "Big Storm To Cause Problems In The Deep South..."
          },
          "publishedAt": "2022-10-24T17:30:21Z",
          "thumbnails": {
           "default": {
            "height": 90,
            "url": "https://i.ytimg.com/vi/mitoAYstJi0/default.jpg",
            "width": 120
           },
           "high": {
            "height": 360,
            "url": "https://i.ytimg.com/vi/mitoAYstJi0/hqdefault.jpg",
            "width": 480
           },
           "maxres": {
            "height": 720,
            "url": "https://i.ytimg.com/vi/mitoAYstJi0/maxresdefault.jpg",
            "width": 1280
           },
           "medium": {
            "height": 180,
            "url": "https://i.ytimg.com/vi/mitoAYstJi0/mqdefault.jpg",
            "width": 320
           },
           "standard": {
            "height": 480,
            "url": "https://i.ytimg.com/vi/mitoAYstJi0/sddefault.jpg",
            "width": 640
           }
          },
          "title": "Big Storm To Cause Problems In The Deep South..."
         },
         "statistics": {
          "commentCount": "793",
          "favoriteCount": "0",
          "likeCount": "8779",
          "viewCount": "113624"
         }
        },
        {
         "contentDetails": {
          "caption": "true",
          "contentRating": {},
          "definition": "hd",
          "dimension": "2d",
          "duration": "PT1M58S",
          "licensedContent": true,
          "projection": "rectangular"
         },
         "etag": "mNP3nuGbdrbVQ53uXW8DIdzHdgA",
         "id": "5mbD2VxtGJk",
         "kind": "youtube#video",
         "snippet": {
          "categoryId": "24",
          "channelId": "UCcOkA2Xmk1valTOWSyKyp4g",
          "channelTitle": "Doctor Who",
          "defaultAudioLanguage": "en-GB",
          "defaultLanguage": "en-GB",
          "description": "Watch the regeneration of the Thirteenth Doctor... 🔥 #DoctorWho\nSubscribe to Doctor Who for more exclusive videos: http://bit.ly/SubscribeToDoctorWho\n \nWATCH MORE: \nCompilations: http://bit.ly/DWCompilations\nRegenerations: http://bit.ly/DWRegenerations\nTitle Sequences: http://bit.ly/ALLTitleSequences\n\nMORE ABOUT DOCTOR WHO:\nWelcome to the Doctor Who Channel! Travel in the TARDIS with clips dating back to the Doctor's first incarnation in 1963, all the way through dozens of regenerations. Including behind-the-scenes footage, exclusive videos and our very own show Doctor Who: The Fan Show - this is the place to find all the best official clips.\n#DoctorWho\n\nThis is a commercial channel from BBC Studios. Service information and feedback:  https://www.bbcstudios.com/contact/contact-us/",
          "liveBroadcastContent": "none",
          "localized": {
           "description": "Watch the regeneration of the Thirteenth Doctor... 🔥 #DoctorWho\nSubscribe to Doctor Who for more exclusive videos: http://bit.ly/SubscribeToDoctorWho\n \nWATCH MORE: \nCompilations: http://bit.ly/DWCompilations\nRegenerations: http://bit.ly/DWRegenerations\nTitle Sequences: http://bit.ly/ALLTitleSequences\n\nMORE ABOUT DOCTOR WHO:\nWelcome to the Doctor Who Channel! Travel in the TARDIS with clips dating back to the Doctor's first incarnation in 1963, all the way through dozens of regenerations. Including behind-the-scenes footage, exclusive videos and our very own show Doctor Who: The Fan Show - this is the place to find all the best official clips.\n#DoctorWho\n\nThis is a commercial channel from BBC Studios. Service information and feedback:  https://www.bbcstudios.com/contact/contact-us/",
           "title": "SPOILERS 🚨 The Thirteenth Doctor Regenerates | The Power of the Doctor | Doctor Who"
          },
          "publishedAt": "2022-10-23T20:15:00Z",
          "tags": [
           "doctor who",
           "the doctor",
           "dr who",
           "bbc",
           "doctor who bbc",
           "the power of the doctor",
           "thirteenth doctor regeneration",
           "thirteenth doctor death",
           "thirteenth doctor tardis",
           "jodie whittaker",
           "13th doctor",
           "jodie whittaker regeneration",
           "david tennant",
           "doctor who centenary special",
           "doctor who the power of the doctor",
           "doctor who reveal",
           "doctor who regeneration david tennant",
           "doctor who regeneration scene",
           "doctor who regeneration 2022",
           "tenth doctor"
          ],
          "thumbnails": {
           "default": {
            "height": 90,
            "url": "https://i.ytimg.com/vi/5mbD2VxtGJk/default.jpg",
            "width": 120
           },
           "high": {
            "height": 360,
            "url": "https://i.ytimg.com/vi/5mbD2VxtGJk/hqdefault.jpg",
            "width": 480
           },
           "maxres": {
            "height": 720,
            "url": "https://i.ytimg.com/vi/5mbD2VxtGJk/maxresdefault.jpg",
            "width": 1280
           },
           "medium": {
            "height": 180,
            "url": "https://i.ytimg.com/vi/5mbD2VxtGJk/mqdefault.jpg",
            "width": 320
           },
           "standard": {
            "height": 480,
            "url": "https://i.ytimg.com/vi/5mbD2VxtGJk/sddefault.jpg",
            "width": 640
           }
          },
          "title": "SPOILERS 🚨 The Thirteenth Doctor Regenerates | The Power of the Doctor | Doctor Who"
         },
         "statistics": {
          "commentCount": "7395",
          "favoriteCount": "0",
          "likeCount": "34501",
          "viewCount": "1066711"
         }
        },
        {
         "contentDetails": {
          "caption": "false",
          "contentRating": {},
          "definition": "hd",
          "dimension": "2d",
          "duration": "PT19M14S",
          "licensedContent": true,
          "projection": "rectangular"
         },
         "etag": "AmjZ2dAncqzPBeMDMSUELUyA1GI",
         "id": "rFVsqfyghIE",
         "kind": "youtube#video",
         "snippet": {
          "categoryId": "28",
          "channelId": "UCpZy-Hfqcxf-R7nQzlv9Bvw",
          "channelTitle": "Brandon Butch",
          "defaultAudioLanguage": "en",
          "description": "iOS 16.1 Released - What's New? | iOS 16.1 Features & Changes\n\nApple just released iOS 16.1 for all iPhones and there are more than 35 new features & changes included in the update! Some of these should've been included with iOS 16 a month ago...\n\nSo in this video, we're going to discuss what's new in the iOS 16.1 software, including all of the new features & changes, bug fixes, performance, battery life & when to expect iOS 16.1.1 and/or iOS 16.2. Enjoy!\n\nAbout the security content of iOS 16.1: https://support.apple.com/en-us/HT201222\n\niPadOS 16.1 Released - What's New?: https://youtu.be/qWT0x3mEj2E\n35+ Tips to Improve iOS 16 Battery Life: https://youtu.be/FRbFK2rbi28\niOS 16 - 22 Settings You NEED to Change Immediately: https://youtu.be/nsQZhIf8Tr4\nHow to ACTUALLY Use Apple Notes (iOS 16): https://youtu.be/pFxXCVQORn8\nHow to ACTUALLY Use Apple Reminders (iOS 16): https://youtu.be/XrDOBRancRw\nAirPods Pro 2 - Review & Sound Test vs AirPods Pro/AirPods 3: https://youtu.be/0bd0pC5h0vo\n\nChapters:\n0:00 Everything Released\n0:28 What's New in iOS 16.1?\n1:45 This Makes Customization Way Better\n3:26 iPhone 14 Pro Reachability\n3:49 Live Activities! (so awesome)\n4:42 Dynamic Island\n5:06 This delayed feature is finally here\n7:01 New AirPods Pro Feature\n7:26 A NEW Way to Charge Your iPhone\n8:14 Key Sharing & HYSA (game changers?)\n8:50 App Store Changes\n10:15 More iOS 16.1 Features\n14:27 Bug Fixes\n15:31 iOS 16.1 Performance & Battery Life\n16:37 Should You Update?\n17:40 iOS 16.1.1 & iOS 16.2\n18:41 Closing Thoughts\n\nWhat do you think of iOS 16? Are you enjoying all of the new features?\n\nAbout iOS 16.1 update: https://support.apple.com/en-us/HT213407\n\n🍎 Become a Channel Member to get access to exclusive wallpapers, see videos early, get VIP support + other perks: http://bit.ly/2OFfI1Y\n💬 Join our Discord server to continue the conversation: https://discord.gg/appleden\n🔔 Subscribe Here (it's FREE!): http://bit.ly/2Mn1SUY\n\n📱 Best tech deals (updated daily): http://amzn.to/2qcK0QT\n\n▬ SOCIAL MEDIA ▬\n▶️ Twitter: https://twitter.com/brandonbutch\n▶️ Instagram: https://instagram.com/brandonbutch\n▶️ TikTok: https://tiktok.com/@brandon.butch\n▶️ Facebook: https://www.facebook.com/brandonbutchyt\n▶️ Apple Music: https://apple.co/2VF3KZj\n\n▬ GEAR used to make this video ▬\n📷 Camera: https://amzn.to/3Fn6f8R\n📷 Lens: https://amzn.to/31VXuVC\n🎙️ Mic: https://amzn.to/2HLUVZp\n🎤 Other Mic: https://amzn.to/2jP0HLl\n🎛️ Audio Interface: https://amzn.to/2kNwwnU\n\n🎵Outro: \n\n▬ STAY UP-TO-DATE! ▬\nMake sure to subscribe to the channel & opt-in for push notifications (click the BELL icon next to the subscribe button) to be notified immediately when I release new videos!\n\nDisclosure: This video might contain affiliate links, which help fund the channel if you make a purchase.\n\nHave a fantastic day & I'll see you in the next video!",
          "liveBroadcastContent": "none",
          "localized": {
           "description": "iOS 16.1 Released - What's New? | iOS 16.1 Features & Changes\n\nApple just released iOS 16.1 for all iPhones and there are more than 35 new features & changes included in the update! Some of these should've been included with iOS 16 a month ago...\n\nSo in this video, we're going to discuss what's new in the iOS 16.1 software, including all of the new features & changes, bug fixes, performance, battery life & when to expect iOS 16.1.1 and/or iOS 16.2. Enjoy!\n\nAbout the security content of iOS 16.1: https://support.apple.com/en-us/HT201222\n\niPadOS 16.1 Released - What's New?: https://youtu.be/qWT0x3mEj2E\n35+ Tips to Improve iOS 16 Battery Life: https://youtu.be/FRbFK2rbi28\niOS 16 - 22 Settings You NEED to Change Immediately: https://youtu.be/nsQZhIf8Tr4\nHow to ACTUALLY Use Apple Notes (iOS 16): https://youtu.be/pFxXCVQORn8\nHow to ACTUALLY Use Apple Reminders (iOS 16): https://youtu.be/XrDOBRancRw\nAirPods Pro 2 - Review & Sound Test vs AirPods Pro/AirPods 3: https://youtu.be/0bd0pC5h0vo\n\nChapters:\n0:00 Everything Released\n0:28 What's New in iOS 16.1?\n1:45 This Makes Customization Way Better\n3:26 iPhone 14 Pro Reachability\n3:49 Live Activities! (so awesome)\n4:42 Dynamic Island\n5:06 This delayed feature is finally here\n7:01 New AirPods Pro Feature\n7:26 A NEW Way to Charge Your iPhone\n8:14 Key Sharing & HYSA (game changers?)\n8:50 App Store Changes\n10:15 More iOS 16.1 Features\n14:27 Bug Fixes\n15:31 iOS 16.1 Performance & Battery Life\n16:37 Should You Update?\n17:40 iOS 16.1.1 & iOS 16.2\n18:41 Closing Thoughts\n\nWhat do you think of iOS 16? Are you enjoying all of the new features?\n\nAbout iOS 16.1 update: https://support.apple.com/en-us/HT213407\n\n🍎 Become a Channel Member to get access to exclusive wallpapers, see videos early, get VIP support + other perks: http://bit.ly/2OFfI1Y\n💬 Join our Discord server to continue the conversation: https://discord.gg/appleden\n🔔 Subscribe Here (it's FREE!): http://bit.ly/2Mn1SUY\n\n📱 Best tech deals (updated daily): http://amzn.to/2qcK0QT\n\n▬ SOCIAL MEDIA ▬\n▶️ Twitter: https://twitter.com/brandonbutch\n▶️ Instagram: https://instagram.com/brandonbutch\n▶️ TikTok: https://tiktok.com/@brandon.butch\n▶️ Facebook: https://www.facebook.com/brandonbutchyt\n▶️ Apple Music: https://apple.co/2VF3KZj\n\n▬ GEAR used to make this video ▬\n📷 Camera: https://amzn.to/3Fn6f8R\n📷 Lens: https://amzn.to/31VXuVC\n🎙️ Mic: https://amzn.to/2HLUVZp\n🎤 Other Mic: https://amzn.to/2jP0HLl\n🎛️ Audio Interface: https://amzn.to/2kNwwnU\n\n🎵Outro: \n\n▬ STAY UP-TO-DATE! ▬\nMake sure to subscribe to the channel & opt-in for push notifications (click the BELL icon next to the subscribe button) to be notified immediately when I release new videos!\n\nDisclosure: This video might contain affiliate links, which help fund the channel if you make a purchase.\n\nHave a fantastic day & I'll see you in the next video!",
           "title": "iOS 16.1 Released - What's New?"
          },
          "publishedAt": "2022-10-24T18:01:35Z",
          "tags": [
           "Brandon butch",
           "iphone",
           "ios",
           "apple",
           "iOS 16",
           "iOS 15"
          ],
          "thumbnails": {
           "default": {
            "height": 90,
            "url": "https://i.ytimg.com/vi/rFVsqfyghIE/default.jpg",
            "width": 120
           },
           "high": {
            "height": 360,
            "url": "https://i.ytimg.com/vi/rFVsqfyghIE/hqdefault.jpg",
            "width": 480
           },
           "maxres": {
            "height": 720,
            "url": "https://i.ytimg.com/vi/rFVsqfyghIE/maxresdefault.jpg",
            "width": 1280
           },
           "medium": {
            "height": 180,
            "url": "https://i.ytimg.com/vi/rFVsqfyghIE/mqdefault.jpg",
            "width": 320
           },
           "standard": {
            "height": 480,
            "url": "https://i.ytimg.com/vi/rFVsqfyghIE/sddefault.jpg",
            "width": 640
           }
          },
          "title": "iOS 16.1 Released - What's New?"
         },
         "statistics": {
          "commentCount": "1519",
          "favoriteCount": "0",
          "likeCount": "15545",
          "viewCount": "525979"
         }
        },
        {
         "contentDetails": {
          "caption": "false",
          "contentRating": {},
          "definition": "hd",
          "dimension": "2d",
          "duration": "PT19M37S",
          "licensedContent": true,
          "projection": "rectangular"
         },
         "etag": "xMzhOAX46P8D4gaIfaoRZiJi_9A",
         "id": "hJ6sKzBARVo",
         "kind": "youtube#video",
         "snippet": {
          "categoryId": "1",
          "channelId": "UCgMJGv4cQl8-q71AyFeFmtg",
          "channelTitle": "ScreenCrush",
          "defaultAudioLanguage": "en-US",
          "defaultLanguage": "en",
          "description": "Thanks for supporting our channel! Check out our MERCH Store Here → https://http://shopzeroedition.com/collections/screen-crush-merch\n\nAnt-Man and the Wasp: Quantumania has just dropped its first trailer! It includes our first look at Casie Lang in her superhero outfit, Bill Murray in the MCU, and Kang the conqueror. So we’re here to explain all of this, where they are, and what this means as we break down all easter eggs references and little things you might have missed in the first trailer for Ant Man and the Wasp Quantummania.\n\nGo here → http://screencrush.com/\nTikTok → https://www.tiktok.com/@screencrushnews\nLike us → https://www.facebook.com/ScreenCrush\nFollow us → https://twitter.com/screencrushnews\nGet our newsletter → http://screencrush.com/newsletter/\n\nWritten by Ryan Arey, Srinidhi Rao, with invaluable help form Harriet Lengel-Enright and Randolf Nombrado\nHosted by Ryan Arey (http://twitter.com/ryanarey)\nEdited by Harriet Lengel-Enright, Randolf Nombrado, Brianna McLarty, Ethan Lavinsky, srinidhi Rao, and Ryan Arey\n\n#AntMan #Quantumania #eastereggs \nNow before we get into all their weird quantum stuff let’s go to ordinary san francisco where scott lang is having a dream life. Unlike most heroes getting powers isn;t hurting scott’s personal life it’s improved iit. He’s well known around his neighborhood and as we learn in ms marvel he has a very popular superhero podcast called Big Me Little Me: A Scott Lang Interview.\n\nThis podcast is how Kamala Khan learned all the behind the scenes details of the final battle in endgame0–and Scott is the person bringing these stories to the masses. So in a  lot of ways Scott is the most accessible avenger. He’s the everyman.\n\nAnd we see him being honored at his old baskin robbins. This is of course a callback to the first any-man film where this was his first job out [rison–and they fired him when they found out he had a record. [clip]. Now he's been given an award for employee of the century–and this guy is the boss who fired him in the first place.\n\nNotice that the nametag on the photo says jack, because he worked there under a pseudonym. [Baskin Robbins always finds out]. Ironic that now they're celebrating him, and he wasn’t even allowed to work there under his own name. \n\nNotice also that his suit is slightly different now with this circle on the chest. I can’t help but think that the quantum suits in the endgame might have had some effect on the design. Those suits were designed by Tony Stark but did not feature the circle in the middle . However the quantum suits would have given scott and hank pym cces to some stark tech–specifically the way stark’s power systems always seem to be routed through an object on his chest. So the redesign could be based in stark tech or just a  tribute to the fallen hero tony stark.\n\nHe high fived a kid with an ant-man backpack. A big step up from when they didn;t know his name in the endgame. [clip selfie with me?]\n\nNow of course he’s not only an avenger he’s a guy who saved the universe. He and hope get invited to red carpets–like this one, for the global service humanitarian awards sponsored by the anthropology society. –where Scott is probably getting a trophy for, you know, saving reality [what if we could go back to before thanos].\n\nNow of course, he may be famous now, but scott is still just scott, and not everyone knows who he is [thanks spider-,an]. This is a callback to this joke [there’s an atman and a spider-man]. It may also show how public opinion about spider-man has shifted. Remember that psyterio did frame him for muder [clip]. And then right after revealed his secret identity, which was undone in no way home. But, here’s the thing. I wonder if the strange memory spell that made people forget about Peter Parker also undid people thinking he killed mysterio? Or at the very least, it’s nice to see there’ some people out there who just support spicy and don;t believe Quentin Beck [nwh, mysterio was right].\n\nNotice the coffee shop has lots of San Francisco themed drinks. It's called the drive cafe, named after the golden gate bridge. And the drinks are named after San Fran locations or events. The Embarcadero, Summer of Love, The Haight, Presidio, Pier 39, Golden Gate, and The Candlestick, after Candlestick park.\n \nThe abstract art in the coffee shop also looks a lot like the design of the Quantum Realm, foreshadowing what is to come. \n\nBack to the Pym household, which we say has been moved back from its original location, after Hank placed it on the beach in ant-man and the wasp. And then we meet a recast Cassie Lang, now played by Kathryn Newton from Detective Pikachu and Big Little Lies.  Don’t think Marvel’s ever said why they recast older cassie form endgame–might be because she tweeted a picture of herself announcing she had been cast. Or maybe they just wanted a different actor because cassie is going to become the superhero satture, like she is in the comics.",
          "liveBroadcastContent": "none",
          "localized": {
           "description": "Thanks for supporting our channel! Check out our MERCH Store Here → https://http://shopzeroedition.com/collections/screen-crush-merch\n\nAnt-Man and the Wasp: Quantumania has just dropped its first trailer! It includes our first look at Casie Lang in her superhero outfit, Bill Murray in the MCU, and Kang the conqueror. So we’re here to explain all of this, where they are, and what this means as we break down all easter eggs references and little things you might have missed in the first trailer for Ant Man and the Wasp Quantummania.\n\nGo here → http://screencrush.com/\nTikTok → https://www.tiktok.com/@screencrushnews\nLike us → https://www.facebook.com/ScreenCrush\nFollow us → https://twitter.com/screencrushnews\nGet our newsletter → http://screencrush.com/newsletter/\n\nWritten by Ryan Arey, Srinidhi Rao, with invaluable help form Harriet Lengel-Enright and Randolf Nombrado\nHosted by Ryan Arey (http://twitter.com/ryanarey)\nEdited by Harriet Lengel-Enright, Randolf Nombrado, Brianna McLarty, Ethan Lavinsky, srinidhi Rao, and Ryan Arey\n\n#AntMan #Quantumania #eastereggs \nNow before we get into all their weird quantum stuff let’s go to ordinary san francisco where scott lang is having a dream life. Unlike most heroes getting powers isn;t hurting scott’s personal life it’s improved iit. He’s well known around his neighborhood and as we learn in ms marvel he has a very popular superhero podcast called Big Me Little Me: A Scott Lang Interview.\n\nThis podcast is how Kamala Khan learned all the behind the scenes details of the final battle in endgame0–and Scott is the person bringing these stories to the masses. So in a  lot of ways Scott is the most accessible avenger. He’s the everyman.\n\nAnd we see him being honored at his old baskin robbins. This is of course a callback to the first any-man film where this was his first job out [rison–and they fired him when they found out he had a record. [clip]. Now he's been given an award for employee of the century–and this guy is the boss who fired him in the first place.\n\nNotice that the nametag on the photo says jack, because he worked there under a pseudonym. [Baskin Robbins always finds out]. Ironic that now they're celebrating him, and he wasn’t even allowed to work there under his own name. \n\nNotice also that his suit is slightly different now with this circle on the chest. I can’t help but think that the quantum suits in the endgame might have had some effect on the design. Those suits were designed by Tony Stark but did not feature the circle in the middle . However the quantum suits would have given scott and hank pym cces to some stark tech–specifically the way stark’s power systems always seem to be routed through an object on his chest. So the redesign could be based in stark tech or just a  tribute to the fallen hero tony stark.\n\nHe high fived a kid with an ant-man backpack. A big step up from when they didn;t know his name in the endgame. [clip selfie with me?]\n\nNow of course he’s not only an avenger he’s a guy who saved the universe. He and hope get invited to red carpets–like this one, for the global service humanitarian awards sponsored by the anthropology society. –where Scott is probably getting a trophy for, you know, saving reality [what if we could go back to before thanos].\n\nNow of course, he may be famous now, but scott is still just scott, and not everyone knows who he is [thanks spider-,an]. This is a callback to this joke [there’s an atman and a spider-man]. It may also show how public opinion about spider-man has shifted. Remember that psyterio did frame him for muder [clip]. And then right after revealed his secret identity, which was undone in no way home. But, here’s the thing. I wonder if the strange memory spell that made people forget about Peter Parker also undid people thinking he killed mysterio? Or at the very least, it’s nice to see there’ some people out there who just support spicy and don;t believe Quentin Beck [nwh, mysterio was right].\n\nNotice the coffee shop has lots of San Francisco themed drinks. It's called the drive cafe, named after the golden gate bridge. And the drinks are named after San Fran locations or events. The Embarcadero, Summer of Love, The Haight, Presidio, Pier 39, Golden Gate, and The Candlestick, after Candlestick park.\n \nThe abstract art in the coffee shop also looks a lot like the design of the Quantum Realm, foreshadowing what is to come. \n\nBack to the Pym household, which we say has been moved back from its original location, after Hank placed it on the beach in ant-man and the wasp. And then we meet a recast Cassie Lang, now played by Kathryn Newton from Detective Pikachu and Big Little Lies.  Don’t think Marvel’s ever said why they recast older cassie form endgame–might be because she tweeted a picture of herself announcing she had been cast. Or maybe they just wanted a different actor because cassie is going to become the superhero satture, like she is in the comics.",
           "title": "ANT-MAN: QUANTUMANIA Trailer BREAKDOWN: Every Kang Easter Egg and Loki Connection"
          },
          "publishedAt": "2022-10-24T22:14:08Z",
          "tags": [
           "screencrush",
           "heavy spoilers",
           "new rockstars",
           "marvel",
           "mcu",
           "marvel ciematic universe"
          ],
          "thumbnails": {
           "default": {
            "height": 90,
            "url": "https://i.ytimg.com/vi/hJ6sKzBARVo/default.jpg",
            "width": 120
           },
           "high": {
            "height": 360,
            "url": "https://i.ytimg.com/vi/hJ6sKzBARVo/hqdefault.jpg",
            "width": 480
           },
           "maxres": {
            "height": 720,
            "url": "https://i.ytimg.com/vi/hJ6sKzBARVo/maxresdefault.jpg",
            "width": 1280
           },
           "medium": {
            "height": 180,
            "url": "https://i.ytimg.com/vi/hJ6sKzBARVo/mqdefault.jpg",
            "width": 320
           },
           "standard": {
            "height": 480,
            "url": "https://i.ytimg.com/vi/hJ6sKzBARVo/sddefault.jpg",
            "width": 640
           }
          },
          "title": "ANT-MAN: QUANTUMANIA Trailer BREAKDOWN: Every Kang Easter Egg and Loki Connection"
         },
         "statistics": {
          "commentCount": "842",
          "favoriteCount": "0",
          "likeCount": "15982",
          "viewCount": "387779"
         }
        },
        {
         "contentDetails": {
          "caption": "false",
          "contentRating": {},
          "definition": "hd",
          "dimension": "2d",
          "duration": "PT9M54S",
          "licensedContent": true,
          "projection": "rectangular",
          "regionRestriction": {
           "allowed": [
            "CA",
            "IN",
            "PH",
            "US"
           ]
          }
         },
         "etag": "nW005NPSRtJJMZXm6TcTnM_mXVA",
         "id": "IsGdrqkYSx4",
         "kind": "youtube#video",
         "snippet": {
          "categoryId": "17",
          "channelId": "UCWJ2lWNubArHWmf3FIHbfcQ",
          "channelTitle": "NBA",
          "description": "Never miss a moment with the latest news, trending stories and highlights to bring you closer to your favorite players and teams.\nDownload now: https://app.link.nba.com/APP22\n\nThe Memphis Grizzlies defeated the Brooklyn Nets, 134-124. Desmond Bane recorded a career-high 38 points (32 in the 2nd half) and 8 3pt FGM for the Grizzlies, while Ja Morant added 38 points, 8 rebounds and 7 assists in the victory. Kevin Durant tallied 37 points (14-20 FG), 5 rebounds and 4 assists for the Nets, while Kyrie Irving added 37 points, 8 rebounds and 5 assists for the Nets. The Grizzlies improve to 3-1 on the season, while the Nets fall to 1-2.",
          "liveBroadcastContent": "none",
          "localized": {
           "description": "Never miss a moment with the latest news, trending stories and highlights to bring you closer to your favorite players and teams.\nDownload now: https://app.link.nba.com/APP22\n\nThe Memphis Grizzlies defeated the Brooklyn Nets, 134-124. Desmond Bane recorded a career-high 38 points (32 in the 2nd half) and 8 3pt FGM for the Grizzlies, while Ja Morant added 38 points, 8 rebounds and 7 assists in the victory. Kevin Durant tallied 37 points (14-20 FG), 5 rebounds and 4 assists for the Nets, while Kyrie Irving added 37 points, 8 rebounds and 5 assists for the Nets. The Grizzlies improve to 3-1 on the season, while the Nets fall to 1-2.",
           "title": "NETS at GRIZZLIES | NBA FULL GAME HIGHLIGHTS | October 24, 2022"
          },
          "publishedAt": "2022-10-25T02:44:53Z",
          "tags": [
           "Basketball",
           "G League",
           "NBA",
           "game-0022200049"
          ],
          "thumbnails": {
           "default": {
            "height": 90,
            "url": "https://i.ytimg.com/vi/IsGdrqkYSx4/default.jpg",
            "width": 120
           },
           "high": {
            "height": 360,
            "url": "https://i.ytimg.com/vi/IsGdrqkYSx4/hqdefault.jpg",
            "width": 480
           },
           "maxres": {
            "height": 720,
            "url": "https://i.ytimg.com/vi/IsGdrqkYSx4/maxresdefault.jpg",
            "width": 1280
           },
           "medium": {
            "height": 180,
            "url": "https://i.ytimg.com/vi/IsGdrqkYSx4/mqdefault.jpg",
            "width": 320
           },
           "standard": {
            "height": 480,
            "url": "https://i.ytimg.com/vi/IsGdrqkYSx4/sddefault.jpg",
            "width": 640
           }
          },
          "title": "NETS at GRIZZLIES | NBA FULL GAME HIGHLIGHTS | October 24, 2022"
         },
         "statistics": {
          "commentCount": "2395",
          "favoriteCount": "0",
          "likeCount": "21807",
          "viewCount": "1728794"
         }
        },
        {
         "contentDetails": {
          "caption": "false",
          "contentRating": {},
          "definition": "hd",
          "dimension": "2d",
          "duration": "PT8M15S",
          "licensedContent": true,
          "projection": "rectangular"
         },
         "etag": "6vNajzsNbB1xFNvlxQfcXJtIVvg",
         "id": "ahBS7eZAeXk",
         "kind": "youtube#video",
         "snippet": {
          "categoryId": "24",
          "channelId": "UCrOR14O-kBHEyrLQRdHJgDQ",
          "channelTitle": "REAL ONES with Jon Bernthal",
          "defaultAudioLanguage": "en-US",
          "description": "Richard tells Jon about life after prison, and the help he received from Homeboy Industries. Check out the organization - https://homeboyindustries.org/\n\nWatch the full episode on Patreon - https://www.patreon.com/realones\n\nRichard Cabral on Instagram - https://www.instagram.com/richardcabralofficial/?hl=en\n\nRichard Cabral is an actor, producer, and writer best known for playing Johnny 'Coco' Cruz on FX's MAYANS. He was also nominated for an Emmy for playing Hector Tontz on AMERICAN CRIME. \nRichard and Jon recently did a reading of DOG DAY AFTERNOON, written by Stephen Adly Guirgis, at the Ojai Playwright's Conference. Check out Richard's newest venture TEPITO COFFEE - https://www.tepitocoffee.com/",
          "liveBroadcastContent": "none",
          "localized": {
           "description": "Richard tells Jon about life after prison, and the help he received from Homeboy Industries. Check out the organization - https://homeboyindustries.org/\n\nWatch the full episode on Patreon - https://www.patreon.com/realones\n\nRichard Cabral on Instagram - https://www.instagram.com/richardcabralofficial/?hl=en\n\nRichard Cabral is an actor, producer, and writer best known for playing Johnny 'Coco' Cruz on FX's MAYANS. He was also nominated for an Emmy for playing Hector Tontz on AMERICAN CRIME. \nRichard and Jon recently did a reading of DOG DAY AFTERNOON, written by Stephen Adly Guirgis, at the Ojai Playwright's Conference. Check out Richard's newest venture TEPITO COFFEE - https://www.tepitocoffee.com/",
           "title": "Richard Cabral explains how to stay out of trouble after time in prison"
          },
          "publishedAt": "2022-10-24T15:33:56Z",
          "tags": [
           "Punisher",
           "Mayans FC",
           "Richard Cabral",
           "jonnybernthal",
           "Jon Bernthal",
           "Real Ones",
           "Real Ones Podcast"
          ],
          "thumbnails": {
           "default": {
            "height": 90,
            "url": "https://i.ytimg.com/vi/ahBS7eZAeXk/default.jpg",
            "width": 120
           },
           "high": {
            "height": 360,
            "url": "https://i.ytimg.com/vi/ahBS7eZAeXk/hqdefault.jpg",
            "width": 480
           },
           "maxres": {
            "height": 720,
            "url": "https://i.ytimg.com/vi/ahBS7eZAeXk/maxresdefault.jpg",
            "width": 1280
           },
           "medium": {
            "height": 180,
            "url": "https://i.ytimg.com/vi/ahBS7eZAeXk/mqdefault.jpg",
            "width": 320
           },
           "standard": {
            "height": 480,
            "url": "https://i.ytimg.com/vi/ahBS7eZAeXk/sddefault.jpg",
            "width": 640
           }
          },
          "title": "Richard Cabral explains how to stay out of trouble after time in prison"
         },
         "statistics": {
          "commentCount": "366",
          "favoriteCount": "0",
          "likeCount": "4451",
          "viewCount": "150191"
         }
        },
        {
         "contentDetails": {
          "caption": "false",
          "contentRating": {},
          "definition": "hd",
          "dimension": "2d",
          "duration": "PT2M13S",
          "licensedContent": true,
          "projection": "rectangular"
         },
         "etag": "OZbA_x1upMyIz1WqtEu-I9hH6vM",
         "id": "n9uhPikAGgI",
         "kind": "youtube#video",
         "snippet": {
          "categoryId": "24",
          "channelId": "UC49ta0RHXJUiID5KWRkcySw",
          "channelTitle": "SiriusXM",
          "defaultAudioLanguage": "en-US",
          "defaultLanguage": "en",
          "description": "Jeff Beck recalls a funny memory about being treated coldly by The Beach Boys, in particular, Brian Wilson. \n\nHear more from SiriusXM on our app! Click here for your trial subscription: https://siriusxm.com/yt/freetrial\n\nSubscribe to SiriusXM on YouTube: http://www.youtube.com/siriusxm\n\nConnect with SiriusXM Online\nFacebook: http://www.facebook.com/siriusxm\nTwitter: http://www.twitter.com/siriusxm\nInstagram: http://www.instagram.com/siriusxm\n\n#SiriusXM #Sirius #SXM",
          "liveBroadcastContent": "none",
          "localized": {
           "description": "Jeff Beck recalls a funny memory about being treated coldly by The Beach Boys, in particular, Brian Wilson. \n\nHear more from SiriusXM on our app! Click here for your trial subscription: https://siriusxm.com/yt/freetrial\n\nSubscribe to SiriusXM on YouTube: http://www.youtube.com/siriusxm\n\nConnect with SiriusXM Online\nFacebook: http://www.facebook.com/siriusxm\nTwitter: http://www.twitter.com/siriusxm\nInstagram: http://www.instagram.com/siriusxm\n\n#SiriusXM #Sirius #SXM",
           "title": "Jeff Beck Tells Johnny Depp About Being Rebuffed by Brian Wilson of The Beach Boys"
          },
          "publishedAt": "2022-10-24T12:41:22Z",
          "tags": [
           "SiriusXM",
           "Sirius",
           "SXM",
           "Radio",
           "Podcasts",
           "Music",
           "Live Performances",
           "Concerts",
           "Festivals",
           "Cover Songs",
           "The Highway",
           "Octane",
           "Hits1",
           "Hip Hop Nation",
           "Shade 45",
           "Coffee House",
           "Alt Nation",
           "Volume",
           "Entertainment",
           "Stars",
           "Radio Andy",
           "Sports",
           "Sports Talk",
           "Mad Dog",
           "NFL Radio",
           "NBA Radio",
           "PGA Radio",
           "Comedy",
           "Faction Talk",
           "Jeff Beck",
           "The Beach Boys",
           "Johnny Depp"
          ],
          "thumbnails": {
           "default": {
            "height": 90,
            "url": "https://i.ytimg.com/vi/n9uhPikAGgI/default.jpg",
            "width": 120
           },
           "high": {
            "height": 360,
            "url": "https://i.ytimg.com/vi/n9uhPikAGgI/hqdefault.jpg",
            "width": 480
           },
           "maxres": {
            "height": 720,
            "url": "https://i.ytimg.com/vi/n9uhPikAGgI/maxresdefault.jpg",
            "width": 1280
           },
           "medium": {
            "height": 180,
            "url": "https://i.ytimg.com/vi/n9uhPikAGgI/mqdefault.jpg",
            "width": 320
           },
           "standard": {
            "height": 480,
            "url": "https://i.ytimg.com/vi/n9uhPikAGgI/sddefault.jpg",
            "width": 640
           }
          },
          "title": "Jeff Beck Tells Johnny Depp About Being Rebuffed by Brian Wilson of The Beach Boys"
         },
         "statistics": {
          "commentCount": "307",
          "favoriteCount": "0",
          "likeCount": "1194",
          "viewCount": "275952"
         }
        },
        {
         "contentDetails": {
          "caption": "false",
          "contentRating": {},
          "definition": "hd",
          "dimension": "2d",
          "duration": "PT1M32S",
          "licensedContent": true,
          "projection": "rectangular"
         },
         "etag": "qYpofn7uHNDfHdp84Pa9jyh4a6s",
         "id": "PF5UzdmOzPs",
         "kind": "youtube#video",
         "snippet": {
          "categoryId": "20",
          "channelId": "UCFctpiB_Hnlk3ejWfHqSm6Q",
          "channelTitle": "The Official Pokémon YouTube channel",
          "defaultAudioLanguage": "en-US",
          "description": "A student from the Paldea region just uploaded this footage of their search for Ghost-type Pokemon.\n\nPre-order Pokémon Scarlet & Pokémon Violet today to get ready for an exciting adventure in Paldea! ❤️💜 https://pkmn.news/BuyScarletViolet\n\nOfficial Site: https://www.pokemon.com\nShop: http://www.pokemoncenter.com\nFacebook: http://www.facebook.com/Pokemon\nTwitter: http://www.twitter.com/Pokemon\nInstagram: http://www.instagram.com/pokemon\nTikTok: https://www.tiktok.com/@pokemonofficial",
          "liveBroadcastContent": "none",
          "localized": {
           "description": "A student from the Paldea region just uploaded this footage of their search for Ghost-type Pokemon.\n\nPre-order Pokémon Scarlet & Pokémon Violet today to get ready for an exciting adventure in Paldea! ❤️💜 https://pkmn.news/BuyScarletViolet\n\nOfficial Site: https://www.pokemon.com\nShop: http://www.pokemoncenter.com\nFacebook: http://www.facebook.com/Pokemon\nTwitter: http://www.twitter.com/Pokemon\nInstagram: http://www.instagram.com/pokemon\nTikTok: https://www.tiktok.com/@pokemonofficial",
           "title": "A new Ghost-type Pokémon appeared in Paldea!"
          },
          "publishedAt": "2022-10-25T13:00:08Z",
          "tags": [
           "Pokemon Scarlet",
           "Pokemon Violet",
           "Generation 9",
           "Gen 9",
           "Found Footage",
           "Ghost",
           "Ghost Type",
           "Ghost Pokemon",
           "Paranormal",
           "Ghost Sighting",
           "Spooky"
          ],
          "thumbnails": {
           "default": {
            "height": 90,
            "url": "https://i.ytimg.com/vi/PF5UzdmOzPs/default.jpg",
            "width": 120
           },
           "high": {
            "height": 360,
            "url": "https://i.ytimg.com/vi/PF5UzdmOzPs/hqdefault.jpg",
            "width": 480
           },
           "medium": {
            "height": 180,
            "url": "https://i.ytimg.com/vi/PF5UzdmOzPs/mqdefault.jpg",
            "width": 320
           },
           "standard": {
            "height": 480,
            "url": "https://i.ytimg.com/vi/PF5UzdmOzPs/sddefault.jpg",
            "width": 640
           }
          },
          "title": "A new Ghost-type Pokémon appeared in Paldea!"
         },
         "statistics": {
          "commentCount": "4647",
          "favoriteCount": "0",
          "likeCount": "58146",
          "viewCount": "1077461"
         }
        },
        {
         "contentDetails": {
          "caption": "false",
          "contentRating": {},
          "definition": "hd",
          "dimension": "2d",
          "duration": "PT14M42S",
          "licensedContent": true,
          "projection": "rectangular"
         },
         "etag": "G4cUixrjuXV6HXta-hu0dZQYFtw",
         "id": "J-sQ5hpY-y0",
         "kind": "youtube#video",
         "snippet": {
          "categoryId": "22",
          "channelId": "UCy06jHRS_82N2i5v1YL7glQ",
          "channelTitle": "Cody & Ko",
          "description": "listen to the knock it off remix: https://open.spotify.com/track/7qqzKjEg2X12hMfTjwJXKv?si=8941f9ecc1514bf5\n\nedited by: https://www.youtube.com/goofyjuice",
          "liveBroadcastContent": "none",
          "localized": {
           "description": "listen to the knock it off remix: https://open.spotify.com/track/7qqzKjEg2X12hMfTjwJXKv?si=8941f9ecc1514bf5\n\nedited by: https://www.youtube.com/goofyjuice",
           "title": "the absolute button"
          },
          "publishedAt": "2022-10-24T16:44:13Z",
          "thumbnails": {
           "default": {
            "height": 90,
            "url": "https://i.ytimg.com/vi/J-sQ5hpY-y0/default.jpg",
            "width": 120
           },
           "high": {
            "height": 360,
            "url": "https://i.ytimg.com/vi/J-sQ5hpY-y0/hqdefault.jpg",
            "width": 480
           },
           "maxres": {
            "height": 720,
            "url": "https://i.ytimg.com/vi/J-sQ5hpY-y0/maxresdefault.jpg",
            "width": 1280
           },
           "medium": {
            "height": 180,
            "url": "https://i.ytimg.com/vi/J-sQ5hpY-y0/mqdefault.jpg",
            "width": 320
           },
           "standard": {
            "height": 480,
            "url": "https://i.ytimg.com/vi/J-sQ5hpY-y0/sddefault.jpg",
            "width": 640
           }
          },
          "title": "the absolute button"
         },
         "statistics": {
          "commentCount": "1509",
          "favoriteCount": "0",
          "likeCount": "47756",
          "viewCount": "614227"
         }
        },
        {
         "contentDetails": {
          "caption": "false",
          "contentRating": {},
          "definition": "hd",
          "dimension": "2d",
          "duration": "PT23M35S",
          "licensedContent": false,
          "projection": "rectangular"
         },
         "etag": "T7Kgk_WuoyjO10lRcchjN1nnkSM",
         "id": "tK75K89EnGo",
         "kind": "youtube#video",
         "snippet": {
          "categoryId": "22",
          "channelId": "UCNmfuDtKkWJfWe4zh9MBrUA",
          "channelTitle": "MAZELEE",
          "defaultAudioLanguage": "en-US",
          "description": "This video was sponsored by Amazon Fresh.\nVisit your local Amazon Fresh grocery store near you, or if you’re a Prime member you can shop online for delivery #amazonfresh @amazonfresh\nhttps://amzn.to/3EdiyHP\n\nhttps://www.youtube.com/c/AmazonFresh\n\nMusic by Citrus Avenue - Girl from Manu Bay - https://thmatc.co/?l=B9E75681\nMusic by Citrus Avenue - Julia's Toes - https://thmatc.co/?l=44D14777\nMusic by Citrus Avenue - That Warm Glow - https://thmatc.co/?l=5D9AB1FA\nMusic by Citrus Avenue - Fashionably Late - https://thmatc.co/?l=065BD66E\nMusic by Mark Generous - Top Off - https://thmatc.co/?l=E39EC3F2",
          "liveBroadcastContent": "none",
          "localized": {
           "description": "This video was sponsored by Amazon Fresh.\nVisit your local Amazon Fresh grocery store near you, or if you’re a Prime member you can shop online for delivery #amazonfresh @amazonfresh\nhttps://amzn.to/3EdiyHP\n\nhttps://www.youtube.com/c/AmazonFresh\n\nMusic by Citrus Avenue - Girl from Manu Bay - https://thmatc.co/?l=B9E75681\nMusic by Citrus Avenue - Julia's Toes - https://thmatc.co/?l=44D14777\nMusic by Citrus Avenue - That Warm Glow - https://thmatc.co/?l=5D9AB1FA\nMusic by Citrus Avenue - Fashionably Late - https://thmatc.co/?l=065BD66E\nMusic by Mark Generous - Top Off - https://thmatc.co/?l=E39EC3F2",
           "title": "wow….we’re a family of 10 now!"
          },
          "publishedAt": "2022-10-24T17:21:13Z",
          "tags": [
           "#amazonfresh",
           "@amazonfresh",
           "Amazon Fresh",
           "Amazon Fresh store",
           "Amazon grocery store",
           "Amazon grocery",
           "Grocery store",
           "Grocery delivery"
          ],
          "thumbnails": {
           "default": {
            "height": 90,
            "url": "https://i.ytimg.com/vi/tK75K89EnGo/default.jpg",
            "width": 120
           },
           "high": {
            "height": 360,
            "url": "https://i.ytimg.com/vi/tK75K89EnGo/hqdefault.jpg",
            "width": 480
           },
           "medium": {
            "height": 180,
            "url": "https://i.ytimg.com/vi/tK75K89EnGo/mqdefault.jpg",
            "width": 320
           },
           "standard": {
            "height": 480,
            "url": "https://i.ytimg.com/vi/tK75K89EnGo/sddefault.jpg",
            "width": 640
           }
          },
          "title": "wow….we’re a family of 10 now!"
         },
         "statistics": {
          "commentCount": "1410",
          "favoriteCount": "0",
          "likeCount": "22739",
          "viewCount": "393091"
         }
        },
        {
         "contentDetails": {
          "caption": "false",
          "contentRating": {},
          "definition": "hd",
          "dimension": "2d",
          "duration": "PT3M",
          "licensedContent": true,
          "projection": "rectangular",
          "regionRestriction": {
           "blocked": [
            "AU"
           ]
          }
         },
         "etag": "2heRMRW8CabFQI-9HrZKJzjEggM",
         "id": "6HrO2uMpf04",
         "kind": "youtube#video",
         "snippet": {
          "categoryId": "17",
          "channelId": "UC4uG6XoaVfbDgv6eKq4kkfg",
          "channelTitle": "Fox League",
          "defaultAudioLanguage": "en-GB",
          "description": "Catch all the action from the Rugby League World Cup match between Fiji and Italy.\n\nSubscribe and 🔔  to Fox League YouTube 👉  https://bit.ly/2TzhZQW\nStream Fox League 👉  https://kayosports.app.link/g5C9NNMac7\n\nFOLLOW US ON SOCIAL\nFacebook: https://www.facebook.com/foxnrl\nTwitter: https://twitter.com/FOXNRL\nInstagram: https://www.instagram.com/foxleague/",
          "liveBroadcastContent": "none",
          "localized": {
           "description": "Catch all the action from the Rugby League World Cup match between Fiji and Italy.\n\nSubscribe and 🔔  to Fox League YouTube 👉  https://bit.ly/2TzhZQW\nStream Fox League 👉  https://kayosports.app.link/g5C9NNMac7\n\nFOLLOW US ON SOCIAL\nFacebook: https://www.facebook.com/foxnrl\nTwitter: https://twitter.com/FOXNRL\nInstagram: https://www.instagram.com/foxleague/",
           "title": "Full Match Highlights: Fiji vs Italy | Rugby League World Cup | Fox League"
          },
          "publishedAt": "2022-10-22T20:38:52Z",
          "tags": [
           "rugby league",
           "league",
           "nrl",
           "footy",
           "fox sports australia",
           "fox sports aus",
           "fox sports",
           "fox league",
           "matty johns",
           "fletch & hindy",
           "league life",
           "nrl 360"
          ],
          "thumbnails": {
           "default": {
            "height": 90,
            "url": "https://i.ytimg.com/vi/6HrO2uMpf04/default.jpg",
            "width": 120
           },
           "high": {
            "height": 360,
            "url": "https://i.ytimg.com/vi/6HrO2uMpf04/hqdefault.jpg",
            "width": 480
           },
           "maxres": {
            "height": 720,
            "url": "https://i.ytimg.com/vi/6HrO2uMpf04/maxresdefault.jpg",
            "width": 1280
           },
           "medium": {
            "height": 180,
            "url": "https://i.ytimg.com/vi/6HrO2uMpf04/mqdefault.jpg",
            "width": 320
           },
           "standard": {
            "height": 480,
            "url": "https://i.ytimg.com/vi/6HrO2uMpf04/sddefault.jpg",
            "width": 640
           }
          },
          "title": "Full Match Highlights: Fiji vs Italy | Rugby League World Cup | Fox League"
         },
         "statistics": {
          "commentCount": "51",
          "favoriteCount": "0",
          "likeCount": "942",
          "viewCount": "79562"
         }
        },
        {
         "contentDetails": {
          "caption": "false",
          "contentRating": {},
          "definition": "hd",
          "dimension": "2d",
          "duration": "PT2M57S",
          "licensedContent": true,
          "projection": "rectangular"
         },
         "etag": "bzGcprfWlNE8NT42ZuQi8hPylGE",
         "id": "ZBG2bD-TE9g",
         "kind": "youtube#video",
         "snippet": {
          "categoryId": "25",
          "channelId": "UC83jt4dlz1Gjl58fzQrrKZg",
          "channelTitle": "CNA",
          "defaultAudioLanguage": "en-GB",
          "defaultLanguage": "en-GB",
          "description": "Speculation has been swirling since former Chinese President Hu Jintao was escorted out from the closing session of China’s twice a decade Communist Party’s Congress on Saturday (Oct 22), which saw Mr Hu's successor, Xi Jinping secure an unprecedented third term at the helm. \n\nCNA’s cameras captured the moments just prior to Mr Hu's departure, which took place soon after local and foreign media were allowed to enter the auditorium to cover proceedings around 11.15am. It came shortly after Chinese state media announced that delegates had elected a new Central Committee and Central Commission for Discipline Inspection, which media were not allowed into the hall to witness. \n\nCurrent chairman of China's legislature Li Zhanshu is seen taking papers out of Mr Hu's hand, before a man comes to speak to him and escorts him out. READ: https://cna.asia/3TwGKK7\n\nFollowing Mr Hu’s departure, proceedings continued with delegates voting on other items on the agenda including an amendment to the party’s constitution. Addressing the incident later that night, Chinese state media attributed the incident to health reasons. In a tweet written in English, Xinhua said that Mr Hu was “not feeling well” during the session and for his health, staff had accompanied to a room next to the meeting venue “for a rest”. Mr Hu's name was censored from Chinese social media.\n\nREAD MORE: https://cna.asia/3z7jDNS\n\nSubscribe to our channel here: https://cna.asia/youtubesub \n\nSubscribe to our news service on Telegram: https://cna.asia/telegram\n\nFollow us:\nCNA: https://cna.asia\nCNA Lifestyle: http://www.cnalifestyle.com \nFacebook: https://www.facebook.com/channelnewsasia\nInstagram: https://www.instagram.com/channelnewsasia\nTwitter: https://www.twitter.com/channelnewsasia\nTikTok: https://www.tiktok.com/@channelnewsasia",
          "liveBroadcastContent": "none",
          "localized": {
           "description": "Speculation has been swirling since former Chinese President Hu Jintao was escorted out from the closing session of China’s twice a decade Communist Party’s Congress on Saturday (Oct 22), which saw Mr Hu's successor, Xi Jinping secure an unprecedented third term at the helm. \n\nCNA’s cameras captured the moments just prior to Mr Hu's departure, which took place soon after local and foreign media were allowed to enter the auditorium to cover proceedings around 11.15am. It came shortly after Chinese state media announced that delegates had elected a new Central Committee and Central Commission for Discipline Inspection, which media were not allowed into the hall to witness. \n\nCurrent chairman of China's legislature Li Zhanshu is seen taking papers out of Mr Hu's hand, before a man comes to speak to him and escorts him out. READ: https://cna.asia/3TwGKK7\n\nFollowing Mr Hu’s departure, proceedings continued with delegates voting on other items on the agenda including an amendment to the party’s constitution. Addressing the incident later that night, Chinese state media attributed the incident to health reasons. In a tweet written in English, Xinhua said that Mr Hu was “not feeling well” during the session and for his health, staff had accompanied to a room next to the meeting venue “for a rest”. Mr Hu's name was censored from Chinese social media.\n\nREAD MORE: https://cna.asia/3z7jDNS\n\nSubscribe to our channel here: https://cna.asia/youtubesub \n\nSubscribe to our news service on Telegram: https://cna.asia/telegram\n\nFollow us:\nCNA: https://cna.asia\nCNA Lifestyle: http://www.cnalifestyle.com \nFacebook: https://www.facebook.com/channelnewsasia\nInstagram: https://www.instagram.com/channelnewsasia\nTwitter: https://www.twitter.com/channelnewsasia\nTikTok: https://www.tiktok.com/@channelnewsasia",
           "title": "Exclusive: What happened before former Chinese President Hu Jintao was escorted out of Congress?"
          },
          "publishedAt": "2022-10-24T13:58:05Z",
          "tags": [
           "CNA",
           "Channel NewsAsia"
          ],
          "thumbnails": {
           "default": {
            "height": 90,
            "url": "https://i.ytimg.com/vi/ZBG2bD-TE9g/default.jpg",
            "width": 120
           },
           "high": {
            "height": 360,
            "url": "https://i.ytimg.com/vi/ZBG2bD-TE9g/hqdefault.jpg",
            "width": 480
           },
           "maxres": {
            "height": 720,
            "url": "https://i.ytimg.com/vi/ZBG2bD-TE9g/maxresdefault.jpg",
            "width": 1280
           },
           "medium": {
            "height": 180,
            "url": "https://i.ytimg.com/vi/ZBG2bD-TE9g/mqdefault.jpg",
            "width": 320
           },
           "standard": {
            "height": 480,
            "url": "https://i.ytimg.com/vi/ZBG2bD-TE9g/sddefault.jpg",
            "width": 640
           }
          },
          "title": "Exclusive: What happened before former Chinese President Hu Jintao was escorted out of Congress?"
         },
         "statistics": {
          "commentCount": "4279",
          "favoriteCount": "0",
          "likeCount": "8439",
          "viewCount": "1395009"
         }
        },
        {
         "contentDetails": {
          "caption": "false",
          "contentRating": {},
          "definition": "hd",
          "dimension": "2d",
          "duration": "PT10M36S",
          "licensedContent": true,
          "projection": "rectangular"
         },
         "etag": "aLrPdpSkoxMobgFf2khOqhy9QdY",
         "id": "bT8TOX7kRng",
         "kind": "youtube#video",
         "snippet": {
          "categoryId": "20",
          "channelId": "UCVR94saY6YnNgaQtvLBcS0w",
          "channelTitle": "DV Plays",
          "defaultAudioLanguage": "en",
          "defaultLanguage": "en",
          "description": "Giving you tips on each stage of beating the crypt trials in the Roblox BedWars Halloween update event!\n\nCrypt Kit review: https://www.youtube.com/watch?v=IYhZsBHXYQY\n\n⭐ Use Star Code \"DV\" when buying Robux!\n⭐ Join DV Plays Membership! https://www.youtube.com/darkvipertv/join\n🧢 Get Official DV Merch! https://dvplays.clothing\n🔥 DV Shoulder Buddy UGC: https://www.roblox.com/catalog/6718380106/DV-Shoulder-Buddy\n🔥 DV Cloak of Shadows UGC: https://www.roblox.com/catalog/6101339024/Cloak-of-Shadows\n\n👍 DV Plays 2 Channel: https://www.youtube.com/dvplays2\n💬 Discord: https://discord.gg/dvplays\n💬 Twitter: https://twitter.com/darkviper\n💬 Guilded: https://guilded.gg/dvplays\n📷 Tiktok: https://tiktok.com/@usestarcodedv\n📷 Instagram: https://instagram.com/dvplays\n\n🟥 DVwastaken on Roblox: https://www.roblox.com/users/964088769/profile\n👑 Roblox Group: https://www.roblox.com/groups/7044789/DV-Plays-Official\n\n#robloxbedwars #dvwastaken",
          "liveBroadcastContent": "none",
          "localized": {
           "description": "Giving you tips on each stage of beating the crypt trials in the Roblox BedWars Halloween update event!\n\nCrypt Kit review: https://www.youtube.com/watch?v=IYhZsBHXYQY\n\n⭐ Use Star Code \"DV\" when buying Robux!\n⭐ Join DV Plays Membership! https://www.youtube.com/darkvipertv/join\n🧢 Get Official DV Merch! https://dvplays.clothing\n🔥 DV Shoulder Buddy UGC: https://www.roblox.com/catalog/6718380106/DV-Shoulder-Buddy\n🔥 DV Cloak of Shadows UGC: https://www.roblox.com/catalog/6101339024/Cloak-of-Shadows\n\n👍 DV Plays 2 Channel: https://www.youtube.com/dvplays2\n💬 Discord: https://discord.gg/dvplays\n💬 Twitter: https://twitter.com/darkviper\n💬 Guilded: https://guilded.gg/dvplays\n📷 Tiktok: https://tiktok.com/@usestarcodedv\n📷 Instagram: https://instagram.com/dvplays\n\n🟥 DVwastaken on Roblox: https://www.roblox.com/users/964088769/profile\n👑 Roblox Group: https://www.roblox.com/groups/7044789/DV-Plays-Official\n\n#robloxbedwars #dvwastaken",
           "title": "How to Beat the Crypt Trials in Roblox BedWars!"
          },
          "publishedAt": "2022-10-24T18:36:37Z",
          "tags": [
           "roblox bedwars",
           "bedwars roblox",
           "roblox bedwars update",
           "new roblox bedwars",
           "free kit roblox bedwars",
           "bedwars free kit",
           "roblox bedwars free kit",
           "roblox bedwars halloween",
           "roblox bedwars crypt",
           "roblox bedwars necromancer",
           "necromancer kit roblox bedwars",
           "how to get crypt kit bedwars",
           "how to get necromancer kit bedwars",
           "roblox bedwars halloween crypt kit"
          ],
          "thumbnails": {
           "default": {
            "height": 90,
            "url": "https://i.ytimg.com/vi/bT8TOX7kRng/default.jpg",
            "width": 120
           },
           "high": {
            "height": 360,
            "url": "https://i.ytimg.com/vi/bT8TOX7kRng/hqdefault.jpg",
            "width": 480
           },
           "maxres": {
            "height": 720,
            "url": "https://i.ytimg.com/vi/bT8TOX7kRng/maxresdefault.jpg",
            "width": 1280
           },
           "medium": {
            "height": 180,
            "url": "https://i.ytimg.com/vi/bT8TOX7kRng/mqdefault.jpg",
            "width": 320
           },
           "standard": {
            "height": 480,
            "url": "https://i.ytimg.com/vi/bT8TOX7kRng/sddefault.jpg",
            "width": 640
           }
          },
          "title": "How to Beat the Crypt Trials in Roblox BedWars!"
         },
         "statistics": {
          "commentCount": "483",
          "favoriteCount": "0",
          "likeCount": "3438",
          "viewCount": "146477"
         }
        },
        {
         "contentDetails": {
          "caption": "false",
          "contentRating": {},
          "definition": "hd",
          "dimension": "2d",
          "duration": "PT27M49S",
          "licensedContent": true,
          "projection": "rectangular"
         },
         "etag": "UdY9NwJv2w1UzTxfxOrmYaqyaXM",
         "id": "RvOd3XcT5uk",
         "kind": "youtube#video",
         "snippet": {
          "categoryId": "19",
          "channelId": "UCzzZ3HENcCrXaZ7qAlr6SYw",
          "channelTitle": "Toya Johnson",
          "description": "Social Media:\n💁🏾‍♀️Instagram - ToyaJohnson\n💁🏾‍♀️Twitter - Toyawright\n\nBooking Email:\nbookingtoya@gmail.com\n\n#ToyaJohnson",
          "liveBroadcastContent": "none",
          "localized": {
           "description": "Social Media:\n💁🏾‍♀️Instagram - ToyaJohnson\n💁🏾‍♀️Twitter - Toyawright\n\nBooking Email:\nbookingtoya@gmail.com\n\n#ToyaJohnson",
           "title": "Here’s Your Invitation To Our Wedding Ceremony 💒🥰 #RushingDownTheAisle ‼️❤️"
          },
          "publishedAt": "2022-10-24T01:22:41Z",
          "tags": [
           "Toya Johnson",
           "Weight No More",
           "TI & Tiny Friends & Family Hustle",
           "VH1",
           "Family Hustle",
           "Toya",
           "Tiny",
           "reginae carter",
           "toya wright",
           "lifetime movie",
           "actress",
           "reality tv",
           "reality show",
           "Lil Wayne",
           "ReignBeaux"
          ],
          "thumbnails": {
           "default": {
            "height": 90,
            "url": "https://i.ytimg.com/vi/RvOd3XcT5uk/default.jpg",
            "width": 120
           },
           "high": {
            "height": 360,
            "url": "https://i.ytimg.com/vi/RvOd3XcT5uk/hqdefault.jpg",
            "width": 480
           },
           "maxres": {
            "height": 720,
            "url": "https://i.ytimg.com/vi/RvOd3XcT5uk/maxresdefault.jpg",
            "width": 1280
           },
           "medium": {
            "height": 180,
            "url": "https://i.ytimg.com/vi/RvOd3XcT5uk/mqdefault.jpg",
            "width": 320
           },
           "standard": {
            "height": 480,
            "url": "https://i.ytimg.com/vi/RvOd3XcT5uk/sddefault.jpg",
            "width": 640
           }
          },
          "title": "Here’s Your Invitation To Our Wedding Ceremony 💒🥰 #RushingDownTheAisle ‼️❤️"
         },
         "statistics": {
          "commentCount": "6161",
          "favoriteCount": "0",
          "likeCount": "35615",
          "viewCount": "601534"
         }
        },
        {
         "contentDetails": {
          "caption": "true",
          "contentRating": {},
          "definition": "hd",
          "dimension": "2d",
          "duration": "PT30S",
          "licensedContent": true,
          "projection": "rectangular"
         },
         "etag": "Pznd6BDsfg8cr4Fhk0-VAKiECyg",
         "id": "i5CAsSzUxzU",
         "kind": "youtube#video",
         "snippet": {
          "categoryId": "24",
          "channelId": "UCcOkA2Xmk1valTOWSyKyp4g",
          "channelTitle": "Doctor Who",
          "defaultAudioLanguage": "en-GB",
          "defaultLanguage": "en-GB",
          "description": "Doctor Who returns 2023. Read more here ➡️ https://bbc.in/3DrhUG4 #DoctorWho\nSubscribe to Doctor Who for more exclusive videos: http://bit.ly/SubscribeToDoctorWho\n \nWATCH MORE: \nCompilations: http://bit.ly/DWCompilations\nRegenerations: http://bit.ly/DWRegenerations\nTitle Sequences: http://bit.ly/ALLTitleSequences\n\nMORE ABOUT DOCTOR WHO:\nWelcome to the Doctor Who Channel! Travel in the TARDIS with clips dating back to the Doctor's first incarnation in 1963, all the way through dozens of regenerations. Including behind-the-scenes footage, exclusive videos and our very own show Doctor Who: The Fan Show - this is the place to find all the best official clips.\n#DoctorWho\n\nThis is a commercial channel from BBC Studios. Service information and feedback:  https://www.bbcstudios.com/contact/contact-us/",
          "liveBroadcastContent": "none",
          "localized": {
           "description": "Doctor Who returns 2023. Read more here ➡️ https://bbc.in/3DrhUG4 #DoctorWho\nSubscribe to Doctor Who for more exclusive videos: http://bit.ly/SubscribeToDoctorWho\n \nWATCH MORE: \nCompilations: http://bit.ly/DWCompilations\nRegenerations: http://bit.ly/DWRegenerations\nTitle Sequences: http://bit.ly/ALLTitleSequences\n\nMORE ABOUT DOCTOR WHO:\nWelcome to the Doctor Who Channel! Travel in the TARDIS with clips dating back to the Doctor's first incarnation in 1963, all the way through dozens of regenerations. Including behind-the-scenes footage, exclusive videos and our very own show Doctor Who: The Fan Show - this is the place to find all the best official clips.\n#DoctorWho\n\nThis is a commercial channel from BBC Studios. Service information and feedback:  https://www.bbcstudios.com/contact/contact-us/",
           "title": "Doctor Who Returns 2023... | Doctor Who"
          },
          "publishedAt": "2022-10-23T20:05:22Z",
          "tags": [
           "doctor who",
           "the doctor",
           "dr who",
           "bbc",
           "doctor who bbc",
           "david tennant",
           "tenth doctor",
           "ncuti gatwa",
           "fourteenth doctor",
           "fifteenth doctor",
           "doctor who 2023",
           "russell t davies",
           "catherine tate",
           "donna noble",
           "doctor who 60th anniversary",
           "doctor who 60th anniversary trailer",
           "doctor who 60th anniversary david tennant"
          ],
          "thumbnails": {
           "default": {
            "height": 90,
            "url": "https://i.ytimg.com/vi/i5CAsSzUxzU/default.jpg",
            "width": 120
           },
           "high": {
            "height": 360,
            "url": "https://i.ytimg.com/vi/i5CAsSzUxzU/hqdefault.jpg",
            "width": 480
           },
           "maxres": {
            "height": 720,
            "url": "https://i.ytimg.com/vi/i5CAsSzUxzU/maxresdefault.jpg",
            "width": 1280
           },
           "medium": {
            "height": 180,
            "url": "https://i.ytimg.com/vi/i5CAsSzUxzU/mqdefault.jpg",
            "width": 320
           },
           "standard": {
            "height": 480,
            "url": "https://i.ytimg.com/vi/i5CAsSzUxzU/sddefault.jpg",
            "width": 640
           }
          },
          "title": "Doctor Who Returns 2023... | Doctor Who"
         },
         "statistics": {
          "commentCount": "3383",
          "favoriteCount": "0",
          "likeCount": "24349",
          "viewCount": "952598"
         }
        },
        {
         "contentDetails": {
          "caption": "false",
          "contentRating": {},
          "definition": "hd",
          "dimension": "2d",
          "duration": "PT21M42S",
          "licensedContent": true,
          "projection": "rectangular"
         },
         "etag": "rdwP6C721CzfTnhuvjIb9z7smbc",
         "id": "ujymUZ8rwCc",
         "kind": "youtube#video",
         "snippet": {
          "categoryId": "22",
          "channelId": "UCs0UytVnfXv5XTHeRx-BX9A",
          "channelTitle": "The Arnold Sisters",
          "description": "Lindsay, Sam, and Sage are so excited to announce that baby #2 is on the way! Find out how Lindsay find out and shared the news with her family and friends.\n\nSubscribe: https://bit.ly/3nkUVl3\n\nFollow The Arnold Sisters!\nLindsay's Instagram: https://instagram.com/lindsarnold \nJensen's Instagram: https://instagram.com/jensenarnold_ \nBrynley's Instagram: https://instagram.com/brynleyarnold \nRylee's Instagram: https://instagram.com/ryleearnold1 \n\nWatch more videos!\nVlogs: https://www.youtube.com/watch?v=-_OeKcAfyho&list=PLTrNUeL4xYu_r31NRFygMeCXLYQkCYK0o&playnext=1 \nChallenges:  https://www.youtube.com/watch?v=SqbZMGQadpQ&list=PLTrNUeL4xYu-JG-Qhl16nSfkvQgeDZrSd&playnext=1 \nBaby Sage: https://www.youtube.com/watch?v=JSblRuy7DdA&list=PLTrNUeL4xYu-mjEOTGLlkG1oN1NlgJ3Bf&playnext=1 \nMost Popular: https://www.youtube.com/watch?v=aL6vYQVbzxY&list=PLTrNUeL4xYu_YgVuRkeFZOW0vVgo-C4rr&playnext=1 \n\nWelcome to the official The Arnold Sisters YouTube channel! On this channel you will find a variety of content like vlogs, DWTS, challenges, and more! Make sure to subscribe and enable ALL notifications! #TheArnoldSisters #FORMAT #pregnancyannoucement",
          "liveBroadcastContent": "none",
          "localized": {
           "description": "Lindsay, Sam, and Sage are so excited to announce that baby #2 is on the way! Find out how Lindsay find out and shared the news with her family and friends.\n\nSubscribe: https://bit.ly/3nkUVl3\n\nFollow The Arnold Sisters!\nLindsay's Instagram: https://instagram.com/lindsarnold \nJensen's Instagram: https://instagram.com/jensenarnold_ \nBrynley's Instagram: https://instagram.com/brynleyarnold \nRylee's Instagram: https://instagram.com/ryleearnold1 \n\nWatch more videos!\nVlogs: https://www.youtube.com/watch?v=-_OeKcAfyho&list=PLTrNUeL4xYu_r31NRFygMeCXLYQkCYK0o&playnext=1 \nChallenges:  https://www.youtube.com/watch?v=SqbZMGQadpQ&list=PLTrNUeL4xYu-JG-Qhl16nSfkvQgeDZrSd&playnext=1 \nBaby Sage: https://www.youtube.com/watch?v=JSblRuy7DdA&list=PLTrNUeL4xYu-mjEOTGLlkG1oN1NlgJ3Bf&playnext=1 \nMost Popular: https://www.youtube.com/watch?v=aL6vYQVbzxY&list=PLTrNUeL4xYu_YgVuRkeFZOW0vVgo-C4rr&playnext=1 \n\nWelcome to the official The Arnold Sisters YouTube channel! On this channel you will find a variety of content like vlogs, DWTS, challenges, and more! Make sure to subscribe and enable ALL notifications! #TheArnoldSisters #FORMAT #pregnancyannoucement",
           "title": "LINDSAY'S PREGNANT* BABY #2"
          },
          "publishedAt": "2022-10-24T14:00:34Z",
          "tags": [
           "The Arnold Sisters",
           "Arnold Sisters",
           "Arnold Sister Dancers",
           "lindsay arnold",
           "lindsay",
           "pregnant",
           "baby number 2",
           "lindsay pregnant",
           "pregnancy announcement",
           "lindsay pregnancy",
           "lindsay arnold pregnancy",
           "lindsay pregnancy announcement",
           "pregnancy reveal",
           "trying to conceive",
           "ttc",
           "family",
           "big sister",
           "sage",
           "baby sage",
           "big sister sage",
           "lindsay and sam",
           "lindsays husband",
           "motherhood",
           "mom",
           "pregnant mom",
           "baby 2",
           "baby on the way",
           "lindsay dancer",
           "lindsay dancer pregnant"
          ],
          "thumbnails": {
           "default": {
            "height": 90,
            "url": "https://i.ytimg.com/vi/ujymUZ8rwCc/default.jpg",
            "width": 120
           },
           "high": {
            "height": 360,
            "url": "https://i.ytimg.com/vi/ujymUZ8rwCc/hqdefault.jpg",
            "width": 480
           },
           "maxres": {
            "height": 720,
            "url": "https://i.ytimg.com/vi/ujymUZ8rwCc/maxresdefault.jpg",
            "width": 1280
           },
           "medium": {
            "height": 180,
            "url": "https://i.ytimg.com/vi/ujymUZ8rwCc/mqdefault.jpg",
            "width": 320
           },
           "standard": {
            "height": 480,
            "url": "https://i.ytimg.com/vi/ujymUZ8rwCc/sddefault.jpg",
            "width": 640
           }
          },
          "title": "LINDSAY'S PREGNANT* BABY #2"
         },
         "statistics": {
          "commentCount": "468",
          "favoriteCount": "0",
          "likeCount": "5689",
          "viewCount": "177743"
         }
        },
        {
         "contentDetails": {
          "caption": "false",
          "contentRating": {},
          "definition": "hd",
          "dimension": "2d",
          "duration": "PT9M1S",
          "licensedContent": true,
          "projection": "rectangular"
         },
         "etag": "NdVJZCM3CR3WfXuqA3P3DbKqvBc",
         "id": "m7LfBk3XP5A",
         "kind": "youtube#video",
         "snippet": {
          "categoryId": "17",
          "channelId": "UCbz_LB6vGKahwEjZxks0sNQ",
          "channelTitle": "SWISHOUT",
          "description": "LeBron's Decision Really Might Ruin the Rest of his Career..\n\nTurn on post notifications to always get notified when I post a new video. \nFollow all of my social medias below:\nBusiness Inquiries: swishoutbusiness@gmail.com\nTwitter: https://twitter.com/swishout\n\n\"Copyright Disclaimer Under Section 107 of the Copyright Act 1976, allowance is made for \"fair use\" for purposes such as criticism, comment, news reporting, teaching, scholarship, and research. Fair use is a use permitted by copyright statute that might otherwise be infringing. Non-profit, educational or personal use tips the balance in favor of fair use.\"\n\nI do not own any clips or audio.",
          "liveBroadcastContent": "none",
          "localized": {
           "description": "LeBron's Decision Really Might Ruin the Rest of his Career..\n\nTurn on post notifications to always get notified when I post a new video. \nFollow all of my social medias below:\nBusiness Inquiries: swishoutbusiness@gmail.com\nTwitter: https://twitter.com/swishout\n\n\"Copyright Disclaimer Under Section 107 of the Copyright Act 1976, allowance is made for \"fair use\" for purposes such as criticism, comment, news reporting, teaching, scholarship, and research. Fair use is a use permitted by copyright statute that might otherwise be infringing. Non-profit, educational or personal use tips the balance in favor of fair use.\"\n\nI do not own any clips or audio.",
           "title": "LeBron's Decision Really Might Ruin the Rest of his Career.."
          },
          "publishedAt": "2022-10-24T20:56:15Z",
          "tags": [
           "Swishout",
           "kobe bryant",
           "michael jordan",
           "lebron",
           "lebron james",
           "russell westbrook",
           "prettyboyfredo",
           "first take",
           "stephen a smith",
           "skip bayless",
           "max kellerman",
           "undisputed",
           "kevin durant",
           "nba",
           "nba finals",
           "zion williamson",
           "mike korzemba'",
           "jxmyhighroller",
           "nba playoffs",
           "james harden",
           "stephen curry",
           "LeBron's Decision Really Might Ruin the Rest of his Career..",
           "Lebron james",
           "russell westbrook trail blazers",
           "russell westbrook trade",
           "russell westbrook 0-11",
           "lebron james russell westbrook"
          ],
          "thumbnails": {
           "default": {
            "height": 90,
            "url": "https://i.ytimg.com/vi/m7LfBk3XP5A/default.jpg",
            "width": 120
           },
           "high": {
            "height": 360,
            "url": "https://i.ytimg.com/vi/m7LfBk3XP5A/hqdefault.jpg",
            "width": 480
           },
           "maxres": {
            "height": 720,
            "url": "https://i.ytimg.com/vi/m7LfBk3XP5A/maxresdefault.jpg",
            "width": 1280
           },
           "medium": {
            "height": 180,
            "url": "https://i.ytimg.com/vi/m7LfBk3XP5A/mqdefault.jpg",
            "width": 320
           },
           "standard": {
            "height": 480,
            "url": "https://i.ytimg.com/vi/m7LfBk3XP5A/sddefault.jpg",
            "width": 640
           }
          },
          "title": "LeBron's Decision Really Might Ruin the Rest of his Career.."
         },
         "statistics": {
          "commentCount": "908",
          "favoriteCount": "0",
          "likeCount": "7950",
          "viewCount": "184183"
         }
        },
        {
         "contentDetails": {
          "caption": "false",
          "contentRating": {},
          "definition": "hd",
          "dimension": "2d",
          "duration": "PT20M41S",
          "licensedContent": true,
          "projection": "rectangular"
         },
         "etag": "OgbNS3trenYvdkHMsrpDEJqkHEY",
         "id": "TrhemnvYnUs",
         "kind": "youtube#video",
         "snippet": {
          "categoryId": "20",
          "channelId": "UCmG2EhfOwSjpPMX4LjGY__A",
          "channelTitle": "KairosTime Gaming",
          "defaultAudioLanguage": "en",
          "defaultLanguage": "en",
          "description": "Important Update Info! | KairosTime \nSubscribe Here ► https://goo.gl/1qE15w\nBrawl Stars Creator Code ► https://bit.ly/2nQd1Cd\nJoin & become a channel member ► https://bit.ly/2NsjYTA\n#BrawlStars #Brawl #BrawlKairos\n\nIn this video I'm going to give details on the gear rework! I also have an important announcement to make sure you don't lose gold in the update! I have the conversion rate from scrap & tokens to gold. In this update sneak peek, I'll also reveal the 4 new gears coming to the game, and talk about the new skin prices & animations! We'll also cover the balance changes coming in the Brawl Stars Update!\n\nBusiness Email ▶ kairos@tribegaming.gg\n-----------------------------------------------------------------------------\nPartners:\n► Check out the new 2022 Ford Mustang Mach-E: https://trb.gg/ford-mach-e\n► Razer is the #1 lifestyle brand for gamers: https://trb.gg/razer\n► Set yourself apart from the rest! Check out Samsung Galaxy: https://trb.gg/samsunggalaxy\n-----------------------------------------------------------------------------\n\nEPIC SUPPORT!\n► YouTube Sponsorship Perks! https://goo.gl/yCK7iW\n► Patreon Sponsorship Perks! https://goo.gl/W2t6Yq\n► Twitch Subscriber Perks! https://goo.gl/93CivX\n► KairosTime Merch! https://goo.gl/EbP9e3\n\n-----------------------------------------------------------------------------\n\nSOCIAL MEDIA!\n► Twitch: https://www.twitch.tv/kairostime_gaming\n► Instagram: https://www.instagram.com/kairostime_gaming/\n► Facebook Page: https://goo.gl/WxSczQ\n► Twitter: https://twitter.com/KairosTime\n► Discord Server: https://discord.gg/kairos\n► TikTok: https://www.tiktok.com/@kairostime\n-----------------------------------------------------------------------------\n\nFollow Tribe Gaming:\n▶ Twitter: https://twitter.com/tribegaming\n▶ YouTube: https://youtube.com/tribegaming\n▶ Instagram: https://instagram.com/tribegaming\n► Discord: https://discord.gg/tribegaming\n\n-----------------------------------------------------------------------------\n\nBRAWL STARS PLAYLISTS\n► Brawl Stars Olympics : https://goo.gl/SPbGtJ\n► Competitive Tier List: https://goo.gl/aioZxU\n► Mini Games & Challenges: https://goo.gl/33hf4x\n► Let's Play with Lex: https://goo.gl/qbisWk\n► PRO Interviews: https://goo.gl/Wom22n\n► Strategy Guides: https://goo.gl/KDfK1B\n► Brawler Guides: https://goo.gl/YC2fjW\n\n-----------------------------------------------------------------------------\n\nThumbnail for this video may contain artwork from  https://www.instagram.com/freefgp/\n\n-----------------------------------------------------------------------------\n\nThis content is not affiliated with, endorsed, sponsored, or specifically approved by Supercell and Supercell is not responsible for it. For more information see Supercell’s Fan Content Policy: www.supercell.com/fan-content-policy",
          "liveBroadcastContent": "none",
          "localized": {
           "description": "Important Update Info! | KairosTime \nSubscribe Here ► https://goo.gl/1qE15w\nBrawl Stars Creator Code ► https://bit.ly/2nQd1Cd\nJoin & become a channel member ► https://bit.ly/2NsjYTA\n#BrawlStars #Brawl #BrawlKairos\n\nIn this video I'm going to give details on the gear rework! I also have an important announcement to make sure you don't lose gold in the update! I have the conversion rate from scrap & tokens to gold. In this update sneak peek, I'll also reveal the 4 new gears coming to the game, and talk about the new skin prices & animations! We'll also cover the balance changes coming in the Brawl Stars Update!\n\nBusiness Email ▶ kairos@tribegaming.gg\n-----------------------------------------------------------------------------\nPartners:\n► Check out the new 2022 Ford Mustang Mach-E: https://trb.gg/ford-mach-e\n► Razer is the #1 lifestyle brand for gamers: https://trb.gg/razer\n► Set yourself apart from the rest! Check out Samsung Galaxy: https://trb.gg/samsunggalaxy\n-----------------------------------------------------------------------------\n\nEPIC SUPPORT!\n► YouTube Sponsorship Perks! https://goo.gl/yCK7iW\n► Patreon Sponsorship Perks! https://goo.gl/W2t6Yq\n► Twitch Subscriber Perks! https://goo.gl/93CivX\n► KairosTime Merch! https://goo.gl/EbP9e3\n\n-----------------------------------------------------------------------------\n\nSOCIAL MEDIA!\n► Twitch: https://www.twitch.tv/kairostime_gaming\n► Instagram: https://www.instagram.com/kairostime_gaming/\n► Facebook Page: https://goo.gl/WxSczQ\n► Twitter: https://twitter.com/KairosTime\n► Discord Server: https://discord.gg/kairos\n► TikTok: https://www.tiktok.com/@kairostime\n-----------------------------------------------------------------------------\n\nFollow Tribe Gaming:\n▶ Twitter: https://twitter.com/tribegaming\n▶ YouTube: https://youtube.com/tribegaming\n▶ Instagram: https://instagram.com/tribegaming\n► Discord: https://discord.gg/tribegaming\n\n-----------------------------------------------------------------------------\n\nBRAWL STARS PLAYLISTS\n► Brawl Stars Olympics : https://goo.gl/SPbGtJ\n► Competitive Tier List: https://goo.gl/aioZxU\n► Mini Games & Challenges: https://goo.gl/33hf4x\n► Let's Play with Lex: https://goo.gl/qbisWk\n► PRO Interviews: https://goo.gl/Wom22n\n► Strategy Guides: https://goo.gl/KDfK1B\n► Brawler Guides: https://goo.gl/YC2fjW\n\n-----------------------------------------------------------------------------\n\nThumbnail for this video may contain artwork from  https://www.instagram.com/freefgp/\n\n-----------------------------------------------------------------------------\n\nThis content is not affiliated with, endorsed, sponsored, or specifically approved by Supercell and Supercell is not responsible for it. For more information see Supercell’s Fan Content Policy: www.supercell.com/fan-content-policy",
           "title": "WATCH THIS ASAP OR LOSE GOLD! | 4 New Gears, Balance Changes, & More!"
          },
          "publishedAt": "2022-10-24T16:00:31Z",
          "tags": [
           "Brawl Stars",
           "BrawlStars",
           "Kairos",
           "KairosTime",
           "Kairos Time",
           "Kairos Brawl Stars",
           "brawl stars gold",
           "brawl stars update",
           "brawl stars update sneak peek",
           "brawl stars club coins",
           "brawl stars scrap",
           "brawl stars gear tokens",
           "brawl stars gear rework",
           "brawl stars update info",
           "brawl stars balance changes"
          ],
          "thumbnails": {
           "default": {
            "height": 90,
            "url": "https://i.ytimg.com/vi/TrhemnvYnUs/default.jpg",
            "width": 120
           },
           "high": {
            "height": 360,
            "url": "https://i.ytimg.com/vi/TrhemnvYnUs/hqdefault.jpg",
            "width": 480
           },
           "maxres": {
            "height": 720,
            "url": "https://i.ytimg.com/vi/TrhemnvYnUs/maxresdefault.jpg",
            "width": 1280
           },
           "medium": {
            "height": 180,
            "url": "https://i.ytimg.com/vi/TrhemnvYnUs/mqdefault.jpg",
            "width": 320
           },
           "standard": {
            "height": 480,
            "url": "https://i.ytimg.com/vi/TrhemnvYnUs/sddefault.jpg",
            "width": 640
           }
          },
          "title": "WATCH THIS ASAP OR LOSE GOLD! | 4 New Gears, Balance Changes, & More!"
         },
         "statistics": {
          "commentCount": "1307",
          "favoriteCount": "0",
          "likeCount": "13683",
          "viewCount": "187280"
         }
        },
        {
         "contentDetails": {
          "caption": "false",
          "contentRating": {},
          "definition": "hd",
          "dimension": "2d",
          "duration": "PT14M30S",
          "licensedContent": true,
          "projection": "rectangular"
         },
         "etag": "tdEDHEt8sqgfG1948v6TiyV_IPs",
         "id": "xxyGF1PJCgc",
         "kind": "youtube#video",
         "snippet": {
          "categoryId": "20",
          "channelId": "UCzTlXb7ivVzuFlugVCv3Kvg",
          "channelTitle": "LDShadowLady",
          "defaultAudioLanguage": "en-GB",
          "defaultLanguage": "en-GB",
          "description": "Please *boop* the like button if you enjoy the video! :)\nEmpires SMP is a 1.19 vanilla Minecraft server with some other fun Minecraft Youtubers! Each player chooses a biome to rule over and builds their own empire.\n\nDangthatsalongname: https://www.youtube.com/dangthatsalongname\nFalse: https://www.youtube.com/c/FalseSymmetry\nfWhip: https://www.youtube.com/fwhip\nGeminiTay: https://www.youtube.com/GeminiTayMC\nJoey: https://www.youtube.com/user/JoeyGraceffaGames\nKatherine Elizabeth: https://www.youtube.com/katherineelizabethgaming\nLDShadowlady: https://www.youtube.com/ldshadowlady\nMythicalSausage: https://www.youtube.com/TheMythicalSausage\nOli: https://www.youtube.com/TheOrionSound\nPixlriffs: https://www.youtube.com/Pixlriffs\nShubble: https://www.youtube.com/c/Shubble/\nSmallishbeans: https://www.youtube.com/user/SmallishBeans\nSolidarity: https://www.youtube.com/user/SolidarityGaming\n\nInvestigations by Kevin MacLeod\nLink: https://incompetech.filmmusic.io/song/3924-investigations\nLicense: http://creativecommons.org/licenses/by/4.0/\n\nThe Builder by Kevin MacLeod\nLink: https://incompetech.filmmusic.io/song/4484-the-builder\nLicense: http://creativecommons.org/licenses/by/4.0/\n\nAmazing Plan by Kevin MacLeod\nLink: https://incompetech.filmmusic.io/song/3358-amazing-plan\nLicense: http://creativecommons.org/licenses/by/4.0/\n\nSneaky Adventure by Kevin MacLeod\nLink: https://incompetech.filmmusic.io/song/4383-sneaky-adventure\nLicense: http://creativecommons.org/licenses/by/4.0/\n\nSneaky Snitch by Kevin MacLeod\nLink: https://incompetech.filmmusic.io/song/4384-sneaky-snitch\nLicense: http://creativecommons.org/licenses/by/4.0/\n\nScheming Weasel (faster version) Kevin MacLeod (incompetech.com)\nLicensed under Creative Commons: By Attribution 3.0 License\nhttp://creativecommons.org/licenses/by/3.0/\n\nFOLLOW ME HERE:\nTwitter: https://twitter.com/LDShadowLady\nInstagram: http://www.instagram.com/ldshadowlady\nTwitch: http://www.twitch.tv/ldshadowlady\n\nCheck out Joel's gaming channel:\nhttp://www.youtube.com/SmallishBeansPlease *boop* the like button if you enjoy the video! :)\nEmpires SMP is a 1.19 vanilla Minecraft server with some other fun Minecraft Youtubers! Each player chooses a biome to rule over and builds their own empire.\n\nDangthatsalongname: https://www.youtube.com/dangthatsalongname\nFalse: https://www.youtube.com/c/FalseSymmetry\nfWhip: https://www.youtube.com/fwhip\nGeminiTay: https://www.youtube.com/GeminiTayMC\nJoey: https://www.youtube.com/user/JoeyGraceffaGames\nKatherine Elizabeth: https://www.youtube.com/katherineelizabethgaming\nLDShadowlady: https://www.youtube.com/ldshadowlady\nMythicalSausage: https://www.youtube.com/TheMythicalSausage\nOli: https://www.youtube.com/TheOrionSound\nPixlriffs: https://www.youtube.com/Pixlriffs\nShubble: https://www.youtube.com/c/Shubble/\nSmallishbeans: https://www.youtube.com/user/SmallishBeans\nSolidarity: https://www.youtube.com/user/SolidarityGaming\n\nInvestigations by Kevin MacLeod\nLink: https://incompetech.filmmusic.io/song/3924-investigations\nLicense: http://creativecommons.org/licenses/by/4.0/\n\nThe Builder by Kevin MacLeod\nLink: https://incompetech.filmmusic.io/song/4484-the-builder\nLicense: http://creativecommons.org/licenses/by/4.0/\n\nAmazing Plan by Kevin MacLeod\nLink: https://incompetech.filmmusic.io/song/3358-amazing-plan\nLicense: http://creativecommons.org/licenses/by/4.0/\n\nSneaky Adventure by Kevin MacLeod\nLink: https://incompetech.filmmusic.io/song/4383-sneaky-adventure\nLicense: http://creativecommons.org/licenses/by/4.0/\n\nSneaky Snitch by Kevin MacLeod\nLink: https://incompetech.filmmusic.io/song/4384-sneaky-snitch\nLicense: http://creativecommons.org/licenses/by/4.0/\n\nScheming Weasel (faster version) Kevin MacLeod (incompetech.com)\nLicensed under Creative Commons: By Attribution 3.0 License\nhttp://creativecommons.org/licenses/by/3.0/\n\nFOLLOW ME HERE:\nTwitter: https://twitter.com/LDShadowLady\nInstagram: http://www.instagram.com/ldshadowlady\nTwitch: http://www.twitch.tv/ldshadowlady\n\nCheck out Joel's gaming channel:\nhttp://www.youtube.com/SmallishBeans",
          "liveBroadcastContent": "none",
          "localized": {
           "description": "Please *boop* the like button if you enjoy the video! :)\nEmpires SMP is a 1.19 vanilla Minecraft server with some other fun Minecraft Youtubers! Each player chooses a biome to rule over and builds their own empire.\n\nDangthatsalongname: https://www.youtube.com/dangthatsalongname\nFalse: https://www.youtube.com/c/FalseSymmetry\nfWhip: https://www.youtube.com/fwhip\nGeminiTay: https://www.youtube.com/GeminiTayMC\nJoey: https://www.youtube.com/user/JoeyGraceffaGames\nKatherine Elizabeth: https://www.youtube.com/katherineelizabethgaming\nLDShadowlady: https://www.youtube.com/ldshadowlady\nMythicalSausage: https://www.youtube.com/TheMythicalSausage\nOli: https://www.youtube.com/TheOrionSound\nPixlriffs: https://www.youtube.com/Pixlriffs\nShubble: https://www.youtube.com/c/Shubble/\nSmallishbeans: https://www.youtube.com/user/SmallishBeans\nSolidarity: https://www.youtube.com/user/SolidarityGaming\n\nInvestigations by Kevin MacLeod\nLink: https://incompetech.filmmusic.io/song/3924-investigations\nLicense: http://creativecommons.org/licenses/by/4.0/\n\nThe Builder by Kevin MacLeod\nLink: https://incompetech.filmmusic.io/song/4484-the-builder\nLicense: http://creativecommons.org/licenses/by/4.0/\n\nAmazing Plan by Kevin MacLeod\nLink: https://incompetech.filmmusic.io/song/3358-amazing-plan\nLicense: http://creativecommons.org/licenses/by/4.0/\n\nSneaky Adventure by Kevin MacLeod\nLink: https://incompetech.filmmusic.io/song/4383-sneaky-adventure\nLicense: http://creativecommons.org/licenses/by/4.0/\n\nSneaky Snitch by Kevin MacLeod\nLink: https://incompetech.filmmusic.io/song/4384-sneaky-snitch\nLicense: http://creativecommons.org/licenses/by/4.0/\n\nScheming Weasel (faster version) Kevin MacLeod (incompetech.com)\nLicensed under Creative Commons: By Attribution 3.0 License\nhttp://creativecommons.org/licenses/by/3.0/\n\nFOLLOW ME HERE:\nTwitter: https://twitter.com/LDShadowLady\nInstagram: http://www.instagram.com/ldshadowlady\nTwitch: http://www.twitch.tv/ldshadowlady\n\nCheck out Joel's gaming channel:\nhttp://www.youtube.com/SmallishBeansPlease *boop* the like button if you enjoy the video! :)\nEmpires SMP is a 1.19 vanilla Minecraft server with some other fun Minecraft Youtubers! Each player chooses a biome to rule over and builds their own empire.\n\nDangthatsalongname: https://www.youtube.com/dangthatsalongname\nFalse: https://www.youtube.com/c/FalseSymmetry\nfWhip: https://www.youtube.com/fwhip\nGeminiTay: https://www.youtube.com/GeminiTayMC\nJoey: https://www.youtube.com/user/JoeyGraceffaGames\nKatherine Elizabeth: https://www.youtube.com/katherineelizabethgaming\nLDShadowlady: https://www.youtube.com/ldshadowlady\nMythicalSausage: https://www.youtube.com/TheMythicalSausage\nOli: https://www.youtube.com/TheOrionSound\nPixlriffs: https://www.youtube.com/Pixlriffs\nShubble: https://www.youtube.com/c/Shubble/\nSmallishbeans: https://www.youtube.com/user/SmallishBeans\nSolidarity: https://www.youtube.com/user/SolidarityGaming\n\nInvestigations by Kevin MacLeod\nLink: https://incompetech.filmmusic.io/song/3924-investigations\nLicense: http://creativecommons.org/licenses/by/4.0/\n\nThe Builder by Kevin MacLeod\nLink: https://incompetech.filmmusic.io/song/4484-the-builder\nLicense: http://creativecommons.org/licenses/by/4.0/\n\nAmazing Plan by Kevin MacLeod\nLink: https://incompetech.filmmusic.io/song/3358-amazing-plan\nLicense: http://creativecommons.org/licenses/by/4.0/\n\nSneaky Adventure by Kevin MacLeod\nLink: https://incompetech.filmmusic.io/song/4383-sneaky-adventure\nLicense: http://creativecommons.org/licenses/by/4.0/\n\nSneaky Snitch by Kevin MacLeod\nLink: https://incompetech.filmmusic.io/song/4384-sneaky-snitch\nLicense: http://creativecommons.org/licenses/by/4.0/\n\nScheming Weasel (faster version) Kevin MacLeod (incompetech.com)\nLicensed under Creative Commons: By Attribution 3.0 License\nhttp://creativecommons.org/licenses/by/3.0/\n\nFOLLOW ME HERE:\nTwitter: https://twitter.com/LDShadowLady\nInstagram: http://www.instagram.com/ldshadowlady\nTwitch: http://www.twitch.tv/ldshadowlady\n\nCheck out Joel's gaming channel:\nhttp://www.youtube.com/SmallishBeans",
           "title": "🔮 Fortunes | Ep. 13 | Minecraft Empires S2 1.19"
          },
          "publishedAt": "2022-10-23T16:20:55Z",
          "tags": [
           "ldshadowlady",
           "minecraft",
           "mini game",
           "girl gamer",
           "pink hair",
           "funny",
           "walkthrough"
          ],
          "thumbnails": {
           "default": {
            "height": 90,
            "url": "https://i.ytimg.com/vi/xxyGF1PJCgc/default.jpg",
            "width": 120
           },
           "high": {
            "height": 360,
            "url": "https://i.ytimg.com/vi/xxyGF1PJCgc/hqdefault.jpg",
            "width": 480
           },
           "maxres": {
            "height": 720,
            "url": "https://i.ytimg.com/vi/xxyGF1PJCgc/maxresdefault.jpg",
            "width": 1280
           },
           "medium": {
            "height": 180,
            "url": "https://i.ytimg.com/vi/xxyGF1PJCgc/mqdefault.jpg",
            "width": 320
           },
           "standard": {
            "height": 480,
            "url": "https://i.ytimg.com/vi/xxyGF1PJCgc/sddefault.jpg",
            "width": 640
           }
          },
          "title": "🔮 Fortunes | Ep. 13 | Minecraft Empires S2 1.19"
         },
         "statistics": {
          "commentCount": "5288",
          "favoriteCount": "0",
          "likeCount": "50119",
          "viewCount": "764830"
         }
        },
        {
         "contentDetails": {
          "caption": "false",
          "contentRating": {},
          "definition": "hd",
          "dimension": "2d",
          "duration": "PT8M35S",
          "licensedContent": true,
          "projection": "rectangular"
         },
         "etag": "GaWa4okSGNBLIfVHj017ooPMBw8",
         "id": "rCx8Qsad98E",
         "kind": "youtube#video",
         "snippet": {
          "categoryId": "17",
          "channelId": "UC1oigGPZ4A6atKCnj17ow8Q",
          "channelTitle": "FREESTYLEBENDER",
          "defaultAudioLanguage": "en",
          "description": "UFC Middleweight Champion Israel 'The Last Stylebender' Adesanya reacts to the Stacked UFC 280 : Oliveira vs Makhachev PPV.\n\nEdited by: @StayHYDRATED Visuals \nShot by: @Jeff Sainlar Visuals \nProduced by: @Dave Blakamoto \n\n#ufc280 #israeladesanya #islammakhachev",
          "liveBroadcastContent": "none",
          "localized": {
           "description": "UFC Middleweight Champion Israel 'The Last Stylebender' Adesanya reacts to the Stacked UFC 280 : Oliveira vs Makhachev PPV.\n\nEdited by: @StayHYDRATED Visuals \nShot by: @Jeff Sainlar Visuals \nProduced by: @Dave Blakamoto \n\n#ufc280 #israeladesanya #islammakhachev",
           "title": "Israel Adesanya Reacts to STACKED UFC 280 PPV"
          },
          "publishedAt": "2022-10-23T22:15:28Z",
          "tags": [
           "charles oliveira",
           "islam makhachev",
           "ufc news",
           "khabib nurmagomedov",
           "israel adesanya",
           "mixed martial arts",
           "dana white",
           "conor mcgregor",
           "khamzat chimaev",
           "ultimate fighting championship",
           "ufc 280",
           "charles oliveira vs islam makhachev",
           "charles oliveira vs dustin poirier",
           "charles oliveira vs justin gaethje",
           "charles oliveira abu dhabi",
           "joe rogan",
           "charles oliveira highlights",
           "charles oliveira jiu jitsu",
           "charles oliveira vs",
           "charles oliveira training"
          ],
          "thumbnails": {
           "default": {
            "height": 90,
            "url": "https://i.ytimg.com/vi/rCx8Qsad98E/default.jpg",
            "width": 120
           },
           "high": {
            "height": 360,
            "url": "https://i.ytimg.com/vi/rCx8Qsad98E/hqdefault.jpg",
            "width": 480
           },
           "maxres": {
            "height": 720,
            "url": "https://i.ytimg.com/vi/rCx8Qsad98E/maxresdefault.jpg",
            "width": 1280
           },
           "medium": {
            "height": 180,
            "url": "https://i.ytimg.com/vi/rCx8Qsad98E/mqdefault.jpg",
            "width": 320
           },
           "standard": {
            "height": 480,
            "url": "https://i.ytimg.com/vi/rCx8Qsad98E/sddefault.jpg",
            "width": 640
           }
          },
          "title": "Israel Adesanya Reacts to STACKED UFC 280 PPV"
         },
         "statistics": {
          "commentCount": "2317",
          "favoriteCount": "0",
          "likeCount": "26033",
          "viewCount": "715594"
         }
        },
        {
         "contentDetails": {
          "caption": "false",
          "contentRating": {},
          "definition": "hd",
          "dimension": "2d",
          "duration": "PT20M",
          "licensedContent": true,
          "projection": "rectangular"
         },
         "etag": "-bjZvvaiZDE19-BAEjcjdxdWMTw",
         "id": "NgNQejvHYVQ",
         "kind": "youtube#video",
         "snippet": {
          "categoryId": "28",
          "channelId": "UC-2YHgc363EdcusLIBbgxzg",
          "channelTitle": "Joe Scott",
          "defaultAudioLanguage": "en",
          "description": "Visit http://www.brilliant.org/answerswithjoe to start learning STEM for free, and the first 200 people will get 20% off their annual premium subscription.\nElections are coming up in the United States, so I thought it was a good opportunity to talk about the best and worst voting systems in the world. Why are US elections so weird? And how can it be fixed?\n\nMake a plan and vote! Here are some resources to get you started:\n\nhttps://www.vote411.org\nhttps://www.rockthevote.org, \nhttps://www.vote.org\n\nThanks to Peter Dillinger for providing extra research for this video!\n\nHere are the links to the democracy rankings:\nhttps://freedomhouse.org/explore-the-map?type=fiw&year=2022\nhttps://pages.eiu.com/rs/753-RIQ-438/images/eiu-democracy-index-2021.pdf\nhttps://www.visualcapitalist.com/mapped-the-state-of-global-democracy-2022/\nhttps://www.democracymatrix.com/ranking\nhttps://www.visualcapitalist.com/mapped-the-state-of-global-democracy-2022/\n\n\n\nWant to support the channel? Here's how:\n\nPatreon: http://www.patreon.com/answerswithjoe\nChannel Memberships: https://www.youtube.com/channel/UC-2YHgc363EdcusLIBbgxzg/join\nT-Shirts & Merch: http://www.answerswithjoe.com/store\n\nCheck out my 2nd channel, Joe Scott TMI:\nhttps://www.youtube.com/channel/UCqi721JsXlf0wq3Z_cNA_Ew\n\nAnd my podcast channel, Conversations With Joe:\nhttps://www.youtube.com/channel/UCJzc7TiJ2nnuyJkUpOZ8RKA\n\nYou can listen to my podcast, Conversations With Joe on Spotify, Apple Podcasts, Google Podcasts, or wherever you get your podcasts.\nSpotify 👉 https://spoti.fi/37iPGzF\nApple Podcasts 👉 https://apple.co/3j94kfq\nGoogle Podcasts 👉 https://bit.ly/3qZCo1V\n\nInterested in getting a Tesla or going solar? Use my referral link and get discounts and perks:\nhttps://ts.la/joe74700\n\nFollow me at all my places!\nInstagram: https://instagram.com/answerswithjoe\nTikTok: https://www.tiktok.com/@answerswithjoe\nFacebook: http://www.facebook.com/answerswithjoe\nTwitter: https://www.twitter.com/answerswithjoe\n\nLINKS LINKS LINKS -\nhttps://www.weforum.org/agenda/2019/08/countries-are-the-worlds-oldest-democracies\nhttps://freedomhouse.org/explore-the-map?type=fiw&year=2022\nhttps://pages.eiu.com/rs/753-RIQ-438/images/eiu-democracy-index-2021.pdf\nhttps://www.visualcapitalist.com/mapped-the-state-of-global-democracy-2022/\nhttps://www.democracymatrix.com/ranking\nhttps://www.visualcapitalist.com/mapped-the-state-of-global-democracy-2022/\nhttps://www.iasgyan.in/blogs/types-of-electoral-systems\nhttps://www.honestballot.com/the-3-main-types-of-electoral-systems/\nhttps://citizen-network.org/library/global-ranking-of-electoral-systems.html\nNorway - Proportional representation (PR)\nhttps://www.electoral-reform.org.uk/how-do-elections-work-in-norway/\n\nFinland - PR for parliament; First Past The Post for President in the Two Rounds format\nhttps://en.wikipedia.org/wiki/Elections_in_Finland\n\nDenmark - Party-list PR\nhttps://en.wikipedia.org/wiki/Elections_in_Denmark\n\nSweden - Open List style Party List PR\nhttps://en.wikipedia.org/wiki/Elections_in_Sweden\n\nSwitzerland - Mix of PR for the Assembly and direct voting on referendums\nhttps://en.wikipedia.org/wiki/Voting_in_Switzerland\n\nNew Zealand - Mixed-Member Proportional (MMP)\n(Was FPP until 1993)\nhttps://en.wikipedia.org/wiki/Electoral_system_of_New_Zealand\n\nExtra Resources:\nhttps://justfacts.votesmart.org/\nhttps://voting.naacpldf.org/\nhttps://voting.naacpldf.org/voting-rights/prepared-to-vote/\nhttps://www.usa.gov/voter-research\n\nTIMESTAMPS - \n0:00 - Intro\n1:51 - The Oldest Democracy in the World\n2:42 - Freedom Ranking\n5:06 - Tangent Cam\n5:25 - First Past The Post Voting\n9:12 - Plurality Majority\n10:24 - Proportional Representation\n11:26 - Mixed Systems\n11:50 - Ranked Choice Voting\n12:59 - Countries With Highest Democracy Ranking\n13:57 - The Importance of Voting\n15:33 - Voting Resources\n17:22 - Sponsor - Brilliant",
          "liveBroadcastContent": "none",
          "localized": {
           "description": "Visit http://www.brilliant.org/answerswithjoe to start learning STEM for free, and the first 200 people will get 20% off their annual premium subscription.\nElections are coming up in the United States, so I thought it was a good opportunity to talk about the best and worst voting systems in the world. Why are US elections so weird? And how can it be fixed?\n\nMake a plan and vote! Here are some resources to get you started:\n\nhttps://www.vote411.org\nhttps://www.rockthevote.org, \nhttps://www.vote.org\n\nThanks to Peter Dillinger for providing extra research for this video!\n\nHere are the links to the democracy rankings:\nhttps://freedomhouse.org/explore-the-map?type=fiw&year=2022\nhttps://pages.eiu.com/rs/753-RIQ-438/images/eiu-democracy-index-2021.pdf\nhttps://www.visualcapitalist.com/mapped-the-state-of-global-democracy-2022/\nhttps://www.democracymatrix.com/ranking\nhttps://www.visualcapitalist.com/mapped-the-state-of-global-democracy-2022/\n\n\n\nWant to support the channel? Here's how:\n\nPatreon: http://www.patreon.com/answerswithjoe\nChannel Memberships: https://www.youtube.com/channel/UC-2YHgc363EdcusLIBbgxzg/join\nT-Shirts & Merch: http://www.answerswithjoe.com/store\n\nCheck out my 2nd channel, Joe Scott TMI:\nhttps://www.youtube.com/channel/UCqi721JsXlf0wq3Z_cNA_Ew\n\nAnd my podcast channel, Conversations With Joe:\nhttps://www.youtube.com/channel/UCJzc7TiJ2nnuyJkUpOZ8RKA\n\nYou can listen to my podcast, Conversations With Joe on Spotify, Apple Podcasts, Google Podcasts, or wherever you get your podcasts.\nSpotify 👉 https://spoti.fi/37iPGzF\nApple Podcasts 👉 https://apple.co/3j94kfq\nGoogle Podcasts 👉 https://bit.ly/3qZCo1V\n\nInterested in getting a Tesla or going solar? Use my referral link and get discounts and perks:\nhttps://ts.la/joe74700\n\nFollow me at all my places!\nInstagram: https://instagram.com/answerswithjoe\nTikTok: https://www.tiktok.com/@answerswithjoe\nFacebook: http://www.facebook.com/answerswithjoe\nTwitter: https://www.twitter.com/answerswithjoe\n\nLINKS LINKS LINKS -\nhttps://www.weforum.org/agenda/2019/08/countries-are-the-worlds-oldest-democracies\nhttps://freedomhouse.org/explore-the-map?type=fiw&year=2022\nhttps://pages.eiu.com/rs/753-RIQ-438/images/eiu-democracy-index-2021.pdf\nhttps://www.visualcapitalist.com/mapped-the-state-of-global-democracy-2022/\nhttps://www.democracymatrix.com/ranking\nhttps://www.visualcapitalist.com/mapped-the-state-of-global-democracy-2022/\nhttps://www.iasgyan.in/blogs/types-of-electoral-systems\nhttps://www.honestballot.com/the-3-main-types-of-electoral-systems/\nhttps://citizen-network.org/library/global-ranking-of-electoral-systems.html\nNorway - Proportional representation (PR)\nhttps://www.electoral-reform.org.uk/how-do-elections-work-in-norway/\n\nFinland - PR for parliament; First Past The Post for President in the Two Rounds format\nhttps://en.wikipedia.org/wiki/Elections_in_Finland\n\nDenmark - Party-list PR\nhttps://en.wikipedia.org/wiki/Elections_in_Denmark\n\nSweden - Open List style Party List PR\nhttps://en.wikipedia.org/wiki/Elections_in_Sweden\n\nSwitzerland - Mix of PR for the Assembly and direct voting on referendums\nhttps://en.wikipedia.org/wiki/Voting_in_Switzerland\n\nNew Zealand - Mixed-Member Proportional (MMP)\n(Was FPP until 1993)\nhttps://en.wikipedia.org/wiki/Electoral_system_of_New_Zealand\n\nExtra Resources:\nhttps://justfacts.votesmart.org/\nhttps://voting.naacpldf.org/\nhttps://voting.naacpldf.org/voting-rights/prepared-to-vote/\nhttps://www.usa.gov/voter-research\n\nTIMESTAMPS - \n0:00 - Intro\n1:51 - The Oldest Democracy in the World\n2:42 - Freedom Ranking\n5:06 - Tangent Cam\n5:25 - First Past The Post Voting\n9:12 - Plurality Majority\n10:24 - Proportional Representation\n11:26 - Mixed Systems\n11:50 - Ranked Choice Voting\n12:59 - Countries With Highest Democracy Ranking\n13:57 - The Importance of Voting\n15:33 - Voting Resources\n17:22 - Sponsor - Brilliant",
           "title": "The One Where I Get Slightly Political And Lose Half My Subscribers"
          },
          "publishedAt": "2022-10-24T14:00:53Z",
          "tags": [
           "answers with joe",
           "joe scott"
          ],
          "thumbnails": {
           "default": {
            "height": 90,
            "url": "https://i.ytimg.com/vi/NgNQejvHYVQ/default.jpg",
            "width": 120
           },
           "high": {
            "height": 360,
            "url": "https://i.ytimg.com/vi/NgNQejvHYVQ/hqdefault.jpg",
            "width": 480
           },
           "maxres": {
            "height": 720,
            "url": "https://i.ytimg.com/vi/NgNQejvHYVQ/maxresdefault.jpg",
            "width": 1280
           },
           "medium": {
            "height": 180,
            "url": "https://i.ytimg.com/vi/NgNQejvHYVQ/mqdefault.jpg",
            "width": 320
           },
           "standard": {
            "height": 480,
            "url": "https://i.ytimg.com/vi/NgNQejvHYVQ/sddefault.jpg",
            "width": 640
           }
          },
          "title": "The One Where I Get Slightly Political And Lose Half My Subscribers"
         },
         "statistics": {
          "commentCount": "9818",
          "favoriteCount": "0",
          "likeCount": "39833",
          "viewCount": "436989"
         }
        },
        {
         "contentDetails": {
          "caption": "false",
          "contentRating": {},
          "definition": "hd",
          "dimension": "2d",
          "duration": "PT12M24S",
          "licensedContent": true,
          "projection": "rectangular"
         },
         "etag": "GiIvz0T2QRvH0jduwMVFEdfFqWw",
         "id": "iIaJLdW0bLg",
         "kind": "youtube#video",
         "snippet": {
          "categoryId": "1",
          "channelId": "UCGwu0nbY2wSkW8N-cghnLpA",
          "channelTitle": "Jaiden Animations",
          "defaultAudioLanguage": "en",
          "defaultLanguage": "en",
          "description": "mario fortnite dance?\n\n\n♥ The Team ♥\nColleen: https://twitter.com/SolarCitrus\nClaudia: https://twitter.com/HiyFi_\nDavidBaronArt: https://twitter.com/DavidBaronArt\nDee Helm: https://twitter.com/DeeRedHelm\nDenny: https://twitter.com/90PercentDenny\nDevon: https://www.youtube.com/channel/UCZaIIdSgN8aEUh7g_BgFobQ\nDuckdee: https://twitter.com/duckdeeArt\nJaystarz: https://www.youtube.com/xjaystarzx\nJRF\nLeslie V\nPivots: https://www.youtube.com/user/ThePivotsXXD\nTiffanySeng: https://twitter.com/tiffanyseng_art\n------------------------------------------------------------------------------------\nSUBSCRIBE for more animations!\nhttps://www.youtube.com/c/jaiden\n\nMERCH:\nhttps://jaidenanimations.com/\n\nTWITTER:\nhttps://twitter.com/JaidenAnimation\n\nINSTAGRAM:\nhttps://instagram.com/jaiden_animations\n\nWanna Send Fanart?\nYou can send it to me through Twitter or Instagram (links above)\n------------------------------------------------------------------------------------\nMusic:\nThe 25th Hour\nDance Dance Revolution: Mario Mix OST\n------------------------------------------------------------------------------------\n#jaidenanimations #mario #fortnitedance",
          "liveBroadcastContent": "none",
          "localized": {
           "description": "mario fortnite dance?\n\n\n♥ The Team ♥\nColleen: https://twitter.com/SolarCitrus\nClaudia: https://twitter.com/HiyFi_\nDavidBaronArt: https://twitter.com/DavidBaronArt\nDee Helm: https://twitter.com/DeeRedHelm\nDenny: https://twitter.com/90PercentDenny\nDevon: https://www.youtube.com/channel/UCZaIIdSgN8aEUh7g_BgFobQ\nDuckdee: https://twitter.com/duckdeeArt\nJaystarz: https://www.youtube.com/xjaystarzx\nJRF\nLeslie V\nPivots: https://www.youtube.com/user/ThePivotsXXD\nTiffanySeng: https://twitter.com/tiffanyseng_art\n------------------------------------------------------------------------------------\nSUBSCRIBE for more animations!\nhttps://www.youtube.com/c/jaiden\n\nMERCH:\nhttps://jaidenanimations.com/\n\nTWITTER:\nhttps://twitter.com/JaidenAnimation\n\nINSTAGRAM:\nhttps://instagram.com/jaiden_animations\n\nWanna Send Fanart?\nYou can send it to me through Twitter or Instagram (links above)\n------------------------------------------------------------------------------------\nMusic:\nThe 25th Hour\nDance Dance Revolution: Mario Mix OST\n------------------------------------------------------------------------------------\n#jaidenanimations #mario #fortnitedance",
           "title": "The game Nintendo wants you to forget"
          },
          "publishedAt": "2022-10-22T18:01:25Z",
          "tags": [
           "jaiden",
           "animations",
           "jaidenanimation",
           "jaidenanimations",
           "Jaiden animations Mario",
           "Mario",
           "Mario movie",
           "DDR",
           "Jaidenanimation mario",
           "DDR Mario"
          ],
          "thumbnails": {
           "default": {
            "height": 90,
            "url": "https://i.ytimg.com/vi/iIaJLdW0bLg/default.jpg",
            "width": 120
           },
           "high": {
            "height": 360,
            "url": "https://i.ytimg.com/vi/iIaJLdW0bLg/hqdefault.jpg",
            "width": 480
           },
           "maxres": {
            "height": 720,
            "url": "https://i.ytimg.com/vi/iIaJLdW0bLg/maxresdefault.jpg",
            "width": 1280
           },
           "medium": {
            "height": 180,
            "url": "https://i.ytimg.com/vi/iIaJLdW0bLg/mqdefault.jpg",
            "width": 320
           },
           "standard": {
            "height": 480,
            "url": "https://i.ytimg.com/vi/iIaJLdW0bLg/sddefault.jpg",
            "width": 640
           }
          },
          "title": "The game Nintendo wants you to forget"
         },
         "statistics": {
          "commentCount": "14366",
          "favoriteCount": "0",
          "likeCount": "308731",
          "viewCount": "4069883"
         }
        },
        {
         "contentDetails": {
          "caption": "false",
          "contentRating": {},
          "definition": "hd",
          "dimension": "2d",
          "duration": "PT12M30S",
          "licensedContent": true,
          "projection": "rectangular"
         },
         "etag": "FD2rG-CD1L6M3Ekv7QLG62vBqF8",
         "id": "pkcbPX4DXnw",
         "kind": "youtube#video",
         "snippet": {
          "categoryId": "24",
          "channelId": "UCIvbV-a0t2tU6LsKSZz7r-w",
          "channelTitle": "SacredBricks",
          "defaultAudioLanguage": "en-US",
          "description": "in this video I buy a lot of weird lego items some of which are very \"scary\". \n\nsubscribe so I can have a lego bed\n\n@TD BRICKS (video not out yet)\n\nif you are reading this you must watch this video: https://www.youtube.com/watch?v=pSSdAZ32eJo&t=171s",
          "liveBroadcastContent": "none",
          "localized": {
           "description": "in this video I buy a lot of weird lego items some of which are very \"scary\". \n\nsubscribe so I can have a lego bed\n\n@TD BRICKS (video not out yet)\n\nif you are reading this you must watch this video: https://www.youtube.com/watch?v=pSSdAZ32eJo&t=171s",
           "title": "these CREEPY Lego products will HAUNT you..."
          },
          "publishedAt": "2022-10-23T19:55:00Z",
          "thumbnails": {
           "default": {
            "height": 90,
            "url": "https://i.ytimg.com/vi/pkcbPX4DXnw/default.jpg",
            "width": 120
           },
           "high": {
            "height": 360,
            "url": "https://i.ytimg.com/vi/pkcbPX4DXnw/hqdefault.jpg",
            "width": 480
           },
           "maxres": {
            "height": 720,
            "url": "https://i.ytimg.com/vi/pkcbPX4DXnw/maxresdefault.jpg",
            "width": 1280
           },
           "medium": {
            "height": 180,
            "url": "https://i.ytimg.com/vi/pkcbPX4DXnw/mqdefault.jpg",
            "width": 320
           },
           "standard": {
            "height": 480,
            "url": "https://i.ytimg.com/vi/pkcbPX4DXnw/sddefault.jpg",
            "width": 640
           }
          },
          "title": "these CREEPY Lego products will HAUNT you..."
         },
         "statistics": {
          "commentCount": "1164",
          "favoriteCount": "0",
          "likeCount": "15511",
          "viewCount": "521912"
         }
        },
        {
         "contentDetails": {
          "caption": "false",
          "contentRating": {},
          "definition": "hd",
          "dimension": "2d",
          "duration": "PT5M46S",
          "licensedContent": true,
          "projection": "rectangular"
         },
         "etag": "do3J-8ikoV1Eb2QGnwxl5s8muoc",
         "id": "MJUXrnqaQGo",
         "kind": "youtube#video",
         "snippet": {
          "categoryId": "20",
          "channelId": "UC2S7CGceq5tsuhcVyACdA3g",
          "channelTitle": "CrankGameplays",
          "defaultAudioLanguage": "en",
          "defaultLanguage": "en",
          "description": "its my birthday. hey.\nhttp://www.ihavetodothis.show\nhttp://www.twitch.tv/crankgameplays",
          "liveBroadcastContent": "none",
          "localized": {
           "description": "its my birthday. hey.\nhttp://www.ihavetodothis.show\nhttp://www.twitch.tv/crankgameplays",
           "title": "i'm back... and i have something to tell you"
          },
          "publishedAt": "2022-10-24T15:40:37Z",
          "tags": [
           "crankgameplays",
           "crank gameplays"
          ],
          "thumbnails": {
           "default": {
            "height": 90,
            "url": "https://i.ytimg.com/vi/MJUXrnqaQGo/default.jpg",
            "width": 120
           },
           "high": {
            "height": 360,
            "url": "https://i.ytimg.com/vi/MJUXrnqaQGo/hqdefault.jpg",
            "width": 480
           },
           "maxres": {
            "height": 720,
            "url": "https://i.ytimg.com/vi/MJUXrnqaQGo/maxresdefault.jpg",
            "width": 1280
           },
           "medium": {
            "height": 180,
            "url": "https://i.ytimg.com/vi/MJUXrnqaQGo/mqdefault.jpg",
            "width": 320
           },
           "standard": {
            "height": 480,
            "url": "https://i.ytimg.com/vi/MJUXrnqaQGo/sddefault.jpg",
            "width": 640
           }
          },
          "title": "i'm back... and i have something to tell you"
         },
         "statistics": {
          "commentCount": "3182",
          "favoriteCount": "0",
          "likeCount": "33076",
          "viewCount": "262254"
         }
        },
        {
         "contentDetails": {
          "caption": "false",
          "contentRating": {},
          "definition": "hd",
          "dimension": "2d",
          "duration": "PT18M4S",
          "licensedContent": true,
          "projection": "rectangular"
         },
         "etag": "sIDNulTrnOUbE51EmBcR0c0KSBc",
         "id": "nS3BAygCPJA",
         "kind": "youtube#video",
         "snippet": {
          "categoryId": "22",
          "channelId": "UC8ha6SsRNvDGkwcPTCXkW3g",
          "channelTitle": "BamaBass",
          "defaultAudioLanguage": "en",
          "description": "Use code BamaBass for $50 off a Kamikoto knife set: \nhttp://kamikoto.com/BamaBass\n\nCheck out NateMakes duck house build here: https://youtu.be/B3kj5rFzHuU\n\nSubscribe for weekly pond build videos: http://bit.ly/Bama_Bass \nDay 1 Pond Build: https://youtu.be/zZ49jSdHKWs\nDay 2 Pond Build: https://youtu.be/eb-WwV3FB1o\nDay 3 Pond Build: https://youtu.be/Ii_C0gu14Wg\nDay 4 Pond Build: https://youtu.be/QmG8dmtany8\nDay 5 Pond Build: https://youtu.be/iL8-RPtT9ck\nDay 6 Pond Build: https://youtu.be/MOGtGnccRGw\nDay 7 Pond Build: https://youtu.be/Ho4AJF3NlJk\nDay 8 Pond Build: https://youtu.be/8yt0heEw_CU\nAdding Structure: https://youtu.be/bF-ObQ-tl5k\nFilling it with Water: https://youtu.be/PXcCzL_rgxo\nHurricane Update: https://youtu.be/iQuiaWysdsI\nNew Pet Ducks: https://youtu.be/iCm7uHmej_Y\nThe Final Chapter: https://youtu.be/hqhBLwQUb-8\nBig Problems: https://youtu.be/jOz8JIn4krw\nFilling it with Water: https://youtu.be/4oxkuPGt3rU\nFilling it with Water Part 2: https://youtu.be/aBjs9iwNe50\nFilling it with Water Part 4: https://youtu.be/tDbG7bi__L4\nFilling it with Water Part 5: https://youtu.be/pPUm6HCF97s\nFilling it with Water Part 6: https://youtu.be/YfdIG7LHYf4\nFilling it with Water Part 7: https://youtu.be/jSUAmIraAtU\nFilling it with Water Part 8: https://youtu.be/SALU9KG0l1U\nHydroseeding: https://youtu.be/ReI_vZcjtQk\nFixing a Leak: https://youtu.be/MeNjGeXtvqc\nAdding Fish: https://youtu.be/sT9TEEgaHCI\nInstalling Aerators: https://youtu.be/f0eVXgMTT8o\nUnderwater Lights: https://youtu.be/JpmeYKqffZE\nSpring Planting: https://youtu.be/5vFBdETEtAc\nNew Fishing Cabin:  https://youtu.be/bv_obw2HeeU \nNew Cabin Tour: https://youtu.be/SL1sMht8MpQ\nStocking Shad: https://youtu.be/mSHYDnR_dRU\nAdding Vegetation: https://youtu.be/eFqPSQbaTPo\nLiming and Fertilizing: https://youtu.be/qobTopYUKsk\nBaby Ducks Hatched: https://youtu.be/v3MkXz2S5Ww\nTagging the Bass: https://youtu.be/1koF4H_AkEc\nAdding the Bass: https://youtu.be/QYf3RcuPW2g\nFirst Time Fishing: https://youtu.be/g_uHluYGPtg\nAdding Solar Power: https://youtu.be/XeL47G3tkm8\nMicro Fishing for a New Pet: https://youtu.be/6aaJrRTa9i4\nMystery Fish: https://youtu.be/tlfKx2drOFg\nAdding Cypress Trees and Structure: https://youtu.be/8QKY4y_Ddbo\nHandfeeding the Bass: https://youtu.be/4IXVXb5FJXM\nAdding 300 Goldfish: https://youtu.be/nCI9cUjB8f0\nGlass Bottom Kayaks: https://youtu.be/pEaLY5voBAE\nBuilding a Duck House: https://youtu.be/BDcOPtnCu9g\n\nFollow us on social media:\nhttp://facebook.com/bamabassofficial\nhttp://instagram.com/_bamabass_\nhttp://twitter.com/_bamabass_\n\nShop for your fishing tackle at our tackle shop https://bamafrogs.com",
          "liveBroadcastContent": "none",
          "localized": {
           "description": "Use code BamaBass for $50 off a Kamikoto knife set: \nhttp://kamikoto.com/BamaBass\n\nCheck out NateMakes duck house build here: https://youtu.be/B3kj5rFzHuU\n\nSubscribe for weekly pond build videos: http://bit.ly/Bama_Bass \nDay 1 Pond Build: https://youtu.be/zZ49jSdHKWs\nDay 2 Pond Build: https://youtu.be/eb-WwV3FB1o\nDay 3 Pond Build: https://youtu.be/Ii_C0gu14Wg\nDay 4 Pond Build: https://youtu.be/QmG8dmtany8\nDay 5 Pond Build: https://youtu.be/iL8-RPtT9ck\nDay 6 Pond Build: https://youtu.be/MOGtGnccRGw\nDay 7 Pond Build: https://youtu.be/Ho4AJF3NlJk\nDay 8 Pond Build: https://youtu.be/8yt0heEw_CU\nAdding Structure: https://youtu.be/bF-ObQ-tl5k\nFilling it with Water: https://youtu.be/PXcCzL_rgxo\nHurricane Update: https://youtu.be/iQuiaWysdsI\nNew Pet Ducks: https://youtu.be/iCm7uHmej_Y\nThe Final Chapter: https://youtu.be/hqhBLwQUb-8\nBig Problems: https://youtu.be/jOz8JIn4krw\nFilling it with Water: https://youtu.be/4oxkuPGt3rU\nFilling it with Water Part 2: https://youtu.be/aBjs9iwNe50\nFilling it with Water Part 4: https://youtu.be/tDbG7bi__L4\nFilling it with Water Part 5: https://youtu.be/pPUm6HCF97s\nFilling it with Water Part 6: https://youtu.be/YfdIG7LHYf4\nFilling it with Water Part 7: https://youtu.be/jSUAmIraAtU\nFilling it with Water Part 8: https://youtu.be/SALU9KG0l1U\nHydroseeding: https://youtu.be/ReI_vZcjtQk\nFixing a Leak: https://youtu.be/MeNjGeXtvqc\nAdding Fish: https://youtu.be/sT9TEEgaHCI\nInstalling Aerators: https://youtu.be/f0eVXgMTT8o\nUnderwater Lights: https://youtu.be/JpmeYKqffZE\nSpring Planting: https://youtu.be/5vFBdETEtAc\nNew Fishing Cabin:  https://youtu.be/bv_obw2HeeU \nNew Cabin Tour: https://youtu.be/SL1sMht8MpQ\nStocking Shad: https://youtu.be/mSHYDnR_dRU\nAdding Vegetation: https://youtu.be/eFqPSQbaTPo\nLiming and Fertilizing: https://youtu.be/qobTopYUKsk\nBaby Ducks Hatched: https://youtu.be/v3MkXz2S5Ww\nTagging the Bass: https://youtu.be/1koF4H_AkEc\nAdding the Bass: https://youtu.be/QYf3RcuPW2g\nFirst Time Fishing: https://youtu.be/g_uHluYGPtg\nAdding Solar Power: https://youtu.be/XeL47G3tkm8\nMicro Fishing for a New Pet: https://youtu.be/6aaJrRTa9i4\nMystery Fish: https://youtu.be/tlfKx2drOFg\nAdding Cypress Trees and Structure: https://youtu.be/8QKY4y_Ddbo\nHandfeeding the Bass: https://youtu.be/4IXVXb5FJXM\nAdding 300 Goldfish: https://youtu.be/nCI9cUjB8f0\nGlass Bottom Kayaks: https://youtu.be/pEaLY5voBAE\nBuilding a Duck House: https://youtu.be/BDcOPtnCu9g\n\nFollow us on social media:\nhttp://facebook.com/bamabassofficial\nhttp://instagram.com/_bamabass_\nhttp://twitter.com/_bamabass_\n\nShop for your fishing tackle at our tackle shop https://bamafrogs.com",
           "title": "Building a 5 Acre Pond! (Adding Crawfish)"
          },
          "publishedAt": "2022-10-23T23:31:02Z",
          "thumbnails": {
           "default": {
            "height": 90,
            "url": "https://i.ytimg.com/vi/nS3BAygCPJA/default.jpg",
            "width": 120
           },
           "high": {
            "height": 360,
            "url": "https://i.ytimg.com/vi/nS3BAygCPJA/hqdefault.jpg",
            "width": 480
           },
           "maxres": {
            "height": 720,
            "url": "https://i.ytimg.com/vi/nS3BAygCPJA/maxresdefault.jpg",
            "width": 1280
           },
           "medium": {
            "height": 180,
            "url": "https://i.ytimg.com/vi/nS3BAygCPJA/mqdefault.jpg",
            "width": 320
           },
           "standard": {
            "height": 480,
            "url": "https://i.ytimg.com/vi/nS3BAygCPJA/sddefault.jpg",
            "width": 640
           }
          },
          "title": "Building a 5 Acre Pond! (Adding Crawfish)"
         },
         "statistics": {
          "commentCount": "1778",
          "favoriteCount": "0",
          "likeCount": "18827",
          "viewCount": "328189"
         }
        },
        {
         "contentDetails": {
          "caption": "false",
          "contentRating": {},
          "definition": "hd",
          "dimension": "2d",
          "duration": "PT7M53S",
          "licensedContent": true,
          "projection": "rectangular"
         },
         "etag": "RE6v4ZupCi2y1UQwhDe4L811TwE",
         "id": "ysPlVnAJ3_Y",
         "kind": "youtube#video",
         "snippet": {
          "categoryId": "22",
          "channelId": "UCBbl9TWafqQcPfsdG32t--A",
          "channelTitle": "Sophia Grace",
          "defaultAudioLanguage": "en",
          "description": "IM PREGNANT... | SOPHIA GRACE\nHi everyone so todays video is very exciting for me to finally share with you guys! So as you can see by the video i am ... PREGNANT \nI am so happy to finally share it with you all , its been a very exciting journey so far and i am looking forward to sharing it with my subscribers as youtube has always been a big part of my life. Make sure to comment any videos you would like to see on this subject as i have lots more coming very soon! Thank you for watching as usual and i look forward to seeing you all in my next video!\n\nSubscribe: https://tinyurl.com/ww7wmt6r | Merch: https://tinyurl.com/2s3my6dt\nWatch the newest videos: https://tinyurl.com/2p82mzad \n\nFollow Sophia Grace\nInstagram: https://tinyurl.com/2mv93e2x \nTikTok: https://tinyurl.com/bdd9n3nt \nTwitter: https://tinyurl.com/4jfvkhum \nSnapchat: https://tinyurl.com/57kyhdj2 \n\nWatch more videos!\nVlogs | Sophia Grace: https://tinyurl.com/ysa43e7a \nLifestyle | Sophia Grace: https://tinyurl.com/2rwscdne \nOriginal Music Videos | Sophia Grace: https://tinyurl.com/bdzaj3r2 \nMost Popular: https://tinyurl.com/msk2n5hj \n\nAbout Sophia Grace:\n\nOfficial YouTube channel of Actress/Singer/Recording artist and Ellen Show star \"Sophia Grace\". Thank you to \"The Ellen Show\", \"Nicki Minaj\" and \"YouTube\". Contact: sophiagracemgmt@gmail.com / For Music Contact: pinkskyentertainment@gmail.com. Also Thank You All For Your Kind Comments And Support, Please Subscribe, thank you.\n\nWant to send Fan Mail to Sophia Grace?\n\nSophia Grace Fan Mail\n32 Soper Square\nHarlow\nEssex\nCM179JB\nUnited Kingdom\n\n#SophiaGrace #ImPregnant #Baby",
          "liveBroadcastContent": "none",
          "localized": {
           "description": "IM PREGNANT... | SOPHIA GRACE\nHi everyone so todays video is very exciting for me to finally share with you guys! So as you can see by the video i am ... PREGNANT \nI am so happy to finally share it with you all , its been a very exciting journey so far and i am looking forward to sharing it with my subscribers as youtube has always been a big part of my life. Make sure to comment any videos you would like to see on this subject as i have lots more coming very soon! Thank you for watching as usual and i look forward to seeing you all in my next video!\n\nSubscribe: https://tinyurl.com/ww7wmt6r | Merch: https://tinyurl.com/2s3my6dt\nWatch the newest videos: https://tinyurl.com/2p82mzad \n\nFollow Sophia Grace\nInstagram: https://tinyurl.com/2mv93e2x \nTikTok: https://tinyurl.com/bdd9n3nt \nTwitter: https://tinyurl.com/4jfvkhum \nSnapchat: https://tinyurl.com/57kyhdj2 \n\nWatch more videos!\nVlogs | Sophia Grace: https://tinyurl.com/ysa43e7a \nLifestyle | Sophia Grace: https://tinyurl.com/2rwscdne \nOriginal Music Videos | Sophia Grace: https://tinyurl.com/bdzaj3r2 \nMost Popular: https://tinyurl.com/msk2n5hj \n\nAbout Sophia Grace:\n\nOfficial YouTube channel of Actress/Singer/Recording artist and Ellen Show star \"Sophia Grace\". Thank you to \"The Ellen Show\", \"Nicki Minaj\" and \"YouTube\". Contact: sophiagracemgmt@gmail.com / For Music Contact: pinkskyentertainment@gmail.com. Also Thank You All For Your Kind Comments And Support, Please Subscribe, thank you.\n\nWant to send Fan Mail to Sophia Grace?\n\nSophia Grace Fan Mail\n32 Soper Square\nHarlow\nEssex\nCM179JB\nUnited Kingdom\n\n#SophiaGrace #ImPregnant #Baby",
           "title": "IM PREGNANT... | SOPHIA GRACE"
          },
          "publishedAt": "2022-10-22T17:00:40Z",
          "tags": [
           "sophia grace",
           "im pregnant",
           "sophia grace and rosie",
           "sophia grace is pregnant",
           "sophia grace and rosie from ellen show",
           "pregnancy announcement",
           "sophia grace vlog",
           "finding out I'm pregnant",
           "sophia grace pregnancy",
           "sophia grace and rosie pregnant",
           "sophia grace I'm pregnant",
           "sophia grace music",
           "sophia grace sings",
           "sophia grace songs",
           "I'm pregnant sophia grace",
           "sophia grace is having a baby",
           "sophia grace and rosie mcclelland",
           "sophia grace youtube",
           "sophia grace video"
          ],
          "thumbnails": {
           "default": {
            "height": 90,
            "url": "https://i.ytimg.com/vi/ysPlVnAJ3_Y/default.jpg",
            "width": 120
           },
           "high": {
            "height": 360,
            "url": "https://i.ytimg.com/vi/ysPlVnAJ3_Y/hqdefault.jpg",
            "width": 480
           },
           "maxres": {
            "height": 720,
            "url": "https://i.ytimg.com/vi/ysPlVnAJ3_Y/maxresdefault.jpg",
            "width": 1280
           },
           "medium": {
            "height": 180,
            "url": "https://i.ytimg.com/vi/ysPlVnAJ3_Y/mqdefault.jpg",
            "width": 320
           },
           "standard": {
            "height": 480,
            "url": "https://i.ytimg.com/vi/ysPlVnAJ3_Y/sddefault.jpg",
            "width": 640
           }
          },
          "title": "IM PREGNANT... | SOPHIA GRACE"
         },
         "statistics": {
          "commentCount": "9830",
          "favoriteCount": "0",
          "likeCount": "57183",
          "viewCount": "2057728"
         }
        }
       ],
       "kind": "youtube#videoListResponse",
       "nextPageToken": "CDIQAA",
       "pageInfo": {
        "resultsPerPage": 50,
        "totalResults": 200
       }
      },
      "text/plain": [
       "<IPython.core.display.JSON object>"
      ]
     },
     "execution_count": 7,
     "metadata": {
      "application/json": {
       "expanded": false,
       "root": "root"
      }
     },
     "output_type": "execute_result"
    }
   ],
   "source": [
    "JSON(popular_videos_response)"
   ]
  },
  {
   "cell_type": "code",
   "execution_count": 8,
   "id": "e26c8751-889f-442e-bef0-25dfd81b6bdb",
   "metadata": {},
   "outputs": [],
   "source": [
    "video_categories_response = get_video_categories(youtube, region_code='US')"
   ]
  },
  {
   "cell_type": "code",
   "execution_count": 9,
   "id": "07bcb97e-1af1-4425-b1a0-036179c8ba32",
   "metadata": {},
   "outputs": [
    {
     "data": {
      "application/json": {
       "etag": "QteLrrS_X7rM7rlcU_e7qa0embQ",
       "items": [
        {
         "etag": "grPOPYEUUZN3ltuDUGEWlrTR90U",
         "id": "1",
         "kind": "youtube#videoCategory",
         "snippet": {
          "assignable": true,
          "channelId": "UCBR8-60-B28hp2BmDPdntcQ",
          "title": "Film & Animation"
         }
        },
        {
         "etag": "Q0xgUf8BFM8rW3W0R9wNq809xyA",
         "id": "2",
         "kind": "youtube#videoCategory",
         "snippet": {
          "assignable": true,
          "channelId": "UCBR8-60-B28hp2BmDPdntcQ",
          "title": "Autos & Vehicles"
         }
        },
        {
         "etag": "qnpwjh5QlWM5hrnZCvHisquztC4",
         "id": "10",
         "kind": "youtube#videoCategory",
         "snippet": {
          "assignable": true,
          "channelId": "UCBR8-60-B28hp2BmDPdntcQ",
          "title": "Music"
         }
        },
        {
         "etag": "HyFIixS5BZaoBdkQdLzPdoXWipg",
         "id": "15",
         "kind": "youtube#videoCategory",
         "snippet": {
          "assignable": true,
          "channelId": "UCBR8-60-B28hp2BmDPdntcQ",
          "title": "Pets & Animals"
         }
        },
        {
         "etag": "PNU8SwXhjsF90fmkilVohofOi4I",
         "id": "17",
         "kind": "youtube#videoCategory",
         "snippet": {
          "assignable": true,
          "channelId": "UCBR8-60-B28hp2BmDPdntcQ",
          "title": "Sports"
         }
        },
        {
         "etag": "5kFljz9YJ4lEgSfVwHWi5kTAwAs",
         "id": "18",
         "kind": "youtube#videoCategory",
         "snippet": {
          "assignable": false,
          "channelId": "UCBR8-60-B28hp2BmDPdntcQ",
          "title": "Short Movies"
         }
        },
        {
         "etag": "ANnLQyzEA_9m3bMyJXMhKTCOiyg",
         "id": "19",
         "kind": "youtube#videoCategory",
         "snippet": {
          "assignable": true,
          "channelId": "UCBR8-60-B28hp2BmDPdntcQ",
          "title": "Travel & Events"
         }
        },
        {
         "etag": "0Hh6gbZ9zWjnV3sfdZjKB5LQr6E",
         "id": "20",
         "kind": "youtube#videoCategory",
         "snippet": {
          "assignable": true,
          "channelId": "UCBR8-60-B28hp2BmDPdntcQ",
          "title": "Gaming"
         }
        },
        {
         "etag": "q8Cp4pUfCD8Fuh8VJ_yl5cBCVNw",
         "id": "21",
         "kind": "youtube#videoCategory",
         "snippet": {
          "assignable": false,
          "channelId": "UCBR8-60-B28hp2BmDPdntcQ",
          "title": "Videoblogging"
         }
        },
        {
         "etag": "cHDaaqPDZsJT1FPr1-MwtyIhR28",
         "id": "22",
         "kind": "youtube#videoCategory",
         "snippet": {
          "assignable": true,
          "channelId": "UCBR8-60-B28hp2BmDPdntcQ",
          "title": "People & Blogs"
         }
        },
        {
         "etag": "3Uz364xBbKY50a2s0XQlv-gXJds",
         "id": "23",
         "kind": "youtube#videoCategory",
         "snippet": {
          "assignable": true,
          "channelId": "UCBR8-60-B28hp2BmDPdntcQ",
          "title": "Comedy"
         }
        },
        {
         "etag": "0srcLUqQzO7-NGLF7QnhdVzJQmY",
         "id": "24",
         "kind": "youtube#videoCategory",
         "snippet": {
          "assignable": true,
          "channelId": "UCBR8-60-B28hp2BmDPdntcQ",
          "title": "Entertainment"
         }
        },
        {
         "etag": "bQlQMjmYX7DyFkX4w3kT0osJyIc",
         "id": "25",
         "kind": "youtube#videoCategory",
         "snippet": {
          "assignable": true,
          "channelId": "UCBR8-60-B28hp2BmDPdntcQ",
          "title": "News & Politics"
         }
        },
        {
         "etag": "Y06N41HP_WlZmeREZvkGF0HW5pg",
         "id": "26",
         "kind": "youtube#videoCategory",
         "snippet": {
          "assignable": true,
          "channelId": "UCBR8-60-B28hp2BmDPdntcQ",
          "title": "Howto & Style"
         }
        },
        {
         "etag": "yBaNkLx4sX9NcDmFgAmxQcV4Y30",
         "id": "27",
         "kind": "youtube#videoCategory",
         "snippet": {
          "assignable": true,
          "channelId": "UCBR8-60-B28hp2BmDPdntcQ",
          "title": "Education"
         }
        },
        {
         "etag": "Mxy3A-SkmnR7MhJDZRS4DuAIbQA",
         "id": "28",
         "kind": "youtube#videoCategory",
         "snippet": {
          "assignable": true,
          "channelId": "UCBR8-60-B28hp2BmDPdntcQ",
          "title": "Science & Technology"
         }
        },
        {
         "etag": "p3lEirEJApyEkuWpaGEHoF-m-aA",
         "id": "29",
         "kind": "youtube#videoCategory",
         "snippet": {
          "assignable": true,
          "channelId": "UCBR8-60-B28hp2BmDPdntcQ",
          "title": "Nonprofits & Activism"
         }
        },
        {
         "etag": "4pIHL_AdN2kO7btAGAP1TvPucNk",
         "id": "30",
         "kind": "youtube#videoCategory",
         "snippet": {
          "assignable": false,
          "channelId": "UCBR8-60-B28hp2BmDPdntcQ",
          "title": "Movies"
         }
        },
        {
         "etag": "Iqol1myDwh2AuOnxjtn2AfYwJTU",
         "id": "31",
         "kind": "youtube#videoCategory",
         "snippet": {
          "assignable": false,
          "channelId": "UCBR8-60-B28hp2BmDPdntcQ",
          "title": "Anime/Animation"
         }
        },
        {
         "etag": "tzhBKCBcYWZLPai5INY4id91ss8",
         "id": "32",
         "kind": "youtube#videoCategory",
         "snippet": {
          "assignable": false,
          "channelId": "UCBR8-60-B28hp2BmDPdntcQ",
          "title": "Action/Adventure"
         }
        },
        {
         "etag": "ii8nBGYpKyl6FyzP3cmBCevdrbs",
         "id": "33",
         "kind": "youtube#videoCategory",
         "snippet": {
          "assignable": false,
          "channelId": "UCBR8-60-B28hp2BmDPdntcQ",
          "title": "Classics"
         }
        },
        {
         "etag": "Y0u9UAQCCGp60G11Arac5Mp46z4",
         "id": "34",
         "kind": "youtube#videoCategory",
         "snippet": {
          "assignable": false,
          "channelId": "UCBR8-60-B28hp2BmDPdntcQ",
          "title": "Comedy"
         }
        },
        {
         "etag": "_YDnyT205AMuX8etu8loOiQjbD4",
         "id": "35",
         "kind": "youtube#videoCategory",
         "snippet": {
          "assignable": false,
          "channelId": "UCBR8-60-B28hp2BmDPdntcQ",
          "title": "Documentary"
         }
        },
        {
         "etag": "eAl2b-uqIGRDgnlMa0EsGZjXmWg",
         "id": "36",
         "kind": "youtube#videoCategory",
         "snippet": {
          "assignable": false,
          "channelId": "UCBR8-60-B28hp2BmDPdntcQ",
          "title": "Drama"
         }
        },
        {
         "etag": "HDAW2HFOt3SqeDI00X-eL7OELfY",
         "id": "37",
         "kind": "youtube#videoCategory",
         "snippet": {
          "assignable": false,
          "channelId": "UCBR8-60-B28hp2BmDPdntcQ",
          "title": "Family"
         }
        },
        {
         "etag": "QHiWh3niw5hjDrim85M8IGF45eE",
         "id": "38",
         "kind": "youtube#videoCategory",
         "snippet": {
          "assignable": false,
          "channelId": "UCBR8-60-B28hp2BmDPdntcQ",
          "title": "Foreign"
         }
        },
        {
         "etag": "ztKcSS7GpH9uEyZk9nQCdNujvGg",
         "id": "39",
         "kind": "youtube#videoCategory",
         "snippet": {
          "assignable": false,
          "channelId": "UCBR8-60-B28hp2BmDPdntcQ",
          "title": "Horror"
         }
        },
        {
         "etag": "Ids1sm8QFeSo_cDlpcUNrnEBYWA",
         "id": "40",
         "kind": "youtube#videoCategory",
         "snippet": {
          "assignable": false,
          "channelId": "UCBR8-60-B28hp2BmDPdntcQ",
          "title": "Sci-Fi/Fantasy"
         }
        },
        {
         "etag": "qhfgS7MzzZHIy_UZ1dlawl1GbnY",
         "id": "41",
         "kind": "youtube#videoCategory",
         "snippet": {
          "assignable": false,
          "channelId": "UCBR8-60-B28hp2BmDPdntcQ",
          "title": "Thriller"
         }
        },
        {
         "etag": "TxVSfGoUyT7CJ7h7ebjg4vhIt6g",
         "id": "42",
         "kind": "youtube#videoCategory",
         "snippet": {
          "assignable": false,
          "channelId": "UCBR8-60-B28hp2BmDPdntcQ",
          "title": "Shorts"
         }
        },
        {
         "etag": "o9w6eNqzjHPnNbKDujnQd8pklXM",
         "id": "43",
         "kind": "youtube#videoCategory",
         "snippet": {
          "assignable": false,
          "channelId": "UCBR8-60-B28hp2BmDPdntcQ",
          "title": "Shows"
         }
        },
        {
         "etag": "mLdyKd0VgXKDI6GevTLBAcvRlIU",
         "id": "44",
         "kind": "youtube#videoCategory",
         "snippet": {
          "assignable": false,
          "channelId": "UCBR8-60-B28hp2BmDPdntcQ",
          "title": "Trailers"
         }
        }
       ],
       "kind": "youtube#videoCategoryListResponse"
      },
      "text/plain": [
       "<IPython.core.display.JSON object>"
      ]
     },
     "execution_count": 9,
     "metadata": {
      "application/json": {
       "expanded": false,
       "root": "root"
      }
     },
     "output_type": "execute_result"
    }
   ],
   "source": [
    "JSON(video_categories_response)"
   ]
  },
  {
   "cell_type": "markdown",
   "id": "dd12413b-7257-4462-bc48-6458c9c040b4",
   "metadata": {},
   "source": [
    "### Functions to create Dataframes from JSON Responses"
   ]
  },
  {
   "cell_type": "code",
   "execution_count": 10,
   "id": "b18d7275-4324-47ca-829f-0558d50636e3",
   "metadata": {},
   "outputs": [],
   "source": [
    "def create_popular_videos_df(response):\n",
    "    '''\n",
    "    Creates dataframe from Popular Videos JSON Response.\n",
    "    Arguments:\n",
    "        response: JSON response\n",
    "    Returns:\n",
    "        Dataframe containing the following information for each video: channelTitle, channelId, title, description, tags,\n",
    "        categoryId, publishedAt, viewCount, likeCount, commentCount\n",
    "    '''\n",
    "    all_videos_info = []\n",
    "    \n",
    "    for video in response['items']:\n",
    "        \n",
    "        attributes = {'snippet' : ['channelTitle', 'channelId', 'title', 'description', 'tags', 'categoryId', 'publishedAt'],\n",
    "                      'statistics' : ['viewCount', 'likeCount', 'commentCount']}\n",
    "        \n",
    "        video_info = {}\n",
    "        for k in attributes.keys():\n",
    "            for a in attributes[k]:\n",
    "                try:\n",
    "                    video_info[a] = video[k][a]\n",
    "                except:\n",
    "                    video_info[a] = None\n",
    "        \n",
    "        all_videos_info.append(video_info)   \n",
    "        \n",
    "    return pd.DataFrame(all_videos_info)"
   ]
  },
  {
   "cell_type": "code",
   "execution_count": 11,
   "id": "95099b16-30a6-432e-a4c1-944a34848027",
   "metadata": {},
   "outputs": [],
   "source": [
    "def create_video_categories_dict(response):\n",
    "    '''\n",
    "    Creates dataframe from Video Categories JSON Response.\n",
    "    Arguments:\n",
    "        response: JSON response\n",
    "    Returns:\n",
    "        Dataframe containing the title and id for each video category\n",
    "    '''\n",
    "    titles = []\n",
    "    ids = []\n",
    "        \n",
    "    for i in range(len(response['items'])):\n",
    "        ids.append(response['items'][i]['id'])\n",
    "        titles.append(response['items'][i]['snippet']['title'])\n",
    "    \n",
    "    all_categories_info = dict(zip(ids, titles))\n",
    "        \n",
    "    return all_categories_info"
   ]
  },
  {
   "cell_type": "code",
   "execution_count": 12,
   "id": "72af9d91-d109-4dd6-a7aa-9560dab809c5",
   "metadata": {},
   "outputs": [],
   "source": [
    "popular_videos = create_popular_videos_df(popular_videos_response)"
   ]
  },
  {
   "cell_type": "code",
   "execution_count": 13,
   "id": "f36c451c-24cf-42a6-b290-9aa178a90f9b",
   "metadata": {},
   "outputs": [
    {
     "data": {
      "text/html": [
       "<div>\n",
       "<style scoped>\n",
       "    .dataframe tbody tr th:only-of-type {\n",
       "        vertical-align: middle;\n",
       "    }\n",
       "\n",
       "    .dataframe tbody tr th {\n",
       "        vertical-align: top;\n",
       "    }\n",
       "\n",
       "    .dataframe thead th {\n",
       "        text-align: right;\n",
       "    }\n",
       "</style>\n",
       "<table border=\"1\" class=\"dataframe\">\n",
       "  <thead>\n",
       "    <tr style=\"text-align: right;\">\n",
       "      <th></th>\n",
       "      <th>channelTitle</th>\n",
       "      <th>channelId</th>\n",
       "      <th>title</th>\n",
       "      <th>description</th>\n",
       "      <th>tags</th>\n",
       "      <th>categoryId</th>\n",
       "      <th>publishedAt</th>\n",
       "      <th>viewCount</th>\n",
       "      <th>likeCount</th>\n",
       "      <th>commentCount</th>\n",
       "    </tr>\n",
       "  </thead>\n",
       "  <tbody>\n",
       "    <tr>\n",
       "      <th>0</th>\n",
       "      <td>TaylorSwiftVEVO</td>\n",
       "      <td>UCANLZYMidaCbLQFWXBC95Jg</td>\n",
       "      <td>Taylor Swift - Bejeweled (Official Music Video)</td>\n",
       "      <td>Official music video for “Bejeweled” by Taylor...</td>\n",
       "      <td>[taylor swift, taylor, swift, bejeweled, midni...</td>\n",
       "      <td>10</td>\n",
       "      <td>2022-10-25T04:00:09Z</td>\n",
       "      <td>9123178</td>\n",
       "      <td>923378</td>\n",
       "      <td>34704</td>\n",
       "    </tr>\n",
       "    <tr>\n",
       "      <th>1</th>\n",
       "      <td>Marvel Entertainment</td>\n",
       "      <td>UCvC4D8onUfXzvjTOM-dBfEA</td>\n",
       "      <td>Marvel Studios’ Ant-Man and The Wasp: Quantuma...</td>\n",
       "      <td>This February, enter the Quantum Realm. Watch ...</td>\n",
       "      <td>[marvel, comics, official, mcu, ant-man, the w...</td>\n",
       "      <td>24</td>\n",
       "      <td>2022-10-24T16:00:40Z</td>\n",
       "      <td>16263548</td>\n",
       "      <td>799353</td>\n",
       "      <td>32207</td>\n",
       "    </tr>\n",
       "    <tr>\n",
       "      <th>2</th>\n",
       "      <td>Marvel Entertainment</td>\n",
       "      <td>UCvC4D8onUfXzvjTOM-dBfEA</td>\n",
       "      <td>Marvel Studios’ Special Presentation: The Guar...</td>\n",
       "      <td>This holiday season is going to be out of this...</td>\n",
       "      <td>[marvel, comics]</td>\n",
       "      <td>24</td>\n",
       "      <td>2022-10-25T18:30:18Z</td>\n",
       "      <td>2865802</td>\n",
       "      <td>183873</td>\n",
       "      <td>6236</td>\n",
       "    </tr>\n",
       "    <tr>\n",
       "      <th>3</th>\n",
       "      <td>The Tonight Show Starring Jimmy Fallon</td>\n",
       "      <td>UC8-Th83bH_thdKZDJCrn88g</td>\n",
       "      <td>Taylor Swift Spills on Record-Breaking Midnigh...</td>\n",
       "      <td>Taylor Swift talks about collaborating with Zo...</td>\n",
       "      <td>[tonight show, jimmy fallon, NBC, NBC TV, Tele...</td>\n",
       "      <td>23</td>\n",
       "      <td>2022-10-25T03:48:56Z</td>\n",
       "      <td>1656560</td>\n",
       "      <td>108119</td>\n",
       "      <td>3035</td>\n",
       "    </tr>\n",
       "    <tr>\n",
       "      <th>4</th>\n",
       "      <td>The Official Pokémon YouTube channel</td>\n",
       "      <td>UCFctpiB_Hnlk3ejWfHqSm6Q</td>\n",
       "      <td>Meet Greavard, the Ghost Dog Pokémon! 🐶🕯️ | Po...</td>\n",
       "      <td>Greavard is so affectionate that paying it any...</td>\n",
       "      <td>[Pokemon Scarlet, Pokemon Violet, Generation 9...</td>\n",
       "      <td>20</td>\n",
       "      <td>2022-10-25T13:30:16Z</td>\n",
       "      <td>858651</td>\n",
       "      <td>47148</td>\n",
       "      <td>4141</td>\n",
       "    </tr>\n",
       "  </tbody>\n",
       "</table>\n",
       "</div>"
      ],
      "text/plain": [
       "                             channelTitle                 channelId  \\\n",
       "0                         TaylorSwiftVEVO  UCANLZYMidaCbLQFWXBC95Jg   \n",
       "1                    Marvel Entertainment  UCvC4D8onUfXzvjTOM-dBfEA   \n",
       "2                    Marvel Entertainment  UCvC4D8onUfXzvjTOM-dBfEA   \n",
       "3  The Tonight Show Starring Jimmy Fallon  UC8-Th83bH_thdKZDJCrn88g   \n",
       "4    The Official Pokémon YouTube channel  UCFctpiB_Hnlk3ejWfHqSm6Q   \n",
       "\n",
       "                                               title  \\\n",
       "0    Taylor Swift - Bejeweled (Official Music Video)   \n",
       "1  Marvel Studios’ Ant-Man and The Wasp: Quantuma...   \n",
       "2  Marvel Studios’ Special Presentation: The Guar...   \n",
       "3  Taylor Swift Spills on Record-Breaking Midnigh...   \n",
       "4  Meet Greavard, the Ghost Dog Pokémon! 🐶🕯️ | Po...   \n",
       "\n",
       "                                         description  \\\n",
       "0  Official music video for “Bejeweled” by Taylor...   \n",
       "1  This February, enter the Quantum Realm. Watch ...   \n",
       "2  This holiday season is going to be out of this...   \n",
       "3  Taylor Swift talks about collaborating with Zo...   \n",
       "4  Greavard is so affectionate that paying it any...   \n",
       "\n",
       "                                                tags categoryId  \\\n",
       "0  [taylor swift, taylor, swift, bejeweled, midni...         10   \n",
       "1  [marvel, comics, official, mcu, ant-man, the w...         24   \n",
       "2                                   [marvel, comics]         24   \n",
       "3  [tonight show, jimmy fallon, NBC, NBC TV, Tele...         23   \n",
       "4  [Pokemon Scarlet, Pokemon Violet, Generation 9...         20   \n",
       "\n",
       "            publishedAt viewCount likeCount commentCount  \n",
       "0  2022-10-25T04:00:09Z   9123178    923378        34704  \n",
       "1  2022-10-24T16:00:40Z  16263548    799353        32207  \n",
       "2  2022-10-25T18:30:18Z   2865802    183873         6236  \n",
       "3  2022-10-25T03:48:56Z   1656560    108119         3035  \n",
       "4  2022-10-25T13:30:16Z    858651     47148         4141  "
      ]
     },
     "execution_count": 13,
     "metadata": {},
     "output_type": "execute_result"
    }
   ],
   "source": [
    "popular_videos.head()"
   ]
  },
  {
   "cell_type": "code",
   "execution_count": 14,
   "id": "9887b17a-2bbd-493c-9e9c-1c4c430225aa",
   "metadata": {},
   "outputs": [],
   "source": [
    "video_categories = create_video_categories_dict(video_categories_response)"
   ]
  },
  {
   "cell_type": "code",
   "execution_count": 15,
   "id": "2765d4ad-dbc5-44f2-8de8-d925a3f6823b",
   "metadata": {},
   "outputs": [
    {
     "data": {
      "text/plain": [
       "{'1': 'Film & Animation',\n",
       " '2': 'Autos & Vehicles',\n",
       " '10': 'Music',\n",
       " '15': 'Pets & Animals',\n",
       " '17': 'Sports',\n",
       " '18': 'Short Movies',\n",
       " '19': 'Travel & Events',\n",
       " '20': 'Gaming',\n",
       " '21': 'Videoblogging',\n",
       " '22': 'People & Blogs',\n",
       " '23': 'Comedy',\n",
       " '24': 'Entertainment',\n",
       " '25': 'News & Politics',\n",
       " '26': 'Howto & Style',\n",
       " '27': 'Education',\n",
       " '28': 'Science & Technology',\n",
       " '29': 'Nonprofits & Activism',\n",
       " '30': 'Movies',\n",
       " '31': 'Anime/Animation',\n",
       " '32': 'Action/Adventure',\n",
       " '33': 'Classics',\n",
       " '34': 'Comedy',\n",
       " '35': 'Documentary',\n",
       " '36': 'Drama',\n",
       " '37': 'Family',\n",
       " '38': 'Foreign',\n",
       " '39': 'Horror',\n",
       " '40': 'Sci-Fi/Fantasy',\n",
       " '41': 'Thriller',\n",
       " '42': 'Shorts',\n",
       " '43': 'Shows',\n",
       " '44': 'Trailers'}"
      ]
     },
     "execution_count": 15,
     "metadata": {},
     "output_type": "execute_result"
    }
   ],
   "source": [
    "video_categories"
   ]
  },
  {
   "cell_type": "markdown",
   "id": "edbad6f2-1e76-40ae-a726-c5623313c7ec",
   "metadata": {},
   "source": [
    "### Mapping the categories"
   ]
  },
  {
   "cell_type": "code",
   "execution_count": 16,
   "id": "c1d561a9-1a6a-44d3-9ca4-5cd4a64adef9",
   "metadata": {},
   "outputs": [],
   "source": [
    "# Adding new category title column to the dataset\n",
    "popular_videos['categoryTitle'] = popular_videos['categoryId'].map(video_categories)"
   ]
  },
  {
   "cell_type": "code",
   "execution_count": 17,
   "id": "651a7968-f376-45a3-84f5-98cc74eb9c2f",
   "metadata": {},
   "outputs": [
    {
     "data": {
      "text/html": [
       "<div>\n",
       "<style scoped>\n",
       "    .dataframe tbody tr th:only-of-type {\n",
       "        vertical-align: middle;\n",
       "    }\n",
       "\n",
       "    .dataframe tbody tr th {\n",
       "        vertical-align: top;\n",
       "    }\n",
       "\n",
       "    .dataframe thead th {\n",
       "        text-align: right;\n",
       "    }\n",
       "</style>\n",
       "<table border=\"1\" class=\"dataframe\">\n",
       "  <thead>\n",
       "    <tr style=\"text-align: right;\">\n",
       "      <th></th>\n",
       "      <th>channelTitle</th>\n",
       "      <th>channelId</th>\n",
       "      <th>title</th>\n",
       "      <th>description</th>\n",
       "      <th>tags</th>\n",
       "      <th>categoryId</th>\n",
       "      <th>publishedAt</th>\n",
       "      <th>viewCount</th>\n",
       "      <th>likeCount</th>\n",
       "      <th>commentCount</th>\n",
       "      <th>categoryTitle</th>\n",
       "    </tr>\n",
       "  </thead>\n",
       "  <tbody>\n",
       "    <tr>\n",
       "      <th>0</th>\n",
       "      <td>TaylorSwiftVEVO</td>\n",
       "      <td>UCANLZYMidaCbLQFWXBC95Jg</td>\n",
       "      <td>Taylor Swift - Bejeweled (Official Music Video)</td>\n",
       "      <td>Official music video for “Bejeweled” by Taylor...</td>\n",
       "      <td>[taylor swift, taylor, swift, bejeweled, midni...</td>\n",
       "      <td>10</td>\n",
       "      <td>2022-10-25T04:00:09Z</td>\n",
       "      <td>9123178</td>\n",
       "      <td>923378</td>\n",
       "      <td>34704</td>\n",
       "      <td>Music</td>\n",
       "    </tr>\n",
       "    <tr>\n",
       "      <th>1</th>\n",
       "      <td>Marvel Entertainment</td>\n",
       "      <td>UCvC4D8onUfXzvjTOM-dBfEA</td>\n",
       "      <td>Marvel Studios’ Ant-Man and The Wasp: Quantuma...</td>\n",
       "      <td>This February, enter the Quantum Realm. Watch ...</td>\n",
       "      <td>[marvel, comics, official, mcu, ant-man, the w...</td>\n",
       "      <td>24</td>\n",
       "      <td>2022-10-24T16:00:40Z</td>\n",
       "      <td>16263548</td>\n",
       "      <td>799353</td>\n",
       "      <td>32207</td>\n",
       "      <td>Entertainment</td>\n",
       "    </tr>\n",
       "    <tr>\n",
       "      <th>2</th>\n",
       "      <td>Marvel Entertainment</td>\n",
       "      <td>UCvC4D8onUfXzvjTOM-dBfEA</td>\n",
       "      <td>Marvel Studios’ Special Presentation: The Guar...</td>\n",
       "      <td>This holiday season is going to be out of this...</td>\n",
       "      <td>[marvel, comics]</td>\n",
       "      <td>24</td>\n",
       "      <td>2022-10-25T18:30:18Z</td>\n",
       "      <td>2865802</td>\n",
       "      <td>183873</td>\n",
       "      <td>6236</td>\n",
       "      <td>Entertainment</td>\n",
       "    </tr>\n",
       "    <tr>\n",
       "      <th>3</th>\n",
       "      <td>The Tonight Show Starring Jimmy Fallon</td>\n",
       "      <td>UC8-Th83bH_thdKZDJCrn88g</td>\n",
       "      <td>Taylor Swift Spills on Record-Breaking Midnigh...</td>\n",
       "      <td>Taylor Swift talks about collaborating with Zo...</td>\n",
       "      <td>[tonight show, jimmy fallon, NBC, NBC TV, Tele...</td>\n",
       "      <td>23</td>\n",
       "      <td>2022-10-25T03:48:56Z</td>\n",
       "      <td>1656560</td>\n",
       "      <td>108119</td>\n",
       "      <td>3035</td>\n",
       "      <td>Comedy</td>\n",
       "    </tr>\n",
       "    <tr>\n",
       "      <th>4</th>\n",
       "      <td>The Official Pokémon YouTube channel</td>\n",
       "      <td>UCFctpiB_Hnlk3ejWfHqSm6Q</td>\n",
       "      <td>Meet Greavard, the Ghost Dog Pokémon! 🐶🕯️ | Po...</td>\n",
       "      <td>Greavard is so affectionate that paying it any...</td>\n",
       "      <td>[Pokemon Scarlet, Pokemon Violet, Generation 9...</td>\n",
       "      <td>20</td>\n",
       "      <td>2022-10-25T13:30:16Z</td>\n",
       "      <td>858651</td>\n",
       "      <td>47148</td>\n",
       "      <td>4141</td>\n",
       "      <td>Gaming</td>\n",
       "    </tr>\n",
       "  </tbody>\n",
       "</table>\n",
       "</div>"
      ],
      "text/plain": [
       "                             channelTitle                 channelId  \\\n",
       "0                         TaylorSwiftVEVO  UCANLZYMidaCbLQFWXBC95Jg   \n",
       "1                    Marvel Entertainment  UCvC4D8onUfXzvjTOM-dBfEA   \n",
       "2                    Marvel Entertainment  UCvC4D8onUfXzvjTOM-dBfEA   \n",
       "3  The Tonight Show Starring Jimmy Fallon  UC8-Th83bH_thdKZDJCrn88g   \n",
       "4    The Official Pokémon YouTube channel  UCFctpiB_Hnlk3ejWfHqSm6Q   \n",
       "\n",
       "                                               title  \\\n",
       "0    Taylor Swift - Bejeweled (Official Music Video)   \n",
       "1  Marvel Studios’ Ant-Man and The Wasp: Quantuma...   \n",
       "2  Marvel Studios’ Special Presentation: The Guar...   \n",
       "3  Taylor Swift Spills on Record-Breaking Midnigh...   \n",
       "4  Meet Greavard, the Ghost Dog Pokémon! 🐶🕯️ | Po...   \n",
       "\n",
       "                                         description  \\\n",
       "0  Official music video for “Bejeweled” by Taylor...   \n",
       "1  This February, enter the Quantum Realm. Watch ...   \n",
       "2  This holiday season is going to be out of this...   \n",
       "3  Taylor Swift talks about collaborating with Zo...   \n",
       "4  Greavard is so affectionate that paying it any...   \n",
       "\n",
       "                                                tags categoryId  \\\n",
       "0  [taylor swift, taylor, swift, bejeweled, midni...         10   \n",
       "1  [marvel, comics, official, mcu, ant-man, the w...         24   \n",
       "2                                   [marvel, comics]         24   \n",
       "3  [tonight show, jimmy fallon, NBC, NBC TV, Tele...         23   \n",
       "4  [Pokemon Scarlet, Pokemon Violet, Generation 9...         20   \n",
       "\n",
       "            publishedAt viewCount likeCount commentCount  categoryTitle  \n",
       "0  2022-10-25T04:00:09Z   9123178    923378        34704          Music  \n",
       "1  2022-10-24T16:00:40Z  16263548    799353        32207  Entertainment  \n",
       "2  2022-10-25T18:30:18Z   2865802    183873         6236  Entertainment  \n",
       "3  2022-10-25T03:48:56Z   1656560    108119         3035         Comedy  \n",
       "4  2022-10-25T13:30:16Z    858651     47148         4141         Gaming  "
      ]
     },
     "execution_count": 17,
     "metadata": {},
     "output_type": "execute_result"
    }
   ],
   "source": [
    "popular_videos.head()"
   ]
  },
  {
   "cell_type": "markdown",
   "id": "cc97d9ae-6949-466c-ae44-42e5892a4ff5",
   "metadata": {},
   "source": [
    "### Extracting channel ids"
   ]
  },
  {
   "cell_type": "code",
   "execution_count": 18,
   "id": "defda10b-1630-4221-99c7-1ef133e18199",
   "metadata": {},
   "outputs": [],
   "source": [
    "channel_ids = popular_videos['channelId'].values.tolist()"
   ]
  },
  {
   "cell_type": "code",
   "execution_count": 19,
   "id": "2fac3f34-9564-43c2-991f-fe92d6d3aafd",
   "metadata": {},
   "outputs": [
    {
     "data": {
      "text/plain": [
       "['UCANLZYMidaCbLQFWXBC95Jg',\n",
       " 'UCvC4D8onUfXzvjTOM-dBfEA',\n",
       " 'UCvC4D8onUfXzvjTOM-dBfEA',\n",
       " 'UC8-Th83bH_thdKZDJCrn88g',\n",
       " 'UCFctpiB_Hnlk3ejWfHqSm6Q',\n",
       " 'UCY1kMZp36IQSyNx_9h4mpCg',\n",
       " 'UCtNdVINwfYFTQEEZgMiQ8FA',\n",
       " 'UC8-Th83bH_thdKZDJCrn88g',\n",
       " 'UCJcc1x6emfrQquiV8Oe_pug',\n",
       " 'UCX6OQ3DkcsbYNE6H8uQQuVA',\n",
       " 'UC0ZV6M2THA81QT9hrVWJG3A',\n",
       " 'UCM9r1xn6s30OnlJWb-jc3Sw',\n",
       " 'UCdARoxad2UaIQPDy6fbz4Nw',\n",
       " 'UCJ0uqCI0Vqr2Rrt1HseGirg',\n",
       " 'UCMUu7nPaq5CIh6ul361bDzw',\n",
       " 'UCHfF8wFnipMeDpJf8OmMxDg',\n",
       " 'UCY6Ij8zOds0WJEeqCLOnqOQ',\n",
       " 'UCQSEAbOs6vsJfy7WN7iYaGQ',\n",
       " 'UCnlXUVuzrO_BllppmUCosig',\n",
       " 'UClMs26ViHFMy7MS897Alcxw',\n",
       " 'UCQIUhhcmXsu6cN6n3y9-Pww',\n",
       " 'UCzJXNzqz6VMHSNInQt_7q6w',\n",
       " 'UCDVYQ4Zhbm3S2dlz7P1GBDg',\n",
       " 'UC-vaBe-YMpvcZL5rQ5OopZw',\n",
       " 'UCBBsPuUY-8UwkSim4zLXp1w',\n",
       " 'UCcOkA2Xmk1valTOWSyKyp4g',\n",
       " 'UCpZy-Hfqcxf-R7nQzlv9Bvw',\n",
       " 'UCgMJGv4cQl8-q71AyFeFmtg',\n",
       " 'UCWJ2lWNubArHWmf3FIHbfcQ',\n",
       " 'UCrOR14O-kBHEyrLQRdHJgDQ',\n",
       " 'UC49ta0RHXJUiID5KWRkcySw',\n",
       " 'UCFctpiB_Hnlk3ejWfHqSm6Q',\n",
       " 'UCy06jHRS_82N2i5v1YL7glQ',\n",
       " 'UCNmfuDtKkWJfWe4zh9MBrUA',\n",
       " 'UC4uG6XoaVfbDgv6eKq4kkfg',\n",
       " 'UC83jt4dlz1Gjl58fzQrrKZg',\n",
       " 'UCVR94saY6YnNgaQtvLBcS0w',\n",
       " 'UCzzZ3HENcCrXaZ7qAlr6SYw',\n",
       " 'UCcOkA2Xmk1valTOWSyKyp4g',\n",
       " 'UCs0UytVnfXv5XTHeRx-BX9A',\n",
       " 'UCbz_LB6vGKahwEjZxks0sNQ',\n",
       " 'UCmG2EhfOwSjpPMX4LjGY__A',\n",
       " 'UCzTlXb7ivVzuFlugVCv3Kvg',\n",
       " 'UC1oigGPZ4A6atKCnj17ow8Q',\n",
       " 'UC-2YHgc363EdcusLIBbgxzg',\n",
       " 'UCGwu0nbY2wSkW8N-cghnLpA',\n",
       " 'UCIvbV-a0t2tU6LsKSZz7r-w',\n",
       " 'UC2S7CGceq5tsuhcVyACdA3g',\n",
       " 'UC8ha6SsRNvDGkwcPTCXkW3g',\n",
       " 'UCBbl9TWafqQcPfsdG32t--A']"
      ]
     },
     "execution_count": 19,
     "metadata": {},
     "output_type": "execute_result"
    }
   ],
   "source": [
    "channel_ids"
   ]
  },
  {
   "cell_type": "code",
   "execution_count": 20,
   "id": "451c9e4e-a4a0-486f-bae8-c1631a3f80a6",
   "metadata": {},
   "outputs": [],
   "source": [
    "# Removing channelId and categoryId columns from the dataset\n",
    "popular_videos.drop(['channelId', 'categoryId'], axis=1, inplace=True)"
   ]
  },
  {
   "cell_type": "code",
   "execution_count": 21,
   "id": "2869752a-bf0c-4954-8aa2-549e714023fa",
   "metadata": {},
   "outputs": [
    {
     "data": {
      "text/html": [
       "<div>\n",
       "<style scoped>\n",
       "    .dataframe tbody tr th:only-of-type {\n",
       "        vertical-align: middle;\n",
       "    }\n",
       "\n",
       "    .dataframe tbody tr th {\n",
       "        vertical-align: top;\n",
       "    }\n",
       "\n",
       "    .dataframe thead th {\n",
       "        text-align: right;\n",
       "    }\n",
       "</style>\n",
       "<table border=\"1\" class=\"dataframe\">\n",
       "  <thead>\n",
       "    <tr style=\"text-align: right;\">\n",
       "      <th></th>\n",
       "      <th>channelTitle</th>\n",
       "      <th>title</th>\n",
       "      <th>description</th>\n",
       "      <th>tags</th>\n",
       "      <th>publishedAt</th>\n",
       "      <th>viewCount</th>\n",
       "      <th>likeCount</th>\n",
       "      <th>commentCount</th>\n",
       "      <th>categoryTitle</th>\n",
       "    </tr>\n",
       "  </thead>\n",
       "  <tbody>\n",
       "    <tr>\n",
       "      <th>0</th>\n",
       "      <td>TaylorSwiftVEVO</td>\n",
       "      <td>Taylor Swift - Bejeweled (Official Music Video)</td>\n",
       "      <td>Official music video for “Bejeweled” by Taylor...</td>\n",
       "      <td>[taylor swift, taylor, swift, bejeweled, midni...</td>\n",
       "      <td>2022-10-25T04:00:09Z</td>\n",
       "      <td>9123178</td>\n",
       "      <td>923378</td>\n",
       "      <td>34704</td>\n",
       "      <td>Music</td>\n",
       "    </tr>\n",
       "    <tr>\n",
       "      <th>1</th>\n",
       "      <td>Marvel Entertainment</td>\n",
       "      <td>Marvel Studios’ Ant-Man and The Wasp: Quantuma...</td>\n",
       "      <td>This February, enter the Quantum Realm. Watch ...</td>\n",
       "      <td>[marvel, comics, official, mcu, ant-man, the w...</td>\n",
       "      <td>2022-10-24T16:00:40Z</td>\n",
       "      <td>16263548</td>\n",
       "      <td>799353</td>\n",
       "      <td>32207</td>\n",
       "      <td>Entertainment</td>\n",
       "    </tr>\n",
       "    <tr>\n",
       "      <th>2</th>\n",
       "      <td>Marvel Entertainment</td>\n",
       "      <td>Marvel Studios’ Special Presentation: The Guar...</td>\n",
       "      <td>This holiday season is going to be out of this...</td>\n",
       "      <td>[marvel, comics]</td>\n",
       "      <td>2022-10-25T18:30:18Z</td>\n",
       "      <td>2865802</td>\n",
       "      <td>183873</td>\n",
       "      <td>6236</td>\n",
       "      <td>Entertainment</td>\n",
       "    </tr>\n",
       "    <tr>\n",
       "      <th>3</th>\n",
       "      <td>The Tonight Show Starring Jimmy Fallon</td>\n",
       "      <td>Taylor Swift Spills on Record-Breaking Midnigh...</td>\n",
       "      <td>Taylor Swift talks about collaborating with Zo...</td>\n",
       "      <td>[tonight show, jimmy fallon, NBC, NBC TV, Tele...</td>\n",
       "      <td>2022-10-25T03:48:56Z</td>\n",
       "      <td>1656560</td>\n",
       "      <td>108119</td>\n",
       "      <td>3035</td>\n",
       "      <td>Comedy</td>\n",
       "    </tr>\n",
       "    <tr>\n",
       "      <th>4</th>\n",
       "      <td>The Official Pokémon YouTube channel</td>\n",
       "      <td>Meet Greavard, the Ghost Dog Pokémon! 🐶🕯️ | Po...</td>\n",
       "      <td>Greavard is so affectionate that paying it any...</td>\n",
       "      <td>[Pokemon Scarlet, Pokemon Violet, Generation 9...</td>\n",
       "      <td>2022-10-25T13:30:16Z</td>\n",
       "      <td>858651</td>\n",
       "      <td>47148</td>\n",
       "      <td>4141</td>\n",
       "      <td>Gaming</td>\n",
       "    </tr>\n",
       "  </tbody>\n",
       "</table>\n",
       "</div>"
      ],
      "text/plain": [
       "                             channelTitle  \\\n",
       "0                         TaylorSwiftVEVO   \n",
       "1                    Marvel Entertainment   \n",
       "2                    Marvel Entertainment   \n",
       "3  The Tonight Show Starring Jimmy Fallon   \n",
       "4    The Official Pokémon YouTube channel   \n",
       "\n",
       "                                               title  \\\n",
       "0    Taylor Swift - Bejeweled (Official Music Video)   \n",
       "1  Marvel Studios’ Ant-Man and The Wasp: Quantuma...   \n",
       "2  Marvel Studios’ Special Presentation: The Guar...   \n",
       "3  Taylor Swift Spills on Record-Breaking Midnigh...   \n",
       "4  Meet Greavard, the Ghost Dog Pokémon! 🐶🕯️ | Po...   \n",
       "\n",
       "                                         description  \\\n",
       "0  Official music video for “Bejeweled” by Taylor...   \n",
       "1  This February, enter the Quantum Realm. Watch ...   \n",
       "2  This holiday season is going to be out of this...   \n",
       "3  Taylor Swift talks about collaborating with Zo...   \n",
       "4  Greavard is so affectionate that paying it any...   \n",
       "\n",
       "                                                tags           publishedAt  \\\n",
       "0  [taylor swift, taylor, swift, bejeweled, midni...  2022-10-25T04:00:09Z   \n",
       "1  [marvel, comics, official, mcu, ant-man, the w...  2022-10-24T16:00:40Z   \n",
       "2                                   [marvel, comics]  2022-10-25T18:30:18Z   \n",
       "3  [tonight show, jimmy fallon, NBC, NBC TV, Tele...  2022-10-25T03:48:56Z   \n",
       "4  [Pokemon Scarlet, Pokemon Violet, Generation 9...  2022-10-25T13:30:16Z   \n",
       "\n",
       "  viewCount likeCount commentCount  categoryTitle  \n",
       "0   9123178    923378        34704          Music  \n",
       "1  16263548    799353        32207  Entertainment  \n",
       "2   2865802    183873         6236  Entertainment  \n",
       "3   1656560    108119         3035         Comedy  \n",
       "4    858651     47148         4141         Gaming  "
      ]
     },
     "execution_count": 21,
     "metadata": {},
     "output_type": "execute_result"
    }
   ],
   "source": [
    "popular_videos.head() "
   ]
  },
  {
   "cell_type": "code",
   "execution_count": 22,
   "id": "2469833e-f3af-491a-8b63-0083d3671d98",
   "metadata": {},
   "outputs": [
    {
     "data": {
      "text/plain": [
       "channelTitle     object\n",
       "title            object\n",
       "description      object\n",
       "tags             object\n",
       "publishedAt      object\n",
       "viewCount        object\n",
       "likeCount        object\n",
       "commentCount     object\n",
       "categoryTitle    object\n",
       "dtype: object"
      ]
     },
     "execution_count": 22,
     "metadata": {},
     "output_type": "execute_result"
    }
   ],
   "source": [
    "# Checking data types\n",
    "popular_videos.dtypes "
   ]
  },
  {
   "cell_type": "code",
   "execution_count": 24,
   "id": "286e91b8-1b36-444e-8dae-f3b05170c667",
   "metadata": {},
   "outputs": [],
   "source": [
    "# Convert count columns to numeric values\n",
    "numeric_cols = ['viewCount', 'likeCount', 'commentCount']\n",
    "popular_videos[numeric_cols] = popular_videos[numeric_cols].apply(pd.to_numeric, errors='coerce')"
   ]
  },
  {
   "cell_type": "code",
   "execution_count": 25,
   "id": "8d659b45-a2b4-4286-b1c5-2d40d2b5f8fb",
   "metadata": {},
   "outputs": [
    {
     "data": {
      "text/plain": [
       "channelTitle     object\n",
       "title            object\n",
       "description      object\n",
       "tags             object\n",
       "publishedAt      object\n",
       "viewCount         int64\n",
       "likeCount         int64\n",
       "commentCount      int64\n",
       "categoryTitle    object\n",
       "dtype: object"
      ]
     },
     "execution_count": 25,
     "metadata": {},
     "output_type": "execute_result"
    }
   ],
   "source": [
    "popular_videos.dtypes"
   ]
  },
  {
   "cell_type": "markdown",
   "id": "507e4adc-8845-4204-855c-7fdb7efe2fe0",
   "metadata": {},
   "source": [
    "### Enriching data"
   ]
  },
  {
   "cell_type": "code",
   "execution_count": null,
   "id": "932b3af0-f57b-497d-9967-7691b1464ccc",
   "metadata": {},
   "outputs": [],
   "source": []
  },
  {
   "cell_type": "markdown",
   "id": "e8042189-8721-4a8f-a0e5-31309160d1d5",
   "metadata": {},
   "source": [
    "### Getting channel statistics"
   ]
  },
  {
   "cell_type": "code",
   "execution_count": 62,
   "id": "ea7b09f5-ab73-419c-a261-add9dceea6fb",
   "metadata": {},
   "outputs": [],
   "source": [
    "def get_channel_stats(youtube, channel_ids):\n",
    "    \n",
    "    all_data = []\n",
    "    request = youtube.channels().list(\n",
    "                part='snippet,contentDetails,statistics',\n",
    "                id=','.join(channel_ids))\n",
    "    response = request.execute() \n",
    "    \n",
    "    for i in range(len(response['items'])):\n",
    "        data = dict(channelName = response['items'][i]['snippet']['title'],\n",
    "                    subscribers = response['items'][i]['statistics']['subscriberCount'],\n",
    "                    views = response['items'][i]['statistics']['viewCount'],\n",
    "                    totalVideos = response['items'][i]['statistics']['videoCount'])\n",
    "        all_data.append(data)\n",
    "    \n",
    "    return pd.DataFrame(all_data)"
   ]
  },
  {
   "cell_type": "code",
   "execution_count": 63,
   "id": "0e6a3345-c6d6-4491-b113-d231c0dd22b8",
   "metadata": {},
   "outputs": [],
   "source": [
    "channel_stats = get_channel_stats(youtube, channel_ids)"
   ]
  },
  {
   "cell_type": "code",
   "execution_count": 64,
   "id": "690ad38e-c8e4-4653-b332-2a10af4338ba",
   "metadata": {},
   "outputs": [
    {
     "data": {
      "text/html": [
       "<div>\n",
       "<style scoped>\n",
       "    .dataframe tbody tr th:only-of-type {\n",
       "        vertical-align: middle;\n",
       "    }\n",
       "\n",
       "    .dataframe tbody tr th {\n",
       "        vertical-align: top;\n",
       "    }\n",
       "\n",
       "    .dataframe thead th {\n",
       "        text-align: right;\n",
       "    }\n",
       "</style>\n",
       "<table border=\"1\" class=\"dataframe\">\n",
       "  <thead>\n",
       "    <tr style=\"text-align: right;\">\n",
       "      <th></th>\n",
       "      <th>channelName</th>\n",
       "      <th>subscribers</th>\n",
       "      <th>views</th>\n",
       "      <th>totalVideos</th>\n",
       "    </tr>\n",
       "  </thead>\n",
       "  <tbody>\n",
       "    <tr>\n",
       "      <th>0</th>\n",
       "      <td>MrBeast</td>\n",
       "      <td>107000000</td>\n",
       "      <td>17814252847</td>\n",
       "      <td>731</td>\n",
       "    </tr>\n",
       "    <tr>\n",
       "      <th>1</th>\n",
       "      <td>Marvel Entertainment</td>\n",
       "      <td>19800000</td>\n",
       "      <td>5269340734</td>\n",
       "      <td>8134</td>\n",
       "    </tr>\n",
       "    <tr>\n",
       "      <th>2</th>\n",
       "      <td>Apex Legends</td>\n",
       "      <td>2770000</td>\n",
       "      <td>515128199</td>\n",
       "      <td>148</td>\n",
       "    </tr>\n",
       "    <tr>\n",
       "      <th>3</th>\n",
       "      <td>TaylorSwiftVEVO</td>\n",
       "      <td>25800000</td>\n",
       "      <td>23724681577</td>\n",
       "      <td>261</td>\n",
       "    </tr>\n",
       "    <tr>\n",
       "      <th>4</th>\n",
       "      <td>Fox League</td>\n",
       "      <td>78300</td>\n",
       "      <td>67192226</td>\n",
       "      <td>1164</td>\n",
       "    </tr>\n",
       "    <tr>\n",
       "      <th>5</th>\n",
       "      <td>REAL ONES with Jon Bernthal</td>\n",
       "      <td>399000</td>\n",
       "      <td>14576555</td>\n",
       "      <td>53</td>\n",
       "    </tr>\n",
       "    <tr>\n",
       "      <th>6</th>\n",
       "      <td>KairosTime Gaming</td>\n",
       "      <td>904000</td>\n",
       "      <td>256718647</td>\n",
       "      <td>1028</td>\n",
       "    </tr>\n",
       "    <tr>\n",
       "      <th>7</th>\n",
       "      <td>Bailey Sarian</td>\n",
       "      <td>6610000</td>\n",
       "      <td>851791411</td>\n",
       "      <td>471</td>\n",
       "    </tr>\n",
       "    <tr>\n",
       "      <th>8</th>\n",
       "      <td>Sophia Grace</td>\n",
       "      <td>3410000</td>\n",
       "      <td>829760263</td>\n",
       "      <td>145</td>\n",
       "    </tr>\n",
       "    <tr>\n",
       "      <th>9</th>\n",
       "      <td>XXXTENTACION</td>\n",
       "      <td>38000000</td>\n",
       "      <td>9928195936</td>\n",
       "      <td>127</td>\n",
       "    </tr>\n",
       "    <tr>\n",
       "      <th>10</th>\n",
       "      <td>NBA</td>\n",
       "      <td>19300000</td>\n",
       "      <td>11013016139</td>\n",
       "      <td>42814</td>\n",
       "    </tr>\n",
       "    <tr>\n",
       "      <th>11</th>\n",
       "      <td>SiriusXM</td>\n",
       "      <td>1290000</td>\n",
       "      <td>841120404</td>\n",
       "      <td>7658</td>\n",
       "    </tr>\n",
       "    <tr>\n",
       "      <th>12</th>\n",
       "      <td>The Arnold Sisters</td>\n",
       "      <td>147000</td>\n",
       "      <td>29493359</td>\n",
       "      <td>275</td>\n",
       "    </tr>\n",
       "    <tr>\n",
       "      <th>13</th>\n",
       "      <td>EazySpeezy</td>\n",
       "      <td>2280000</td>\n",
       "      <td>543800573</td>\n",
       "      <td>442</td>\n",
       "    </tr>\n",
       "    <tr>\n",
       "      <th>14</th>\n",
       "      <td>SacredBricks</td>\n",
       "      <td>550000</td>\n",
       "      <td>113765016</td>\n",
       "      <td>109</td>\n",
       "    </tr>\n",
       "    <tr>\n",
       "      <th>15</th>\n",
       "      <td>Brandon Butch</td>\n",
       "      <td>954000</td>\n",
       "      <td>297441642</td>\n",
       "      <td>1333</td>\n",
       "    </tr>\n",
       "    <tr>\n",
       "      <th>16</th>\n",
       "      <td>SWISHOUT</td>\n",
       "      <td>339000</td>\n",
       "      <td>68549289</td>\n",
       "      <td>307</td>\n",
       "    </tr>\n",
       "    <tr>\n",
       "      <th>17</th>\n",
       "      <td>The Late Late Show with James Corden</td>\n",
       "      <td>28000000</td>\n",
       "      <td>10135338522</td>\n",
       "      <td>5575</td>\n",
       "    </tr>\n",
       "    <tr>\n",
       "      <th>18</th>\n",
       "      <td>MAZELEE</td>\n",
       "      <td>2300000</td>\n",
       "      <td>421252899</td>\n",
       "      <td>453</td>\n",
       "    </tr>\n",
       "    <tr>\n",
       "      <th>19</th>\n",
       "      <td>Ryan Hall, Y'all XTRA</td>\n",
       "      <td>36000</td>\n",
       "      <td>1176656</td>\n",
       "      <td>21</td>\n",
       "    </tr>\n",
       "    <tr>\n",
       "      <th>20</th>\n",
       "      <td>NFL</td>\n",
       "      <td>10000000</td>\n",
       "      <td>7357526863</td>\n",
       "      <td>26962</td>\n",
       "    </tr>\n",
       "    <tr>\n",
       "      <th>21</th>\n",
       "      <td>morgans vlogs</td>\n",
       "      <td>545000</td>\n",
       "      <td>43780857</td>\n",
       "      <td>79</td>\n",
       "    </tr>\n",
       "    <tr>\n",
       "      <th>22</th>\n",
       "      <td>CrankGameplays</td>\n",
       "      <td>2100000</td>\n",
       "      <td>197200448</td>\n",
       "      <td>2304</td>\n",
       "    </tr>\n",
       "    <tr>\n",
       "      <th>23</th>\n",
       "      <td>Luke Kwon Golf</td>\n",
       "      <td>83300</td>\n",
       "      <td>3334231</td>\n",
       "      <td>61</td>\n",
       "    </tr>\n",
       "    <tr>\n",
       "      <th>24</th>\n",
       "      <td>CNA</td>\n",
       "      <td>1910000</td>\n",
       "      <td>777981218</td>\n",
       "      <td>27949</td>\n",
       "    </tr>\n",
       "    <tr>\n",
       "      <th>25</th>\n",
       "      <td>MongoTV</td>\n",
       "      <td>17700</td>\n",
       "      <td>2473635</td>\n",
       "      <td>15</td>\n",
       "    </tr>\n",
       "    <tr>\n",
       "      <th>26</th>\n",
       "      <td>FOX 2 St. Louis</td>\n",
       "      <td>177000</td>\n",
       "      <td>135078224</td>\n",
       "      <td>43488</td>\n",
       "    </tr>\n",
       "    <tr>\n",
       "      <th>27</th>\n",
       "      <td>FOX 11 Los Angeles</td>\n",
       "      <td>641000</td>\n",
       "      <td>552615026</td>\n",
       "      <td>12006</td>\n",
       "    </tr>\n",
       "    <tr>\n",
       "      <th>28</th>\n",
       "      <td>Alex Meyers</td>\n",
       "      <td>3190000</td>\n",
       "      <td>584261221</td>\n",
       "      <td>297</td>\n",
       "    </tr>\n",
       "    <tr>\n",
       "      <th>29</th>\n",
       "      <td>Megyn Kelly</td>\n",
       "      <td>588000</td>\n",
       "      <td>103630636</td>\n",
       "      <td>1557</td>\n",
       "    </tr>\n",
       "    <tr>\n",
       "      <th>30</th>\n",
       "      <td>Doctor Who</td>\n",
       "      <td>1650000</td>\n",
       "      <td>713936776</td>\n",
       "      <td>2211</td>\n",
       "    </tr>\n",
       "    <tr>\n",
       "      <th>31</th>\n",
       "      <td>FREESTYLEBENDER</td>\n",
       "      <td>863000</td>\n",
       "      <td>72193511</td>\n",
       "      <td>136</td>\n",
       "    </tr>\n",
       "    <tr>\n",
       "      <th>32</th>\n",
       "      <td>LDShadowLady</td>\n",
       "      <td>6970000</td>\n",
       "      <td>3220397671</td>\n",
       "      <td>1050</td>\n",
       "    </tr>\n",
       "    <tr>\n",
       "      <th>33</th>\n",
       "      <td>The Tonight Show Starring Jimmy Fallon</td>\n",
       "      <td>30300000</td>\n",
       "      <td>16358597255</td>\n",
       "      <td>8117</td>\n",
       "    </tr>\n",
       "    <tr>\n",
       "      <th>34</th>\n",
       "      <td>Cody &amp; Ko</td>\n",
       "      <td>1500000</td>\n",
       "      <td>117291047</td>\n",
       "      <td>113</td>\n",
       "    </tr>\n",
       "    <tr>\n",
       "      <th>35</th>\n",
       "      <td>The Official Pokémon YouTube channel</td>\n",
       "      <td>5020000</td>\n",
       "      <td>1638806230</td>\n",
       "      <td>2065</td>\n",
       "    </tr>\n",
       "    <tr>\n",
       "      <th>36</th>\n",
       "      <td>Jaiden Animations</td>\n",
       "      <td>11500000</td>\n",
       "      <td>2147231710</td>\n",
       "      <td>102</td>\n",
       "    </tr>\n",
       "    <tr>\n",
       "      <th>37</th>\n",
       "      <td>Mark Rober</td>\n",
       "      <td>22700000</td>\n",
       "      <td>3065718711</td>\n",
       "      <td>108</td>\n",
       "    </tr>\n",
       "    <tr>\n",
       "      <th>38</th>\n",
       "      <td>BamaBass</td>\n",
       "      <td>849000</td>\n",
       "      <td>147179505</td>\n",
       "      <td>524</td>\n",
       "    </tr>\n",
       "    <tr>\n",
       "      <th>39</th>\n",
       "      <td>Ski Mask The Slump God</td>\n",
       "      <td>1760000</td>\n",
       "      <td>549241647</td>\n",
       "      <td>33</td>\n",
       "    </tr>\n",
       "    <tr>\n",
       "      <th>40</th>\n",
       "      <td>Travis Hunter</td>\n",
       "      <td>29900</td>\n",
       "      <td>903870</td>\n",
       "      <td>9</td>\n",
       "    </tr>\n",
       "    <tr>\n",
       "      <th>41</th>\n",
       "      <td>ScreenCrush</td>\n",
       "      <td>1290000</td>\n",
       "      <td>371562224</td>\n",
       "      <td>1363</td>\n",
       "    </tr>\n",
       "    <tr>\n",
       "      <th>42</th>\n",
       "      <td>Joe Scott</td>\n",
       "      <td>1460000</td>\n",
       "      <td>271989806</td>\n",
       "      <td>750</td>\n",
       "    </tr>\n",
       "    <tr>\n",
       "      <th>43</th>\n",
       "      <td>Toya Johnson</td>\n",
       "      <td>126000</td>\n",
       "      <td>9787949</td>\n",
       "      <td>47</td>\n",
       "    </tr>\n",
       "    <tr>\n",
       "      <th>44</th>\n",
       "      <td>DV Plays</td>\n",
       "      <td>497000</td>\n",
       "      <td>118750592</td>\n",
       "      <td>946</td>\n",
       "    </tr>\n",
       "    <tr>\n",
       "      <th>45</th>\n",
       "      <td>Jesser</td>\n",
       "      <td>8210000</td>\n",
       "      <td>1950025358</td>\n",
       "      <td>1123</td>\n",
       "    </tr>\n",
       "  </tbody>\n",
       "</table>\n",
       "</div>"
      ],
      "text/plain": [
       "                               channelName subscribers        views  \\\n",
       "0                                  MrBeast   107000000  17814252847   \n",
       "1                     Marvel Entertainment    19800000   5269340734   \n",
       "2                             Apex Legends     2770000    515128199   \n",
       "3                          TaylorSwiftVEVO    25800000  23724681577   \n",
       "4                               Fox League       78300     67192226   \n",
       "5              REAL ONES with Jon Bernthal      399000     14576555   \n",
       "6                        KairosTime Gaming      904000    256718647   \n",
       "7                            Bailey Sarian     6610000    851791411   \n",
       "8                             Sophia Grace     3410000    829760263   \n",
       "9                             XXXTENTACION    38000000   9928195936   \n",
       "10                                     NBA    19300000  11013016139   \n",
       "11                                SiriusXM     1290000    841120404   \n",
       "12                      The Arnold Sisters      147000     29493359   \n",
       "13                              EazySpeezy     2280000    543800573   \n",
       "14                            SacredBricks      550000    113765016   \n",
       "15                           Brandon Butch      954000    297441642   \n",
       "16                                SWISHOUT      339000     68549289   \n",
       "17    The Late Late Show with James Corden    28000000  10135338522   \n",
       "18                                 MAZELEE     2300000    421252899   \n",
       "19                   Ryan Hall, Y'all XTRA       36000      1176656   \n",
       "20                                     NFL    10000000   7357526863   \n",
       "21                           morgans vlogs      545000     43780857   \n",
       "22                          CrankGameplays     2100000    197200448   \n",
       "23                          Luke Kwon Golf       83300      3334231   \n",
       "24                                     CNA     1910000    777981218   \n",
       "25                                 MongoTV       17700      2473635   \n",
       "26                         FOX 2 St. Louis      177000    135078224   \n",
       "27                      FOX 11 Los Angeles      641000    552615026   \n",
       "28                             Alex Meyers     3190000    584261221   \n",
       "29                             Megyn Kelly      588000    103630636   \n",
       "30                              Doctor Who     1650000    713936776   \n",
       "31                         FREESTYLEBENDER      863000     72193511   \n",
       "32                            LDShadowLady     6970000   3220397671   \n",
       "33  The Tonight Show Starring Jimmy Fallon    30300000  16358597255   \n",
       "34                               Cody & Ko     1500000    117291047   \n",
       "35    The Official Pokémon YouTube channel     5020000   1638806230   \n",
       "36                       Jaiden Animations    11500000   2147231710   \n",
       "37                              Mark Rober    22700000   3065718711   \n",
       "38                                BamaBass      849000    147179505   \n",
       "39                  Ski Mask The Slump God     1760000    549241647   \n",
       "40                           Travis Hunter       29900       903870   \n",
       "41                             ScreenCrush     1290000    371562224   \n",
       "42                               Joe Scott     1460000    271989806   \n",
       "43                            Toya Johnson      126000      9787949   \n",
       "44                                DV Plays      497000    118750592   \n",
       "45                                  Jesser     8210000   1950025358   \n",
       "\n",
       "   totalVideos  \n",
       "0          731  \n",
       "1         8134  \n",
       "2          148  \n",
       "3          261  \n",
       "4         1164  \n",
       "5           53  \n",
       "6         1028  \n",
       "7          471  \n",
       "8          145  \n",
       "9          127  \n",
       "10       42814  \n",
       "11        7658  \n",
       "12         275  \n",
       "13         442  \n",
       "14         109  \n",
       "15        1333  \n",
       "16         307  \n",
       "17        5575  \n",
       "18         453  \n",
       "19          21  \n",
       "20       26962  \n",
       "21          79  \n",
       "22        2304  \n",
       "23          61  \n",
       "24       27949  \n",
       "25          15  \n",
       "26       43488  \n",
       "27       12006  \n",
       "28         297  \n",
       "29        1557  \n",
       "30        2211  \n",
       "31         136  \n",
       "32        1050  \n",
       "33        8117  \n",
       "34         113  \n",
       "35        2065  \n",
       "36         102  \n",
       "37         108  \n",
       "38         524  \n",
       "39          33  \n",
       "40           9  \n",
       "41        1363  \n",
       "42         750  \n",
       "43          47  \n",
       "44         946  \n",
       "45        1123  "
      ]
     },
     "execution_count": 64,
     "metadata": {},
     "output_type": "execute_result"
    }
   ],
   "source": [
    "channel_stats"
   ]
  },
  {
   "cell_type": "code",
   "execution_count": 65,
   "id": "2ba0d51f-d77a-48b5-a75c-060183cc47e2",
   "metadata": {},
   "outputs": [
    {
     "data": {
      "text/plain": [
       "channelName    object\n",
       "subscribers    object\n",
       "views          object\n",
       "totalVideos    object\n",
       "dtype: object"
      ]
     },
     "execution_count": 65,
     "metadata": {},
     "output_type": "execute_result"
    }
   ],
   "source": [
    "channel_stats.dtypes"
   ]
  },
  {
   "cell_type": "code",
   "execution_count": 70,
   "id": "71cc2a13-cc2a-4bb2-8b9a-094769f6d115",
   "metadata": {},
   "outputs": [],
   "source": [
    "# Convert count columns to numeric columns\n",
    "numeric_cols = ['subscribers', 'views', 'totalVideos']\n",
    "channel_stats[numeric_cols] = channel_stats[numeric_cols].apply(pd.to_numeric, errors='coerce')"
   ]
  },
  {
   "cell_type": "code",
   "execution_count": 71,
   "id": "48497016-7d67-4420-afee-b8ae87240d5d",
   "metadata": {},
   "outputs": [
    {
     "data": {
      "text/plain": [
       "channelName    object\n",
       "subscribers     int64\n",
       "views           int64\n",
       "totalVideos     int64\n",
       "dtype: object"
      ]
     },
     "execution_count": 71,
     "metadata": {},
     "output_type": "execute_result"
    }
   ],
   "source": [
    "channel_stats.dtypes"
   ]
  },
  {
   "cell_type": "markdown",
   "id": "4b7f8617-bbd0-4c6e-9398-db10b2d87bf8",
   "metadata": {},
   "source": [
    "### Data Visualization"
   ]
  },
  {
   "cell_type": "code",
   "execution_count": 72,
   "id": "64491e26-be94-43ad-b552-4f5491e31b32",
   "metadata": {},
   "outputs": [
    {
     "data": {
      "text/plain": [
       "<AxesSubplot:xlabel='views', ylabel='subscribers'>"
      ]
     },
     "execution_count": 72,
     "metadata": {},
     "output_type": "execute_result"
    },
    {
     "data": {
      "image/png": "[encoded data removed]",
      "text/plain": [
       "<Figure size 800x600 with 1 Axes>"
      ]
     },
     "metadata": {},
     "output_type": "display_data"
    }
   ],
   "source": [
    "# Subscribers vs views\n",
    "sns.scatterplot(data = channel_stats, x = \"views\", y = \"subscribers\")"
   ]
  },
  {
   "cell_type": "code",
   "execution_count": 41,
   "id": "edf476e3-21c2-4148-972f-746908b647d6",
   "metadata": {},
   "outputs": [
    {
     "data": {
      "image/png": "[encoded data removed]",
      "text/plain": [
       "<Figure size 800x600 with 1 Axes>"
      ]
     },
     "metadata": {},
     "output_type": "display_data"
    }
   ],
   "source": [
    "# Bar chart of subscribers count of channels that produced the popular videos\n",
    "sns.set(rc={'figure.figsize':(8,6)})\n",
    "ax = sns.barplot(x='channelName', y='subscribers', data=channel_stats.sort_values('subscribers', ascending=False))\n",
    "ax.yaxis.set_major_formatter(ticker.FuncFormatter(lambda x, pos: '{:,.0f}'.format(x/1000000) + 'M'))\n",
    "plot = ax.set_xticklabels(ax.get_xticklabels(), rotation = 90)"
   ]
  },
  {
   "cell_type": "code",
   "execution_count": 36,
   "id": "e9607842-c8bd-47ea-93a2-b78199c257a1",
   "metadata": {},
   "outputs": [],
   "source": [
    "subscribers = channel_stats['subscribers']\n",
    "subscribers_groups = []\n",
    "subscribers_groups.append(subscribers.where(subscribers > 30000000).count())\n",
    "subscribers_groups.append(subscribers.where((subscribers < 30000000) & (subscribers >= 15000000)).count())\n",
    "subscribers_groups.append(subscribers.where((subscribers < 15000000) & (subscribers >= 5000000)).count())\n",
    "subscribers_groups.append(subscribers.where((subscribers < 5000000) & (subscribers >= 1000000)).count())\n",
    "subscribers_groups.append(subscribers.where((subscribers < 1000000) & (subscribers >= 500000)).count())\n",
    "subscribers_groups.append(subscribers.where(subscribers < 500000).count())"
   ]
  },
  {
   "cell_type": "code",
   "execution_count": 38,
   "id": "0bf39302-1728-40b1-a887-b4f8d3a29e64",
   "metadata": {},
   "outputs": [],
   "source": [
    "subscribers_labels = ['> 30M', '15M - 30M', '5M - 15M', '1M - 5M', '500K - 1M', '< 500k']"
   ]
  },
  {
   "cell_type": "code",
   "execution_count": 43,
   "id": "f0da0124-4617-4f7f-873c-57a67a530121",
   "metadata": {},
   "outputs": [
    {
     "data": {
      "image/png": "[encoded data removed]",
      "text/plain": [
       "<Figure size 600x600 with 1 Axes>"
      ]
     },
     "metadata": {},
     "output_type": "display_data"
    }
   ],
   "source": [
    "# Pie chart of percentage of channels that falls into each category of subscribers count\n",
    "plt.figure(figsize=(6, 6))\n",
    "colors = sns.color_palette('pastel')\n",
    "plt.pie(subscribers_groups, autopct='%.0f%%', colors=colors)\n",
    "plt.legend(subscribers_labels, loc='best')\n",
    "plt.show()"
   ]
  },
  {
   "cell_type": "code",
   "execution_count": 73,
   "id": "0c544399-4cf1-41de-adb3-7fe2888d554e",
   "metadata": {},
   "outputs": [
    {
     "data": {
      "text/plain": [
       "<AxesSubplot:xlabel='likeCount', ylabel='viewCount'>"
      ]
     },
     "execution_count": 73,
     "metadata": {},
     "output_type": "execute_result"
    },
    {
     "data": {
      "image/png": "[encoded data removed]",
      "text/plain": [
       "<Figure size 800x600 with 2 Axes>"
      ]
     },
     "metadata": {},
     "output_type": "display_data"
    }
   ],
   "source": [
    "# Views vs comments + views vs like count\n",
    "fig, ax =plt.subplots(1,2)\n",
    "sns.scatterplot(data = popular_videos, x = \"commentCount\", y = \"viewCount\", ax=ax[0])\n",
    "sns.scatterplot(data = popular_videos, x = \"likeCount\", y = \"viewCount\", ax=ax[1])"
   ]
  }
 ],
 "metadata": {
  "kernelspec": {
   "display_name": "Python 3 (ipykernel)",
   "language": "python",
   "name": "python3"
  },
  "language_info": {
   "codemirror_mode": {
    "name": "ipython",
    "version": 3
   },
   "file_extension": ".py",
   "mimetype": "text/x-python",
   "name": "python",
   "nbconvert_exporter": "python",
   "pygments_lexer": "ipython3",
   "version": "3.9.2"
  },
  "toc-autonumbering": false
 },
 "nbformat": 4,
 "nbformat_minor": 5
}
